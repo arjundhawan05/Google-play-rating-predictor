{
 "cells": [
  {
   "cell_type": "code",
   "execution_count": 1,
   "metadata": {},
   "outputs": [
    {
     "name": "stderr",
     "output_type": "stream",
     "text": [
      "/usr/local/lib/python3.6/dist-packages/sklearn/cross_validation.py:41: DeprecationWarning: This module was deprecated in version 0.18 in favor of the model_selection module into which all the refactored classes and functions are moved. Also note that the interface of the new CV iterators are different from that of this module. This module will be removed in 0.20.\n",
      "  \"This module will be removed in 0.20.\", DeprecationWarning)\n",
      "/usr/local/lib/python3.6/dist-packages/sklearn/ensemble/weight_boosting.py:29: DeprecationWarning: numpy.core.umath_tests is an internal NumPy module and should not be imported. It will be removed in a future NumPy release.\n",
      "  from numpy.core.umath_tests import inner1d\n"
     ]
    }
   ],
   "source": [
    "import pandas as pd\n",
    "import numpy as np\n",
    "import seaborn as sns\n",
    "from sklearn import metrics\n",
    "from sklearn.cross_validation import train_test_split\n",
    "import random\n",
    "import matplotlib.pyplot as plt\n",
    "%matplotlib inline\n",
    "from sklearn import preprocessing\n",
    "from sklearn.neighbors import KNeighborsRegressor\n",
    "from sklearn.ensemble import RandomForestRegressor"
   ]
  },
  {
   "cell_type": "code",
   "execution_count": 2,
   "metadata": {},
   "outputs": [],
   "source": [
    "df = pd.read_csv(\"googleplaystore.csv\")"
   ]
  },
  {
   "cell_type": "code",
   "execution_count": 3,
   "metadata": {
    "scrolled": true
   },
   "outputs": [
    {
     "data": {
      "text/html": [
       "<div>\n",
       "<style scoped>\n",
       "    .dataframe tbody tr th:only-of-type {\n",
       "        vertical-align: middle;\n",
       "    }\n",
       "\n",
       "    .dataframe tbody tr th {\n",
       "        vertical-align: top;\n",
       "    }\n",
       "\n",
       "    .dataframe thead th {\n",
       "        text-align: right;\n",
       "    }\n",
       "</style>\n",
       "<table border=\"1\" class=\"dataframe\">\n",
       "  <thead>\n",
       "    <tr style=\"text-align: right;\">\n",
       "      <th></th>\n",
       "      <th>App</th>\n",
       "      <th>Category</th>\n",
       "      <th>Rating</th>\n",
       "      <th>Reviews</th>\n",
       "      <th>Size</th>\n",
       "      <th>Installs</th>\n",
       "      <th>Type</th>\n",
       "      <th>Price</th>\n",
       "      <th>Content Rating</th>\n",
       "      <th>Genres</th>\n",
       "      <th>Last Updated</th>\n",
       "      <th>Current Ver</th>\n",
       "      <th>Android Ver</th>\n",
       "    </tr>\n",
       "  </thead>\n",
       "  <tbody>\n",
       "    <tr>\n",
       "      <th>0</th>\n",
       "      <td>Photo Editor &amp; Candy Camera &amp; Grid &amp; ScrapBook</td>\n",
       "      <td>ART_AND_DESIGN</td>\n",
       "      <td>4.1</td>\n",
       "      <td>159</td>\n",
       "      <td>19M</td>\n",
       "      <td>10,000+</td>\n",
       "      <td>Free</td>\n",
       "      <td>0</td>\n",
       "      <td>Everyone</td>\n",
       "      <td>Art &amp; Design</td>\n",
       "      <td>January 7, 2018</td>\n",
       "      <td>1.0.0</td>\n",
       "      <td>4.0.3 and up</td>\n",
       "    </tr>\n",
       "    <tr>\n",
       "      <th>1</th>\n",
       "      <td>Coloring book moana</td>\n",
       "      <td>ART_AND_DESIGN</td>\n",
       "      <td>3.9</td>\n",
       "      <td>967</td>\n",
       "      <td>14M</td>\n",
       "      <td>500,000+</td>\n",
       "      <td>Free</td>\n",
       "      <td>0</td>\n",
       "      <td>Everyone</td>\n",
       "      <td>Art &amp; Design;Pretend Play</td>\n",
       "      <td>January 15, 2018</td>\n",
       "      <td>2.0.0</td>\n",
       "      <td>4.0.3 and up</td>\n",
       "    </tr>\n",
       "    <tr>\n",
       "      <th>2</th>\n",
       "      <td>U Launcher Lite – FREE Live Cool Themes, Hide ...</td>\n",
       "      <td>ART_AND_DESIGN</td>\n",
       "      <td>4.7</td>\n",
       "      <td>87510</td>\n",
       "      <td>8.7M</td>\n",
       "      <td>5,000,000+</td>\n",
       "      <td>Free</td>\n",
       "      <td>0</td>\n",
       "      <td>Everyone</td>\n",
       "      <td>Art &amp; Design</td>\n",
       "      <td>August 1, 2018</td>\n",
       "      <td>1.2.4</td>\n",
       "      <td>4.0.3 and up</td>\n",
       "    </tr>\n",
       "    <tr>\n",
       "      <th>3</th>\n",
       "      <td>Sketch - Draw &amp; Paint</td>\n",
       "      <td>ART_AND_DESIGN</td>\n",
       "      <td>4.5</td>\n",
       "      <td>215644</td>\n",
       "      <td>25M</td>\n",
       "      <td>50,000,000+</td>\n",
       "      <td>Free</td>\n",
       "      <td>0</td>\n",
       "      <td>Teen</td>\n",
       "      <td>Art &amp; Design</td>\n",
       "      <td>June 8, 2018</td>\n",
       "      <td>Varies with device</td>\n",
       "      <td>4.2 and up</td>\n",
       "    </tr>\n",
       "    <tr>\n",
       "      <th>4</th>\n",
       "      <td>Pixel Draw - Number Art Coloring Book</td>\n",
       "      <td>ART_AND_DESIGN</td>\n",
       "      <td>4.3</td>\n",
       "      <td>967</td>\n",
       "      <td>2.8M</td>\n",
       "      <td>100,000+</td>\n",
       "      <td>Free</td>\n",
       "      <td>0</td>\n",
       "      <td>Everyone</td>\n",
       "      <td>Art &amp; Design;Creativity</td>\n",
       "      <td>June 20, 2018</td>\n",
       "      <td>1.1</td>\n",
       "      <td>4.4 and up</td>\n",
       "    </tr>\n",
       "  </tbody>\n",
       "</table>\n",
       "</div>"
      ],
      "text/plain": [
       "                                                 App        Category  Rating  \\\n",
       "0     Photo Editor & Candy Camera & Grid & ScrapBook  ART_AND_DESIGN     4.1   \n",
       "1                                Coloring book moana  ART_AND_DESIGN     3.9   \n",
       "2  U Launcher Lite – FREE Live Cool Themes, Hide ...  ART_AND_DESIGN     4.7   \n",
       "3                              Sketch - Draw & Paint  ART_AND_DESIGN     4.5   \n",
       "4              Pixel Draw - Number Art Coloring Book  ART_AND_DESIGN     4.3   \n",
       "\n",
       "  Reviews  Size     Installs  Type Price Content Rating  \\\n",
       "0     159   19M      10,000+  Free     0       Everyone   \n",
       "1     967   14M     500,000+  Free     0       Everyone   \n",
       "2   87510  8.7M   5,000,000+  Free     0       Everyone   \n",
       "3  215644   25M  50,000,000+  Free     0           Teen   \n",
       "4     967  2.8M     100,000+  Free     0       Everyone   \n",
       "\n",
       "                      Genres      Last Updated         Current Ver  \\\n",
       "0               Art & Design   January 7, 2018               1.0.0   \n",
       "1  Art & Design;Pretend Play  January 15, 2018               2.0.0   \n",
       "2               Art & Design    August 1, 2018               1.2.4   \n",
       "3               Art & Design      June 8, 2018  Varies with device   \n",
       "4    Art & Design;Creativity     June 20, 2018                 1.1   \n",
       "\n",
       "    Android Ver  \n",
       "0  4.0.3 and up  \n",
       "1  4.0.3 and up  \n",
       "2  4.0.3 and up  \n",
       "3    4.2 and up  \n",
       "4    4.4 and up  "
      ]
     },
     "execution_count": 3,
     "metadata": {},
     "output_type": "execute_result"
    }
   ],
   "source": [
    "df.head()"
   ]
  },
  {
   "cell_type": "code",
   "execution_count": 4,
   "metadata": {},
   "outputs": [
    {
     "name": "stdout",
     "output_type": "stream",
     "text": [
      "Int64Index([10472], dtype='int64')\n"
     ]
    }
   ],
   "source": [
    "i = df[df['Category'] == '1.9'].index\n",
    "df.loc[i]\n",
    "print(i)\n",
    "df = df.drop(i)"
   ]
  },
  {
   "cell_type": "markdown",
   "metadata": {},
   "source": [
    "## Let us first visualise the dataset"
   ]
  },
  {
   "cell_type": "code",
   "execution_count": 5,
   "metadata": {},
   "outputs": [
    {
     "data": {
      "image/png": "[encoded data removed]",
      "text/plain": [
       "<Figure size 720x288 with 1 Axes>"
      ]
     },
     "metadata": {},
     "output_type": "display_data"
    }
   ],
   "source": [
    "plt.figure(figsize = (10, 4))\n",
    "ax = sns.countplot(df['Category'], orient = 'v')\n",
    "ax.set_xticklabels(ax.get_xticklabels(), rotation = 40, ha = 'right')\n",
    "plt.show()"
   ]
  },
  {
   "cell_type": "code",
   "execution_count": 6,
   "metadata": {},
   "outputs": [
    {
     "data": {
      "image/png": "[encoded data removed]",
      "text/plain": [
       "<Figure size 432x288 with 1 Axes>"
      ]
     },
     "metadata": {},
     "output_type": "display_data"
    }
   ],
   "source": [
    "plt.figure()\n",
    "plt.title('Do we have more free apps than pay apps?')\n",
    "ax = sns.countplot(df['Type'].loc[df['Type'] != '0'])\n",
    "plt.show()"
   ]
  },
  {
   "cell_type": "code",
   "execution_count": 7,
   "metadata": {},
   "outputs": [
    {
     "name": "stdout",
     "output_type": "stream",
     "text": [
      "All the unique prices\n",
      "['0' '$4.99' '$3.99' '$6.99' '$1.49' '$2.99' '$7.99' '$5.99' '$3.49'\n",
      " '$1.99' '$9.99' '$7.49' '$0.99' '$9.00' '$5.49' '$10.00' '$24.99'\n",
      " '$11.99' '$79.99' '$16.99' '$14.99' '$1.00' '$29.99' '$12.99' '$2.49'\n",
      " '$10.99' '$1.50' '$19.99' '$15.99' '$33.99' '$74.99' '$39.99' '$3.95'\n",
      " '$4.49' '$1.70' '$8.99' '$2.00' '$3.88' '$25.99' '$399.99' '$17.99'\n",
      " '$400.00' '$3.02' '$1.76' '$4.84' '$4.77' '$1.61' '$2.50' '$1.59' '$6.49'\n",
      " '$1.29' '$5.00' '$13.99' '$299.99' '$379.99' '$37.99' '$18.99' '$389.99'\n",
      " '$19.90' '$8.49' '$1.75' '$14.00' '$4.85' '$46.99' '$109.99' '$154.99'\n",
      " '$3.08' '$2.59' '$4.80' '$1.96' '$19.40' '$3.90' '$4.59' '$15.46' '$3.04'\n",
      " '$4.29' '$2.60' '$3.28' '$4.60' '$28.99' '$2.95' '$2.90' '$1.97'\n",
      " '$200.00' '$89.99' '$2.56' '$30.99' '$3.61' '$394.99' '$1.26' '$1.20'\n",
      " '$1.04']\n",
      "\n",
      "No. of unique prices = 92\n"
     ]
    }
   ],
   "source": [
    "prices = df['Price'].unique()\n",
    "print(\"All the unique prices\")\n",
    "print(prices)\n",
    "print()\n",
    "print(\"No. of unique prices = \"+str(prices.shape[0]))"
   ]
  },
  {
   "cell_type": "code",
   "execution_count": 8,
   "metadata": {},
   "outputs": [
    {
     "name": "stderr",
     "output_type": "stream",
     "text": [
      "/usr/local/lib/python3.6/dist-packages/scipy/stats/stats.py:1713: FutureWarning: Using a non-tuple sequence for multidimensional indexing is deprecated; use `arr[tuple(seq)]` instead of `arr[seq]`. In the future this will be interpreted as an array index, `arr[np.array(seq)]`, which will result either in an error or a different result.\n",
      "  return np.add.reduce(sorted[indexer] * weights, axis=axis) / sumval\n"
     ]
    },
    {
     "data": {
      "image/png": "[encoded data removed]",
      "text/plain": [
       "<Figure size 1440x720 with 1 Axes>"
      ]
     },
     "metadata": {},
     "output_type": "display_data"
    }
   ],
   "source": [
    "#raitng visualisation\n",
    "plt.figure(figsize=(20,10))\n",
    "sns.distplot(df['Rating'].loc[df['Rating'].notna()])\n",
    "plt.show()"
   ]
  },
  {
   "cell_type": "code",
   "execution_count": 9,
   "metadata": {},
   "outputs": [],
   "source": [
    "# plt.figure()\n",
    "# sns.scatterplot(x = 'Rating', y = 'Reviews', data = df[:1000])\n",
    "# plt.plot()"
   ]
  },
  {
   "cell_type": "code",
   "execution_count": 10,
   "metadata": {},
   "outputs": [
    {
     "data": {
      "text/plain": [
       "[]"
      ]
     },
     "execution_count": 10,
     "metadata": {},
     "output_type": "execute_result"
    },
    {
     "data": {
      "image/png": "[encoded data removed]",
      "text/plain": [
       "<Figure size 864x288 with 1 Axes>"
      ]
     },
     "metadata": {},
     "output_type": "display_data"
    }
   ],
   "source": [
    "rating_cat = df.groupby('Category')['Rating'].mean().reset_index()\n",
    "plt.figure(figsize = (12,4))\n",
    "ax = sns.barplot(x = 'Category', y = 'Rating', data = rating_cat)\n",
    "ax.set_xticklabels(ax.get_xticklabels(), rotation = 40, ha = 'right')\n",
    "plt.plot()"
   ]
  },
  {
   "cell_type": "code",
   "execution_count": 11,
   "metadata": {},
   "outputs": [],
   "source": [
    "data = df.copy(deep=True)"
   ]
  },
  {
   "cell_type": "code",
   "execution_count": 252,
   "metadata": {},
   "outputs": [],
   "source": [
    "# data['Reviews'] = data['Reviews'].astype(dtype = 'int64')\n",
    "# ax = sns.distplot(data['Reviews'])"
   ]
  },
  {
   "cell_type": "code",
   "execution_count": 13,
   "metadata": {},
   "outputs": [
    {
     "data": {
      "text/plain": [
       "[]"
      ]
     },
     "execution_count": 13,
     "metadata": {},
     "output_type": "execute_result"
    },
    {
     "data": {
      "image/png": "[encoded data removed]",
      "text/plain": [
       "<Figure size 864x288 with 1 Axes>"
      ]
     },
     "metadata": {},
     "output_type": "display_data"
    }
   ],
   "source": [
    "reviews_cat = data.groupby('Category')['Reviews'].mean().reset_index()\n",
    "plt.figure(figsize = (12, 4))\n",
    "ax = sns.barplot(x = 'Category', y = 'Reviews', data = reviews_cat)\n",
    "ax.set_xticklabels(ax.get_xticklabels(), rotation = 40, ha = 'right')\n",
    "plt.plot()"
   ]
  },
  {
   "cell_type": "markdown",
   "metadata": {},
   "source": [
    "# Preprocessing and cleaning of data"
   ]
  },
  {
   "cell_type": "code",
   "execution_count": 14,
   "metadata": {
    "scrolled": true
   },
   "outputs": [
    {
     "name": "stdout",
     "output_type": "stream",
     "text": [
      "(10840, 13)\n"
     ]
    }
   ],
   "source": [
    "print(df.shape)"
   ]
  },
  {
   "cell_type": "code",
   "execution_count": 15,
   "metadata": {},
   "outputs": [
    {
     "name": "stdout",
     "output_type": "stream",
     "text": [
      "<class 'pandas.core.frame.DataFrame'>\n",
      "Int64Index: 10840 entries, 0 to 10840\n",
      "Data columns (total 13 columns):\n",
      "App               10840 non-null object\n",
      "Category          10840 non-null object\n",
      "Rating            9366 non-null float64\n",
      "Reviews           10840 non-null object\n",
      "Size              10840 non-null object\n",
      "Installs          10840 non-null object\n",
      "Type              10839 non-null object\n",
      "Price             10840 non-null object\n",
      "Content Rating    10840 non-null object\n",
      "Genres            10840 non-null object\n",
      "Last Updated      10840 non-null object\n",
      "Current Ver       10832 non-null object\n",
      "Android Ver       10838 non-null object\n",
      "dtypes: float64(1), object(12)\n",
      "memory usage: 1.5+ MB\n",
      "None\n"
     ]
    }
   ],
   "source": [
    "print(df.info())"
   ]
  },
  {
   "cell_type": "code",
   "execution_count": 16,
   "metadata": {},
   "outputs": [],
   "source": [
    "df.dropna(inplace=True)"
   ]
  },
  {
   "cell_type": "code",
   "execution_count": 17,
   "metadata": {},
   "outputs": [
    {
     "name": "stdout",
     "output_type": "stream",
     "text": [
      "(9360, 13)\n"
     ]
    }
   ],
   "source": [
    "print(df.shape)"
   ]
  },
  {
   "cell_type": "markdown",
   "metadata": {},
   "source": [
    "### we have removed the null value rows (in rating column)"
   ]
  },
  {
   "cell_type": "code",
   "execution_count": 18,
   "metadata": {},
   "outputs": [
    {
     "name": "stdout",
     "output_type": "stream",
     "text": [
      "<class 'pandas.core.frame.DataFrame'>\n",
      "Int64Index: 9360 entries, 0 to 10840\n",
      "Data columns (total 13 columns):\n",
      "App               9360 non-null object\n",
      "Category          9360 non-null object\n",
      "Rating            9360 non-null float64\n",
      "Reviews           9360 non-null object\n",
      "Size              9360 non-null object\n",
      "Installs          9360 non-null object\n",
      "Type              9360 non-null object\n",
      "Price             9360 non-null object\n",
      "Content Rating    9360 non-null object\n",
      "Genres            9360 non-null object\n",
      "Last Updated      9360 non-null object\n",
      "Current Ver       9360 non-null object\n",
      "Android Ver       9360 non-null object\n",
      "dtypes: float64(1), object(12)\n",
      "memory usage: 1023.8+ KB\n"
     ]
    }
   ],
   "source": [
    "df.info()"
   ]
  },
  {
   "cell_type": "code",
   "execution_count": 19,
   "metadata": {},
   "outputs": [
    {
     "data": {
      "text/html": [
       "<div>\n",
       "<style scoped>\n",
       "    .dataframe tbody tr th:only-of-type {\n",
       "        vertical-align: middle;\n",
       "    }\n",
       "\n",
       "    .dataframe tbody tr th {\n",
       "        vertical-align: top;\n",
       "    }\n",
       "\n",
       "    .dataframe thead th {\n",
       "        text-align: right;\n",
       "    }\n",
       "</style>\n",
       "<table border=\"1\" class=\"dataframe\">\n",
       "  <thead>\n",
       "    <tr style=\"text-align: right;\">\n",
       "      <th></th>\n",
       "      <th>App</th>\n",
       "      <th>Category</th>\n",
       "      <th>Rating</th>\n",
       "      <th>Reviews</th>\n",
       "      <th>Size</th>\n",
       "      <th>Installs</th>\n",
       "      <th>Type</th>\n",
       "      <th>Price</th>\n",
       "      <th>Content Rating</th>\n",
       "      <th>Genres</th>\n",
       "      <th>Last Updated</th>\n",
       "      <th>Current Ver</th>\n",
       "      <th>Android Ver</th>\n",
       "    </tr>\n",
       "  </thead>\n",
       "  <tbody>\n",
       "    <tr>\n",
       "      <th>0</th>\n",
       "      <td>Photo Editor &amp; Candy Camera &amp; Grid &amp; ScrapBook</td>\n",
       "      <td>ART_AND_DESIGN</td>\n",
       "      <td>4.1</td>\n",
       "      <td>159</td>\n",
       "      <td>19M</td>\n",
       "      <td>10,000+</td>\n",
       "      <td>Free</td>\n",
       "      <td>0</td>\n",
       "      <td>Everyone</td>\n",
       "      <td>Art &amp; Design</td>\n",
       "      <td>January 7, 2018</td>\n",
       "      <td>1.0.0</td>\n",
       "      <td>4.0.3 and up</td>\n",
       "    </tr>\n",
       "    <tr>\n",
       "      <th>1</th>\n",
       "      <td>Coloring book moana</td>\n",
       "      <td>ART_AND_DESIGN</td>\n",
       "      <td>3.9</td>\n",
       "      <td>967</td>\n",
       "      <td>14M</td>\n",
       "      <td>500,000+</td>\n",
       "      <td>Free</td>\n",
       "      <td>0</td>\n",
       "      <td>Everyone</td>\n",
       "      <td>Art &amp; Design;Pretend Play</td>\n",
       "      <td>January 15, 2018</td>\n",
       "      <td>2.0.0</td>\n",
       "      <td>4.0.3 and up</td>\n",
       "    </tr>\n",
       "    <tr>\n",
       "      <th>2</th>\n",
       "      <td>U Launcher Lite – FREE Live Cool Themes, Hide ...</td>\n",
       "      <td>ART_AND_DESIGN</td>\n",
       "      <td>4.7</td>\n",
       "      <td>87510</td>\n",
       "      <td>8.7M</td>\n",
       "      <td>5,000,000+</td>\n",
       "      <td>Free</td>\n",
       "      <td>0</td>\n",
       "      <td>Everyone</td>\n",
       "      <td>Art &amp; Design</td>\n",
       "      <td>August 1, 2018</td>\n",
       "      <td>1.2.4</td>\n",
       "      <td>4.0.3 and up</td>\n",
       "    </tr>\n",
       "    <tr>\n",
       "      <th>3</th>\n",
       "      <td>Sketch - Draw &amp; Paint</td>\n",
       "      <td>ART_AND_DESIGN</td>\n",
       "      <td>4.5</td>\n",
       "      <td>215644</td>\n",
       "      <td>25M</td>\n",
       "      <td>50,000,000+</td>\n",
       "      <td>Free</td>\n",
       "      <td>0</td>\n",
       "      <td>Teen</td>\n",
       "      <td>Art &amp; Design</td>\n",
       "      <td>June 8, 2018</td>\n",
       "      <td>Varies with device</td>\n",
       "      <td>4.2 and up</td>\n",
       "    </tr>\n",
       "    <tr>\n",
       "      <th>4</th>\n",
       "      <td>Pixel Draw - Number Art Coloring Book</td>\n",
       "      <td>ART_AND_DESIGN</td>\n",
       "      <td>4.3</td>\n",
       "      <td>967</td>\n",
       "      <td>2.8M</td>\n",
       "      <td>100,000+</td>\n",
       "      <td>Free</td>\n",
       "      <td>0</td>\n",
       "      <td>Everyone</td>\n",
       "      <td>Art &amp; Design;Creativity</td>\n",
       "      <td>June 20, 2018</td>\n",
       "      <td>1.1</td>\n",
       "      <td>4.4 and up</td>\n",
       "    </tr>\n",
       "  </tbody>\n",
       "</table>\n",
       "</div>"
      ],
      "text/plain": [
       "                                                 App        Category  Rating  \\\n",
       "0     Photo Editor & Candy Camera & Grid & ScrapBook  ART_AND_DESIGN     4.1   \n",
       "1                                Coloring book moana  ART_AND_DESIGN     3.9   \n",
       "2  U Launcher Lite – FREE Live Cool Themes, Hide ...  ART_AND_DESIGN     4.7   \n",
       "3                              Sketch - Draw & Paint  ART_AND_DESIGN     4.5   \n",
       "4              Pixel Draw - Number Art Coloring Book  ART_AND_DESIGN     4.3   \n",
       "\n",
       "  Reviews  Size     Installs  Type Price Content Rating  \\\n",
       "0     159   19M      10,000+  Free     0       Everyone   \n",
       "1     967   14M     500,000+  Free     0       Everyone   \n",
       "2   87510  8.7M   5,000,000+  Free     0       Everyone   \n",
       "3  215644   25M  50,000,000+  Free     0           Teen   \n",
       "4     967  2.8M     100,000+  Free     0       Everyone   \n",
       "\n",
       "                      Genres      Last Updated         Current Ver  \\\n",
       "0               Art & Design   January 7, 2018               1.0.0   \n",
       "1  Art & Design;Pretend Play  January 15, 2018               2.0.0   \n",
       "2               Art & Design    August 1, 2018               1.2.4   \n",
       "3               Art & Design      June 8, 2018  Varies with device   \n",
       "4    Art & Design;Creativity     June 20, 2018                 1.1   \n",
       "\n",
       "    Android Ver  \n",
       "0  4.0.3 and up  \n",
       "1  4.0.3 and up  \n",
       "2  4.0.3 and up  \n",
       "3    4.2 and up  \n",
       "4    4.4 and up  "
      ]
     },
     "execution_count": 19,
     "metadata": {},
     "output_type": "execute_result"
    }
   ],
   "source": [
    "df.head()"
   ]
  },
  {
   "cell_type": "code",
   "execution_count": 20,
   "metadata": {},
   "outputs": [
    {
     "data": {
      "text/plain": [
       "array(['ART_AND_DESIGN', 'AUTO_AND_VEHICLES', 'BEAUTY',\n",
       "       'BOOKS_AND_REFERENCE', 'BUSINESS', 'COMICS', 'COMMUNICATION',\n",
       "       'DATING', 'EDUCATION', 'ENTERTAINMENT', 'EVENTS', 'FINANCE',\n",
       "       'FOOD_AND_DRINK', 'HEALTH_AND_FITNESS', 'HOUSE_AND_HOME',\n",
       "       'LIBRARIES_AND_DEMO', 'LIFESTYLE', 'GAME', 'FAMILY', 'MEDICAL',\n",
       "       'SOCIAL', 'SHOPPING', 'PHOTOGRAPHY', 'SPORTS', 'TRAVEL_AND_LOCAL',\n",
       "       'TOOLS', 'PERSONALIZATION', 'PRODUCTIVITY', 'PARENTING', 'WEATHER',\n",
       "       'VIDEO_PLAYERS', 'NEWS_AND_MAGAZINES', 'MAPS_AND_NAVIGATION'],\n",
       "      dtype=object)"
      ]
     },
     "execution_count": 20,
     "metadata": {},
     "output_type": "execute_result"
    }
   ],
   "source": [
    "#unique categories\n",
    "df[\"Category\"].unique()"
   ]
  },
  {
   "cell_type": "code",
   "execution_count": 21,
   "metadata": {},
   "outputs": [],
   "source": [
    "categoryVal = df[\"Category\"].unique()\n",
    "categoryValCount = len(categoryVal)\n",
    "category_dict = {}\n",
    "for i in range(0,categoryValCount):\n",
    "    category_dict[categoryVal[i]] = i"
   ]
  },
  {
   "cell_type": "code",
   "execution_count": 22,
   "metadata": {},
   "outputs": [
    {
     "data": {
      "text/plain": [
       "{'ART_AND_DESIGN': 0,\n",
       " 'AUTO_AND_VEHICLES': 1,\n",
       " 'BEAUTY': 2,\n",
       " 'BOOKS_AND_REFERENCE': 3,\n",
       " 'BUSINESS': 4,\n",
       " 'COMICS': 5,\n",
       " 'COMMUNICATION': 6,\n",
       " 'DATING': 7,\n",
       " 'EDUCATION': 8,\n",
       " 'ENTERTAINMENT': 9,\n",
       " 'EVENTS': 10,\n",
       " 'FINANCE': 11,\n",
       " 'FOOD_AND_DRINK': 12,\n",
       " 'HEALTH_AND_FITNESS': 13,\n",
       " 'HOUSE_AND_HOME': 14,\n",
       " 'LIBRARIES_AND_DEMO': 15,\n",
       " 'LIFESTYLE': 16,\n",
       " 'GAME': 17,\n",
       " 'FAMILY': 18,\n",
       " 'MEDICAL': 19,\n",
       " 'SOCIAL': 20,\n",
       " 'SHOPPING': 21,\n",
       " 'PHOTOGRAPHY': 22,\n",
       " 'SPORTS': 23,\n",
       " 'TRAVEL_AND_LOCAL': 24,\n",
       " 'TOOLS': 25,\n",
       " 'PERSONALIZATION': 26,\n",
       " 'PRODUCTIVITY': 27,\n",
       " 'PARENTING': 28,\n",
       " 'WEATHER': 29,\n",
       " 'VIDEO_PLAYERS': 30,\n",
       " 'NEWS_AND_MAGAZINES': 31,\n",
       " 'MAPS_AND_NAVIGATION': 32}"
      ]
     },
     "execution_count": 22,
     "metadata": {},
     "output_type": "execute_result"
    }
   ],
   "source": [
    "#category values are now mapped to intiger numbers\n",
    "category_dict"
   ]
  },
  {
   "cell_type": "code",
   "execution_count": 23,
   "metadata": {},
   "outputs": [],
   "source": [
    "#we have now added a new category column in the dataframe that has\n",
    "#intiger values\n",
    "df[\"Category_c\"] = df[\"Category\"].map(category_dict).astype(int)"
   ]
  },
  {
   "cell_type": "code",
   "execution_count": 24,
   "metadata": {},
   "outputs": [
    {
     "data": {
      "text/html": [
       "<div>\n",
       "<style scoped>\n",
       "    .dataframe tbody tr th:only-of-type {\n",
       "        vertical-align: middle;\n",
       "    }\n",
       "\n",
       "    .dataframe tbody tr th {\n",
       "        vertical-align: top;\n",
       "    }\n",
       "\n",
       "    .dataframe thead th {\n",
       "        text-align: right;\n",
       "    }\n",
       "</style>\n",
       "<table border=\"1\" class=\"dataframe\">\n",
       "  <thead>\n",
       "    <tr style=\"text-align: right;\">\n",
       "      <th></th>\n",
       "      <th>App</th>\n",
       "      <th>Category</th>\n",
       "      <th>Rating</th>\n",
       "      <th>Reviews</th>\n",
       "      <th>Size</th>\n",
       "      <th>Installs</th>\n",
       "      <th>Type</th>\n",
       "      <th>Price</th>\n",
       "      <th>Content Rating</th>\n",
       "      <th>Genres</th>\n",
       "      <th>Last Updated</th>\n",
       "      <th>Current Ver</th>\n",
       "      <th>Android Ver</th>\n",
       "      <th>Category_c</th>\n",
       "    </tr>\n",
       "  </thead>\n",
       "  <tbody>\n",
       "    <tr>\n",
       "      <th>0</th>\n",
       "      <td>Photo Editor &amp; Candy Camera &amp; Grid &amp; ScrapBook</td>\n",
       "      <td>ART_AND_DESIGN</td>\n",
       "      <td>4.1</td>\n",
       "      <td>159</td>\n",
       "      <td>19M</td>\n",
       "      <td>10,000+</td>\n",
       "      <td>Free</td>\n",
       "      <td>0</td>\n",
       "      <td>Everyone</td>\n",
       "      <td>Art &amp; Design</td>\n",
       "      <td>January 7, 2018</td>\n",
       "      <td>1.0.0</td>\n",
       "      <td>4.0.3 and up</td>\n",
       "      <td>0</td>\n",
       "    </tr>\n",
       "    <tr>\n",
       "      <th>1</th>\n",
       "      <td>Coloring book moana</td>\n",
       "      <td>ART_AND_DESIGN</td>\n",
       "      <td>3.9</td>\n",
       "      <td>967</td>\n",
       "      <td>14M</td>\n",
       "      <td>500,000+</td>\n",
       "      <td>Free</td>\n",
       "      <td>0</td>\n",
       "      <td>Everyone</td>\n",
       "      <td>Art &amp; Design;Pretend Play</td>\n",
       "      <td>January 15, 2018</td>\n",
       "      <td>2.0.0</td>\n",
       "      <td>4.0.3 and up</td>\n",
       "      <td>0</td>\n",
       "    </tr>\n",
       "    <tr>\n",
       "      <th>2</th>\n",
       "      <td>U Launcher Lite – FREE Live Cool Themes, Hide ...</td>\n",
       "      <td>ART_AND_DESIGN</td>\n",
       "      <td>4.7</td>\n",
       "      <td>87510</td>\n",
       "      <td>8.7M</td>\n",
       "      <td>5,000,000+</td>\n",
       "      <td>Free</td>\n",
       "      <td>0</td>\n",
       "      <td>Everyone</td>\n",
       "      <td>Art &amp; Design</td>\n",
       "      <td>August 1, 2018</td>\n",
       "      <td>1.2.4</td>\n",
       "      <td>4.0.3 and up</td>\n",
       "      <td>0</td>\n",
       "    </tr>\n",
       "    <tr>\n",
       "      <th>3</th>\n",
       "      <td>Sketch - Draw &amp; Paint</td>\n",
       "      <td>ART_AND_DESIGN</td>\n",
       "      <td>4.5</td>\n",
       "      <td>215644</td>\n",
       "      <td>25M</td>\n",
       "      <td>50,000,000+</td>\n",
       "      <td>Free</td>\n",
       "      <td>0</td>\n",
       "      <td>Teen</td>\n",
       "      <td>Art &amp; Design</td>\n",
       "      <td>June 8, 2018</td>\n",
       "      <td>Varies with device</td>\n",
       "      <td>4.2 and up</td>\n",
       "      <td>0</td>\n",
       "    </tr>\n",
       "    <tr>\n",
       "      <th>4</th>\n",
       "      <td>Pixel Draw - Number Art Coloring Book</td>\n",
       "      <td>ART_AND_DESIGN</td>\n",
       "      <td>4.3</td>\n",
       "      <td>967</td>\n",
       "      <td>2.8M</td>\n",
       "      <td>100,000+</td>\n",
       "      <td>Free</td>\n",
       "      <td>0</td>\n",
       "      <td>Everyone</td>\n",
       "      <td>Art &amp; Design;Creativity</td>\n",
       "      <td>June 20, 2018</td>\n",
       "      <td>1.1</td>\n",
       "      <td>4.4 and up</td>\n",
       "      <td>0</td>\n",
       "    </tr>\n",
       "  </tbody>\n",
       "</table>\n",
       "</div>"
      ],
      "text/plain": [
       "                                                 App        Category  Rating  \\\n",
       "0     Photo Editor & Candy Camera & Grid & ScrapBook  ART_AND_DESIGN     4.1   \n",
       "1                                Coloring book moana  ART_AND_DESIGN     3.9   \n",
       "2  U Launcher Lite – FREE Live Cool Themes, Hide ...  ART_AND_DESIGN     4.7   \n",
       "3                              Sketch - Draw & Paint  ART_AND_DESIGN     4.5   \n",
       "4              Pixel Draw - Number Art Coloring Book  ART_AND_DESIGN     4.3   \n",
       "\n",
       "  Reviews  Size     Installs  Type Price Content Rating  \\\n",
       "0     159   19M      10,000+  Free     0       Everyone   \n",
       "1     967   14M     500,000+  Free     0       Everyone   \n",
       "2   87510  8.7M   5,000,000+  Free     0       Everyone   \n",
       "3  215644   25M  50,000,000+  Free     0           Teen   \n",
       "4     967  2.8M     100,000+  Free     0       Everyone   \n",
       "\n",
       "                      Genres      Last Updated         Current Ver  \\\n",
       "0               Art & Design   January 7, 2018               1.0.0   \n",
       "1  Art & Design;Pretend Play  January 15, 2018               2.0.0   \n",
       "2               Art & Design    August 1, 2018               1.2.4   \n",
       "3               Art & Design      June 8, 2018  Varies with device   \n",
       "4    Art & Design;Creativity     June 20, 2018                 1.1   \n",
       "\n",
       "    Android Ver  Category_c  \n",
       "0  4.0.3 and up           0  \n",
       "1  4.0.3 and up           0  \n",
       "2  4.0.3 and up           0  \n",
       "3    4.2 and up           0  \n",
       "4    4.4 and up           0  "
      ]
     },
     "execution_count": 24,
     "metadata": {},
     "output_type": "execute_result"
    }
   ],
   "source": [
    "df.head()"
   ]
  },
  {
   "cell_type": "code",
   "execution_count": 25,
   "metadata": {},
   "outputs": [
    {
     "data": {
      "text/plain": [
       "0                       19M\n",
       "1                       14M\n",
       "2                      8.7M\n",
       "3                       25M\n",
       "4                      2.8M\n",
       "5                      5.6M\n",
       "6                       19M\n",
       "7                       29M\n",
       "8                       33M\n",
       "9                      3.1M\n",
       "10                      28M\n",
       "11                      12M\n",
       "12                      20M\n",
       "13                      21M\n",
       "14                      37M\n",
       "16                     5.5M\n",
       "17                      17M\n",
       "18                      39M\n",
       "19                      31M\n",
       "20                      14M\n",
       "21                      12M\n",
       "22                     4.2M\n",
       "24                      23M\n",
       "25                     6.0M\n",
       "26                      25M\n",
       "27                     6.1M\n",
       "28                     4.6M\n",
       "29                     4.2M\n",
       "30                     9.2M\n",
       "31                     5.2M\n",
       "                ...        \n",
       "10795                  4.0M\n",
       "10796                  7.8M\n",
       "10797                   46M\n",
       "10799                  6.8M\n",
       "10800                   12M\n",
       "10801                   19M\n",
       "10802                   28M\n",
       "10803                   81M\n",
       "10804                   17M\n",
       "10805                   15M\n",
       "10809                   24M\n",
       "10810                   21M\n",
       "10812                   13M\n",
       "10814                   31M\n",
       "10815                  4.9M\n",
       "10817                  8.0M\n",
       "10819                  3.6M\n",
       "10820                  8.6M\n",
       "10826    Varies with device\n",
       "10827                   13M\n",
       "10828                   13M\n",
       "10829                  7.4M\n",
       "10830                  2.3M\n",
       "10832                  582k\n",
       "10833                  619k\n",
       "10834                  2.6M\n",
       "10836                   53M\n",
       "10837                  3.6M\n",
       "10839    Varies with device\n",
       "10840                   19M\n",
       "Name: Size, Length: 9360, dtype: object"
      ]
     },
     "execution_count": 25,
     "metadata": {},
     "output_type": "execute_result"
    }
   ],
   "source": [
    "df[\"Size\"]"
   ]
  },
  {
   "cell_type": "markdown",
   "metadata": {},
   "source": [
    "### clean the column of  size"
   ]
  },
  {
   "cell_type": "code",
   "execution_count": 26,
   "metadata": {},
   "outputs": [],
   "source": [
    "def change_size(size):\n",
    "    if 'M' in size:\n",
    "        x = size[:-1]\n",
    "        x = float(x)*1000000\n",
    "        return(x)\n",
    "    elif 'k' == size[-1:]:\n",
    "        x = size[:-1]\n",
    "        x = float(x)*1000\n",
    "        return(x)\n",
    "    else:\n",
    "        return None"
   ]
  },
  {
   "cell_type": "code",
   "execution_count": 27,
   "metadata": {},
   "outputs": [],
   "source": [
    "# for i in df[\"Size\"] :\n",
    "#     i = change_size(i)\n",
    "#inpleace change the size column\n",
    "df[\"Size\"] = df[\"Size\"].map(change_size)"
   ]
  },
  {
   "cell_type": "code",
   "execution_count": 28,
   "metadata": {},
   "outputs": [
    {
     "data": {
      "text/html": [
       "<div>\n",
       "<style scoped>\n",
       "    .dataframe tbody tr th:only-of-type {\n",
       "        vertical-align: middle;\n",
       "    }\n",
       "\n",
       "    .dataframe tbody tr th {\n",
       "        vertical-align: top;\n",
       "    }\n",
       "\n",
       "    .dataframe thead th {\n",
       "        text-align: right;\n",
       "    }\n",
       "</style>\n",
       "<table border=\"1\" class=\"dataframe\">\n",
       "  <thead>\n",
       "    <tr style=\"text-align: right;\">\n",
       "      <th></th>\n",
       "      <th>App</th>\n",
       "      <th>Category</th>\n",
       "      <th>Rating</th>\n",
       "      <th>Reviews</th>\n",
       "      <th>Size</th>\n",
       "      <th>Installs</th>\n",
       "      <th>Type</th>\n",
       "      <th>Price</th>\n",
       "      <th>Content Rating</th>\n",
       "      <th>Genres</th>\n",
       "      <th>Last Updated</th>\n",
       "      <th>Current Ver</th>\n",
       "      <th>Android Ver</th>\n",
       "      <th>Category_c</th>\n",
       "    </tr>\n",
       "  </thead>\n",
       "  <tbody>\n",
       "    <tr>\n",
       "      <th>0</th>\n",
       "      <td>Photo Editor &amp; Candy Camera &amp; Grid &amp; ScrapBook</td>\n",
       "      <td>ART_AND_DESIGN</td>\n",
       "      <td>4.1</td>\n",
       "      <td>159</td>\n",
       "      <td>19000000.0</td>\n",
       "      <td>10,000+</td>\n",
       "      <td>Free</td>\n",
       "      <td>0</td>\n",
       "      <td>Everyone</td>\n",
       "      <td>Art &amp; Design</td>\n",
       "      <td>January 7, 2018</td>\n",
       "      <td>1.0.0</td>\n",
       "      <td>4.0.3 and up</td>\n",
       "      <td>0</td>\n",
       "    </tr>\n",
       "    <tr>\n",
       "      <th>1</th>\n",
       "      <td>Coloring book moana</td>\n",
       "      <td>ART_AND_DESIGN</td>\n",
       "      <td>3.9</td>\n",
       "      <td>967</td>\n",
       "      <td>14000000.0</td>\n",
       "      <td>500,000+</td>\n",
       "      <td>Free</td>\n",
       "      <td>0</td>\n",
       "      <td>Everyone</td>\n",
       "      <td>Art &amp; Design;Pretend Play</td>\n",
       "      <td>January 15, 2018</td>\n",
       "      <td>2.0.0</td>\n",
       "      <td>4.0.3 and up</td>\n",
       "      <td>0</td>\n",
       "    </tr>\n",
       "    <tr>\n",
       "      <th>2</th>\n",
       "      <td>U Launcher Lite – FREE Live Cool Themes, Hide ...</td>\n",
       "      <td>ART_AND_DESIGN</td>\n",
       "      <td>4.7</td>\n",
       "      <td>87510</td>\n",
       "      <td>8700000.0</td>\n",
       "      <td>5,000,000+</td>\n",
       "      <td>Free</td>\n",
       "      <td>0</td>\n",
       "      <td>Everyone</td>\n",
       "      <td>Art &amp; Design</td>\n",
       "      <td>August 1, 2018</td>\n",
       "      <td>1.2.4</td>\n",
       "      <td>4.0.3 and up</td>\n",
       "      <td>0</td>\n",
       "    </tr>\n",
       "    <tr>\n",
       "      <th>3</th>\n",
       "      <td>Sketch - Draw &amp; Paint</td>\n",
       "      <td>ART_AND_DESIGN</td>\n",
       "      <td>4.5</td>\n",
       "      <td>215644</td>\n",
       "      <td>25000000.0</td>\n",
       "      <td>50,000,000+</td>\n",
       "      <td>Free</td>\n",
       "      <td>0</td>\n",
       "      <td>Teen</td>\n",
       "      <td>Art &amp; Design</td>\n",
       "      <td>June 8, 2018</td>\n",
       "      <td>Varies with device</td>\n",
       "      <td>4.2 and up</td>\n",
       "      <td>0</td>\n",
       "    </tr>\n",
       "    <tr>\n",
       "      <th>4</th>\n",
       "      <td>Pixel Draw - Number Art Coloring Book</td>\n",
       "      <td>ART_AND_DESIGN</td>\n",
       "      <td>4.3</td>\n",
       "      <td>967</td>\n",
       "      <td>2800000.0</td>\n",
       "      <td>100,000+</td>\n",
       "      <td>Free</td>\n",
       "      <td>0</td>\n",
       "      <td>Everyone</td>\n",
       "      <td>Art &amp; Design;Creativity</td>\n",
       "      <td>June 20, 2018</td>\n",
       "      <td>1.1</td>\n",
       "      <td>4.4 and up</td>\n",
       "      <td>0</td>\n",
       "    </tr>\n",
       "  </tbody>\n",
       "</table>\n",
       "</div>"
      ],
      "text/plain": [
       "                                                 App        Category  Rating  \\\n",
       "0     Photo Editor & Candy Camera & Grid & ScrapBook  ART_AND_DESIGN     4.1   \n",
       "1                                Coloring book moana  ART_AND_DESIGN     3.9   \n",
       "2  U Launcher Lite – FREE Live Cool Themes, Hide ...  ART_AND_DESIGN     4.7   \n",
       "3                              Sketch - Draw & Paint  ART_AND_DESIGN     4.5   \n",
       "4              Pixel Draw - Number Art Coloring Book  ART_AND_DESIGN     4.3   \n",
       "\n",
       "  Reviews        Size     Installs  Type Price Content Rating  \\\n",
       "0     159  19000000.0      10,000+  Free     0       Everyone   \n",
       "1     967  14000000.0     500,000+  Free     0       Everyone   \n",
       "2   87510   8700000.0   5,000,000+  Free     0       Everyone   \n",
       "3  215644  25000000.0  50,000,000+  Free     0           Teen   \n",
       "4     967   2800000.0     100,000+  Free     0       Everyone   \n",
       "\n",
       "                      Genres      Last Updated         Current Ver  \\\n",
       "0               Art & Design   January 7, 2018               1.0.0   \n",
       "1  Art & Design;Pretend Play  January 15, 2018               2.0.0   \n",
       "2               Art & Design    August 1, 2018               1.2.4   \n",
       "3               Art & Design      June 8, 2018  Varies with device   \n",
       "4    Art & Design;Creativity     June 20, 2018                 1.1   \n",
       "\n",
       "    Android Ver  Category_c  \n",
       "0  4.0.3 and up           0  \n",
       "1  4.0.3 and up           0  \n",
       "2  4.0.3 and up           0  \n",
       "3    4.2 and up           0  \n",
       "4    4.4 and up           0  "
      ]
     },
     "execution_count": 28,
     "metadata": {},
     "output_type": "execute_result"
    }
   ],
   "source": [
    "df.head()"
   ]
  },
  {
   "cell_type": "code",
   "execution_count": 29,
   "metadata": {},
   "outputs": [
    {
     "name": "stdout",
     "output_type": "stream",
     "text": [
      "<class 'pandas.core.frame.DataFrame'>\n",
      "Int64Index: 9360 entries, 0 to 10840\n",
      "Data columns (total 14 columns):\n",
      "App               9360 non-null object\n",
      "Category          9360 non-null object\n",
      "Rating            9360 non-null float64\n",
      "Reviews           9360 non-null object\n",
      "Size              7723 non-null float64\n",
      "Installs          9360 non-null object\n",
      "Type              9360 non-null object\n",
      "Price             9360 non-null object\n",
      "Content Rating    9360 non-null object\n",
      "Genres            9360 non-null object\n",
      "Last Updated      9360 non-null object\n",
      "Current Ver       9360 non-null object\n",
      "Android Ver       9360 non-null object\n",
      "Category_c        9360 non-null int64\n",
      "dtypes: float64(2), int64(1), object(11)\n",
      "memory usage: 1.1+ MB\n"
     ]
    }
   ],
   "source": [
    "df.info()"
   ]
  },
  {
   "cell_type": "code",
   "execution_count": 30,
   "metadata": {},
   "outputs": [],
   "source": [
    "# there are some null values , hence\n",
    "df.Size.fillna(method = 'ffill', inplace = True)"
   ]
  },
  {
   "cell_type": "markdown",
   "metadata": {},
   "source": [
    "### Clean the install column"
   ]
  },
  {
   "cell_type": "code",
   "execution_count": 31,
   "metadata": {},
   "outputs": [],
   "source": [
    "df['Installs'] = [int(i[:-1].replace(',','')) for i in df['Installs']]"
   ]
  },
  {
   "cell_type": "markdown",
   "metadata": {},
   "source": [
    "### Convert paid and free into binary feild"
   ]
  },
  {
   "cell_type": "markdown",
   "metadata": {},
   "source": [
    "Free  = 0 ,\n",
    "Paid  = 1"
   ]
  },
  {
   "cell_type": "code",
   "execution_count": 32,
   "metadata": {},
   "outputs": [],
   "source": [
    "def type_category(types):\n",
    "    if types == 'Free':\n",
    "        return 0\n",
    "    else:\n",
    "        return 1\n",
    "df[\"Type\"] = df[\"Type\"].map(type_category)"
   ]
  },
  {
   "cell_type": "code",
   "execution_count": 33,
   "metadata": {},
   "outputs": [
    {
     "data": {
      "text/html": [
       "<div>\n",
       "<style scoped>\n",
       "    .dataframe tbody tr th:only-of-type {\n",
       "        vertical-align: middle;\n",
       "    }\n",
       "\n",
       "    .dataframe tbody tr th {\n",
       "        vertical-align: top;\n",
       "    }\n",
       "\n",
       "    .dataframe thead th {\n",
       "        text-align: right;\n",
       "    }\n",
       "</style>\n",
       "<table border=\"1\" class=\"dataframe\">\n",
       "  <thead>\n",
       "    <tr style=\"text-align: right;\">\n",
       "      <th></th>\n",
       "      <th>App</th>\n",
       "      <th>Category</th>\n",
       "      <th>Rating</th>\n",
       "      <th>Reviews</th>\n",
       "      <th>Size</th>\n",
       "      <th>Installs</th>\n",
       "      <th>Type</th>\n",
       "      <th>Price</th>\n",
       "      <th>Content Rating</th>\n",
       "      <th>Genres</th>\n",
       "      <th>Last Updated</th>\n",
       "      <th>Current Ver</th>\n",
       "      <th>Android Ver</th>\n",
       "      <th>Category_c</th>\n",
       "    </tr>\n",
       "  </thead>\n",
       "  <tbody>\n",
       "    <tr>\n",
       "      <th>0</th>\n",
       "      <td>Photo Editor &amp; Candy Camera &amp; Grid &amp; ScrapBook</td>\n",
       "      <td>ART_AND_DESIGN</td>\n",
       "      <td>4.1</td>\n",
       "      <td>159</td>\n",
       "      <td>19000000.0</td>\n",
       "      <td>10000</td>\n",
       "      <td>0</td>\n",
       "      <td>0</td>\n",
       "      <td>Everyone</td>\n",
       "      <td>Art &amp; Design</td>\n",
       "      <td>January 7, 2018</td>\n",
       "      <td>1.0.0</td>\n",
       "      <td>4.0.3 and up</td>\n",
       "      <td>0</td>\n",
       "    </tr>\n",
       "    <tr>\n",
       "      <th>1</th>\n",
       "      <td>Coloring book moana</td>\n",
       "      <td>ART_AND_DESIGN</td>\n",
       "      <td>3.9</td>\n",
       "      <td>967</td>\n",
       "      <td>14000000.0</td>\n",
       "      <td>500000</td>\n",
       "      <td>0</td>\n",
       "      <td>0</td>\n",
       "      <td>Everyone</td>\n",
       "      <td>Art &amp; Design;Pretend Play</td>\n",
       "      <td>January 15, 2018</td>\n",
       "      <td>2.0.0</td>\n",
       "      <td>4.0.3 and up</td>\n",
       "      <td>0</td>\n",
       "    </tr>\n",
       "    <tr>\n",
       "      <th>2</th>\n",
       "      <td>U Launcher Lite – FREE Live Cool Themes, Hide ...</td>\n",
       "      <td>ART_AND_DESIGN</td>\n",
       "      <td>4.7</td>\n",
       "      <td>87510</td>\n",
       "      <td>8700000.0</td>\n",
       "      <td>5000000</td>\n",
       "      <td>0</td>\n",
       "      <td>0</td>\n",
       "      <td>Everyone</td>\n",
       "      <td>Art &amp; Design</td>\n",
       "      <td>August 1, 2018</td>\n",
       "      <td>1.2.4</td>\n",
       "      <td>4.0.3 and up</td>\n",
       "      <td>0</td>\n",
       "    </tr>\n",
       "    <tr>\n",
       "      <th>3</th>\n",
       "      <td>Sketch - Draw &amp; Paint</td>\n",
       "      <td>ART_AND_DESIGN</td>\n",
       "      <td>4.5</td>\n",
       "      <td>215644</td>\n",
       "      <td>25000000.0</td>\n",
       "      <td>50000000</td>\n",
       "      <td>0</td>\n",
       "      <td>0</td>\n",
       "      <td>Teen</td>\n",
       "      <td>Art &amp; Design</td>\n",
       "      <td>June 8, 2018</td>\n",
       "      <td>Varies with device</td>\n",
       "      <td>4.2 and up</td>\n",
       "      <td>0</td>\n",
       "    </tr>\n",
       "    <tr>\n",
       "      <th>4</th>\n",
       "      <td>Pixel Draw - Number Art Coloring Book</td>\n",
       "      <td>ART_AND_DESIGN</td>\n",
       "      <td>4.3</td>\n",
       "      <td>967</td>\n",
       "      <td>2800000.0</td>\n",
       "      <td>100000</td>\n",
       "      <td>0</td>\n",
       "      <td>0</td>\n",
       "      <td>Everyone</td>\n",
       "      <td>Art &amp; Design;Creativity</td>\n",
       "      <td>June 20, 2018</td>\n",
       "      <td>1.1</td>\n",
       "      <td>4.4 and up</td>\n",
       "      <td>0</td>\n",
       "    </tr>\n",
       "  </tbody>\n",
       "</table>\n",
       "</div>"
      ],
      "text/plain": [
       "                                                 App        Category  Rating  \\\n",
       "0     Photo Editor & Candy Camera & Grid & ScrapBook  ART_AND_DESIGN     4.1   \n",
       "1                                Coloring book moana  ART_AND_DESIGN     3.9   \n",
       "2  U Launcher Lite – FREE Live Cool Themes, Hide ...  ART_AND_DESIGN     4.7   \n",
       "3                              Sketch - Draw & Paint  ART_AND_DESIGN     4.5   \n",
       "4              Pixel Draw - Number Art Coloring Book  ART_AND_DESIGN     4.3   \n",
       "\n",
       "  Reviews        Size  Installs  Type Price Content Rating  \\\n",
       "0     159  19000000.0     10000     0     0       Everyone   \n",
       "1     967  14000000.0    500000     0     0       Everyone   \n",
       "2   87510   8700000.0   5000000     0     0       Everyone   \n",
       "3  215644  25000000.0  50000000     0     0           Teen   \n",
       "4     967   2800000.0    100000     0     0       Everyone   \n",
       "\n",
       "                      Genres      Last Updated         Current Ver  \\\n",
       "0               Art & Design   January 7, 2018               1.0.0   \n",
       "1  Art & Design;Pretend Play  January 15, 2018               2.0.0   \n",
       "2               Art & Design    August 1, 2018               1.2.4   \n",
       "3               Art & Design      June 8, 2018  Varies with device   \n",
       "4    Art & Design;Creativity     June 20, 2018                 1.1   \n",
       "\n",
       "    Android Ver  Category_c  \n",
       "0  4.0.3 and up           0  \n",
       "1  4.0.3 and up           0  \n",
       "2  4.0.3 and up           0  \n",
       "3    4.2 and up           0  \n",
       "4    4.4 and up           0  "
      ]
     },
     "execution_count": 33,
     "metadata": {},
     "output_type": "execute_result"
    }
   ],
   "source": [
    "df.head()"
   ]
  },
  {
   "cell_type": "markdown",
   "metadata": {},
   "source": [
    "### Cleaning content rating column"
   ]
  },
  {
   "cell_type": "code",
   "execution_count": 34,
   "metadata": {},
   "outputs": [],
   "source": [
    "RatingVals =df[\"Content Rating\"].unique()\n",
    "RatingDict ={}\n",
    "for i in range(len(RatingVals)) :\n",
    "    RatingDict[RatingVals[i]] = i"
   ]
  },
  {
   "cell_type": "code",
   "execution_count": 35,
   "metadata": {},
   "outputs": [
    {
     "data": {
      "text/plain": [
       "{'Everyone': 0,\n",
       " 'Teen': 1,\n",
       " 'Everyone 10+': 2,\n",
       " 'Mature 17+': 3,\n",
       " 'Adults only 18+': 4,\n",
       " 'Unrated': 5}"
      ]
     },
     "execution_count": 35,
     "metadata": {},
     "output_type": "execute_result"
    }
   ],
   "source": [
    "RatingDict"
   ]
  },
  {
   "cell_type": "code",
   "execution_count": 36,
   "metadata": {},
   "outputs": [],
   "source": [
    "df['Content Rating'] = df['Content Rating'].map(RatingDict).astype(int)"
   ]
  },
  {
   "cell_type": "markdown",
   "metadata": {},
   "source": [
    "### Cleaning genre column"
   ]
  },
  {
   "cell_type": "markdown",
   "metadata": {},
   "source": [
    "Genre is a subset of category column so we can and can not include such a data while we create the model ."
   ]
  },
  {
   "cell_type": "code",
   "execution_count": 37,
   "metadata": {},
   "outputs": [],
   "source": [
    "GenresL = df.Genres.unique()\n",
    "GenresDict = {}\n",
    "for i in range(len(GenresL)):\n",
    "    GenresDict[GenresL[i]] = i\n",
    "df['Genres_c'] = df['Genres'].map(GenresDict).astype(int)"
   ]
  },
  {
   "cell_type": "code",
   "execution_count": 38,
   "metadata": {},
   "outputs": [
    {
     "data": {
      "text/plain": [
       "{'Art & Design': 0,\n",
       " 'Art & Design;Pretend Play': 1,\n",
       " 'Art & Design;Creativity': 2,\n",
       " 'Auto & Vehicles': 3,\n",
       " 'Beauty': 4,\n",
       " 'Books & Reference': 5,\n",
       " 'Business': 6,\n",
       " 'Comics': 7,\n",
       " 'Comics;Creativity': 8,\n",
       " 'Communication': 9,\n",
       " 'Dating': 10,\n",
       " 'Education;Education': 11,\n",
       " 'Education': 12,\n",
       " 'Education;Creativity': 13,\n",
       " 'Education;Music & Video': 14,\n",
       " 'Education;Action & Adventure': 15,\n",
       " 'Education;Pretend Play': 16,\n",
       " 'Education;Brain Games': 17,\n",
       " 'Entertainment': 18,\n",
       " 'Entertainment;Music & Video': 19,\n",
       " 'Entertainment;Brain Games': 20,\n",
       " 'Entertainment;Creativity': 21,\n",
       " 'Events': 22,\n",
       " 'Finance': 23,\n",
       " 'Food & Drink': 24,\n",
       " 'Health & Fitness': 25,\n",
       " 'House & Home': 26,\n",
       " 'Libraries & Demo': 27,\n",
       " 'Lifestyle': 28,\n",
       " 'Lifestyle;Pretend Play': 29,\n",
       " 'Adventure;Action & Adventure': 30,\n",
       " 'Arcade': 31,\n",
       " 'Casual': 32,\n",
       " 'Card': 33,\n",
       " 'Casual;Pretend Play': 34,\n",
       " 'Action': 35,\n",
       " 'Strategy': 36,\n",
       " 'Puzzle': 37,\n",
       " 'Sports': 38,\n",
       " 'Music': 39,\n",
       " 'Word': 40,\n",
       " 'Racing': 41,\n",
       " 'Casual;Creativity': 42,\n",
       " 'Casual;Action & Adventure': 43,\n",
       " 'Simulation': 44,\n",
       " 'Adventure': 45,\n",
       " 'Board': 46,\n",
       " 'Trivia': 47,\n",
       " 'Role Playing': 48,\n",
       " 'Simulation;Education': 49,\n",
       " 'Action;Action & Adventure': 50,\n",
       " 'Casual;Brain Games': 51,\n",
       " 'Simulation;Action & Adventure': 52,\n",
       " 'Educational;Creativity': 53,\n",
       " 'Puzzle;Brain Games': 54,\n",
       " 'Educational;Education': 55,\n",
       " 'Card;Brain Games': 56,\n",
       " 'Educational;Brain Games': 57,\n",
       " 'Educational;Pretend Play': 58,\n",
       " 'Entertainment;Education': 59,\n",
       " 'Casual;Education': 60,\n",
       " 'Music;Music & Video': 61,\n",
       " 'Racing;Action & Adventure': 62,\n",
       " 'Arcade;Pretend Play': 63,\n",
       " 'Role Playing;Action & Adventure': 64,\n",
       " 'Simulation;Pretend Play': 65,\n",
       " 'Puzzle;Creativity': 66,\n",
       " 'Sports;Action & Adventure': 67,\n",
       " 'Educational;Action & Adventure': 68,\n",
       " 'Arcade;Action & Adventure': 69,\n",
       " 'Entertainment;Action & Adventure': 70,\n",
       " 'Puzzle;Action & Adventure': 71,\n",
       " 'Strategy;Action & Adventure': 72,\n",
       " 'Music & Audio;Music & Video': 73,\n",
       " 'Health & Fitness;Education': 74,\n",
       " 'Adventure;Education': 75,\n",
       " 'Board;Brain Games': 76,\n",
       " 'Board;Action & Adventure': 77,\n",
       " 'Board;Pretend Play': 78,\n",
       " 'Casual;Music & Video': 79,\n",
       " 'Role Playing;Pretend Play': 80,\n",
       " 'Entertainment;Pretend Play': 81,\n",
       " 'Video Players & Editors;Creativity': 82,\n",
       " 'Card;Action & Adventure': 83,\n",
       " 'Medical': 84,\n",
       " 'Social': 85,\n",
       " 'Shopping': 86,\n",
       " 'Photography': 87,\n",
       " 'Travel & Local': 88,\n",
       " 'Travel & Local;Action & Adventure': 89,\n",
       " 'Tools': 90,\n",
       " 'Tools;Education': 91,\n",
       " 'Personalization': 92,\n",
       " 'Productivity': 93,\n",
       " 'Parenting': 94,\n",
       " 'Parenting;Music & Video': 95,\n",
       " 'Parenting;Brain Games': 96,\n",
       " 'Parenting;Education': 97,\n",
       " 'Weather': 98,\n",
       " 'Video Players & Editors': 99,\n",
       " 'Video Players & Editors;Music & Video': 100,\n",
       " 'News & Magazines': 101,\n",
       " 'Maps & Navigation': 102,\n",
       " 'Health & Fitness;Action & Adventure': 103,\n",
       " 'Educational': 104,\n",
       " 'Casino': 105,\n",
       " 'Adventure;Brain Games': 106,\n",
       " 'Lifestyle;Education': 107,\n",
       " 'Books & Reference;Education': 108,\n",
       " 'Puzzle;Education': 109,\n",
       " 'Role Playing;Brain Games': 110,\n",
       " 'Strategy;Education': 111,\n",
       " 'Racing;Pretend Play': 112,\n",
       " 'Communication;Creativity': 113,\n",
       " 'Strategy;Creativity': 114}"
      ]
     },
     "execution_count": 38,
     "metadata": {},
     "output_type": "execute_result"
    }
   ],
   "source": [
    "GenresDict"
   ]
  },
  {
   "cell_type": "code",
   "execution_count": 39,
   "metadata": {},
   "outputs": [
    {
     "data": {
      "text/html": [
       "<div>\n",
       "<style scoped>\n",
       "    .dataframe tbody tr th:only-of-type {\n",
       "        vertical-align: middle;\n",
       "    }\n",
       "\n",
       "    .dataframe tbody tr th {\n",
       "        vertical-align: top;\n",
       "    }\n",
       "\n",
       "    .dataframe thead th {\n",
       "        text-align: right;\n",
       "    }\n",
       "</style>\n",
       "<table border=\"1\" class=\"dataframe\">\n",
       "  <thead>\n",
       "    <tr style=\"text-align: right;\">\n",
       "      <th></th>\n",
       "      <th>App</th>\n",
       "      <th>Category</th>\n",
       "      <th>Rating</th>\n",
       "      <th>Reviews</th>\n",
       "      <th>Size</th>\n",
       "      <th>Installs</th>\n",
       "      <th>Type</th>\n",
       "      <th>Price</th>\n",
       "      <th>Content Rating</th>\n",
       "      <th>Genres</th>\n",
       "      <th>Last Updated</th>\n",
       "      <th>Current Ver</th>\n",
       "      <th>Android Ver</th>\n",
       "      <th>Category_c</th>\n",
       "      <th>Genres_c</th>\n",
       "    </tr>\n",
       "  </thead>\n",
       "  <tbody>\n",
       "    <tr>\n",
       "      <th>0</th>\n",
       "      <td>Photo Editor &amp; Candy Camera &amp; Grid &amp; ScrapBook</td>\n",
       "      <td>ART_AND_DESIGN</td>\n",
       "      <td>4.1</td>\n",
       "      <td>159</td>\n",
       "      <td>19000000.0</td>\n",
       "      <td>10000</td>\n",
       "      <td>0</td>\n",
       "      <td>0</td>\n",
       "      <td>0</td>\n",
       "      <td>Art &amp; Design</td>\n",
       "      <td>January 7, 2018</td>\n",
       "      <td>1.0.0</td>\n",
       "      <td>4.0.3 and up</td>\n",
       "      <td>0</td>\n",
       "      <td>0</td>\n",
       "    </tr>\n",
       "    <tr>\n",
       "      <th>1</th>\n",
       "      <td>Coloring book moana</td>\n",
       "      <td>ART_AND_DESIGN</td>\n",
       "      <td>3.9</td>\n",
       "      <td>967</td>\n",
       "      <td>14000000.0</td>\n",
       "      <td>500000</td>\n",
       "      <td>0</td>\n",
       "      <td>0</td>\n",
       "      <td>0</td>\n",
       "      <td>Art &amp; Design;Pretend Play</td>\n",
       "      <td>January 15, 2018</td>\n",
       "      <td>2.0.0</td>\n",
       "      <td>4.0.3 and up</td>\n",
       "      <td>0</td>\n",
       "      <td>1</td>\n",
       "    </tr>\n",
       "    <tr>\n",
       "      <th>2</th>\n",
       "      <td>U Launcher Lite – FREE Live Cool Themes, Hide ...</td>\n",
       "      <td>ART_AND_DESIGN</td>\n",
       "      <td>4.7</td>\n",
       "      <td>87510</td>\n",
       "      <td>8700000.0</td>\n",
       "      <td>5000000</td>\n",
       "      <td>0</td>\n",
       "      <td>0</td>\n",
       "      <td>0</td>\n",
       "      <td>Art &amp; Design</td>\n",
       "      <td>August 1, 2018</td>\n",
       "      <td>1.2.4</td>\n",
       "      <td>4.0.3 and up</td>\n",
       "      <td>0</td>\n",
       "      <td>0</td>\n",
       "    </tr>\n",
       "    <tr>\n",
       "      <th>3</th>\n",
       "      <td>Sketch - Draw &amp; Paint</td>\n",
       "      <td>ART_AND_DESIGN</td>\n",
       "      <td>4.5</td>\n",
       "      <td>215644</td>\n",
       "      <td>25000000.0</td>\n",
       "      <td>50000000</td>\n",
       "      <td>0</td>\n",
       "      <td>0</td>\n",
       "      <td>1</td>\n",
       "      <td>Art &amp; Design</td>\n",
       "      <td>June 8, 2018</td>\n",
       "      <td>Varies with device</td>\n",
       "      <td>4.2 and up</td>\n",
       "      <td>0</td>\n",
       "      <td>0</td>\n",
       "    </tr>\n",
       "    <tr>\n",
       "      <th>4</th>\n",
       "      <td>Pixel Draw - Number Art Coloring Book</td>\n",
       "      <td>ART_AND_DESIGN</td>\n",
       "      <td>4.3</td>\n",
       "      <td>967</td>\n",
       "      <td>2800000.0</td>\n",
       "      <td>100000</td>\n",
       "      <td>0</td>\n",
       "      <td>0</td>\n",
       "      <td>0</td>\n",
       "      <td>Art &amp; Design;Creativity</td>\n",
       "      <td>June 20, 2018</td>\n",
       "      <td>1.1</td>\n",
       "      <td>4.4 and up</td>\n",
       "      <td>0</td>\n",
       "      <td>2</td>\n",
       "    </tr>\n",
       "  </tbody>\n",
       "</table>\n",
       "</div>"
      ],
      "text/plain": [
       "                                                 App        Category  Rating  \\\n",
       "0     Photo Editor & Candy Camera & Grid & ScrapBook  ART_AND_DESIGN     4.1   \n",
       "1                                Coloring book moana  ART_AND_DESIGN     3.9   \n",
       "2  U Launcher Lite – FREE Live Cool Themes, Hide ...  ART_AND_DESIGN     4.7   \n",
       "3                              Sketch - Draw & Paint  ART_AND_DESIGN     4.5   \n",
       "4              Pixel Draw - Number Art Coloring Book  ART_AND_DESIGN     4.3   \n",
       "\n",
       "  Reviews        Size  Installs  Type Price  Content Rating  \\\n",
       "0     159  19000000.0     10000     0     0               0   \n",
       "1     967  14000000.0    500000     0     0               0   \n",
       "2   87510   8700000.0   5000000     0     0               0   \n",
       "3  215644  25000000.0  50000000     0     0               1   \n",
       "4     967   2800000.0    100000     0     0               0   \n",
       "\n",
       "                      Genres      Last Updated         Current Ver  \\\n",
       "0               Art & Design   January 7, 2018               1.0.0   \n",
       "1  Art & Design;Pretend Play  January 15, 2018               2.0.0   \n",
       "2               Art & Design    August 1, 2018               1.2.4   \n",
       "3               Art & Design      June 8, 2018  Varies with device   \n",
       "4    Art & Design;Creativity     June 20, 2018                 1.1   \n",
       "\n",
       "    Android Ver  Category_c  Genres_c  \n",
       "0  4.0.3 and up           0         0  \n",
       "1  4.0.3 and up           0         1  \n",
       "2  4.0.3 and up           0         0  \n",
       "3    4.2 and up           0         0  \n",
       "4    4.4 and up           0         2  "
      ]
     },
     "execution_count": 39,
     "metadata": {},
     "output_type": "execute_result"
    }
   ],
   "source": [
    "df.head()"
   ]
  },
  {
   "cell_type": "markdown",
   "metadata": {},
   "source": [
    "Dropping some unnecessary columns like :\n",
    "1. App name\n",
    "2. Last Updated\n",
    "3. Current Version\n",
    "4. Android Version"
   ]
  },
  {
   "cell_type": "code",
   "execution_count": 40,
   "metadata": {},
   "outputs": [],
   "source": [
    "df.drop(labels = ['Last Updated','Current Ver','Android Ver','App'], axis = 1, inplace = True)"
   ]
  },
  {
   "cell_type": "code",
   "execution_count": 41,
   "metadata": {
    "scrolled": true
   },
   "outputs": [
    {
     "data": {
      "text/html": [
       "<div>\n",
       "<style scoped>\n",
       "    .dataframe tbody tr th:only-of-type {\n",
       "        vertical-align: middle;\n",
       "    }\n",
       "\n",
       "    .dataframe tbody tr th {\n",
       "        vertical-align: top;\n",
       "    }\n",
       "\n",
       "    .dataframe thead th {\n",
       "        text-align: right;\n",
       "    }\n",
       "</style>\n",
       "<table border=\"1\" class=\"dataframe\">\n",
       "  <thead>\n",
       "    <tr style=\"text-align: right;\">\n",
       "      <th></th>\n",
       "      <th>Category</th>\n",
       "      <th>Rating</th>\n",
       "      <th>Reviews</th>\n",
       "      <th>Size</th>\n",
       "      <th>Installs</th>\n",
       "      <th>Type</th>\n",
       "      <th>Price</th>\n",
       "      <th>Content Rating</th>\n",
       "      <th>Genres</th>\n",
       "      <th>Category_c</th>\n",
       "      <th>Genres_c</th>\n",
       "    </tr>\n",
       "  </thead>\n",
       "  <tbody>\n",
       "    <tr>\n",
       "      <th>0</th>\n",
       "      <td>ART_AND_DESIGN</td>\n",
       "      <td>4.1</td>\n",
       "      <td>159</td>\n",
       "      <td>19000000.0</td>\n",
       "      <td>10000</td>\n",
       "      <td>0</td>\n",
       "      <td>0</td>\n",
       "      <td>0</td>\n",
       "      <td>Art &amp; Design</td>\n",
       "      <td>0</td>\n",
       "      <td>0</td>\n",
       "    </tr>\n",
       "    <tr>\n",
       "      <th>1</th>\n",
       "      <td>ART_AND_DESIGN</td>\n",
       "      <td>3.9</td>\n",
       "      <td>967</td>\n",
       "      <td>14000000.0</td>\n",
       "      <td>500000</td>\n",
       "      <td>0</td>\n",
       "      <td>0</td>\n",
       "      <td>0</td>\n",
       "      <td>Art &amp; Design;Pretend Play</td>\n",
       "      <td>0</td>\n",
       "      <td>1</td>\n",
       "    </tr>\n",
       "    <tr>\n",
       "      <th>2</th>\n",
       "      <td>ART_AND_DESIGN</td>\n",
       "      <td>4.7</td>\n",
       "      <td>87510</td>\n",
       "      <td>8700000.0</td>\n",
       "      <td>5000000</td>\n",
       "      <td>0</td>\n",
       "      <td>0</td>\n",
       "      <td>0</td>\n",
       "      <td>Art &amp; Design</td>\n",
       "      <td>0</td>\n",
       "      <td>0</td>\n",
       "    </tr>\n",
       "    <tr>\n",
       "      <th>3</th>\n",
       "      <td>ART_AND_DESIGN</td>\n",
       "      <td>4.5</td>\n",
       "      <td>215644</td>\n",
       "      <td>25000000.0</td>\n",
       "      <td>50000000</td>\n",
       "      <td>0</td>\n",
       "      <td>0</td>\n",
       "      <td>1</td>\n",
       "      <td>Art &amp; Design</td>\n",
       "      <td>0</td>\n",
       "      <td>0</td>\n",
       "    </tr>\n",
       "    <tr>\n",
       "      <th>4</th>\n",
       "      <td>ART_AND_DESIGN</td>\n",
       "      <td>4.3</td>\n",
       "      <td>967</td>\n",
       "      <td>2800000.0</td>\n",
       "      <td>100000</td>\n",
       "      <td>0</td>\n",
       "      <td>0</td>\n",
       "      <td>0</td>\n",
       "      <td>Art &amp; Design;Creativity</td>\n",
       "      <td>0</td>\n",
       "      <td>2</td>\n",
       "    </tr>\n",
       "  </tbody>\n",
       "</table>\n",
       "</div>"
      ],
      "text/plain": [
       "         Category  Rating Reviews        Size  Installs  Type Price  \\\n",
       "0  ART_AND_DESIGN     4.1     159  19000000.0     10000     0     0   \n",
       "1  ART_AND_DESIGN     3.9     967  14000000.0    500000     0     0   \n",
       "2  ART_AND_DESIGN     4.7   87510   8700000.0   5000000     0     0   \n",
       "3  ART_AND_DESIGN     4.5  215644  25000000.0  50000000     0     0   \n",
       "4  ART_AND_DESIGN     4.3     967   2800000.0    100000     0     0   \n",
       "\n",
       "   Content Rating                     Genres  Category_c  Genres_c  \n",
       "0               0               Art & Design           0         0  \n",
       "1               0  Art & Design;Pretend Play           0         1  \n",
       "2               0               Art & Design           0         0  \n",
       "3               1               Art & Design           0         0  \n",
       "4               0    Art & Design;Creativity           0         2  "
      ]
     },
     "execution_count": 41,
     "metadata": {},
     "output_type": "execute_result"
    }
   ],
   "source": [
    "df.head()"
   ]
  },
  {
   "cell_type": "markdown",
   "metadata": {},
   "source": [
    "### Cleaning the price column"
   ]
  },
  {
   "cell_type": "code",
   "execution_count": 42,
   "metadata": {},
   "outputs": [
    {
     "data": {
      "text/plain": [
       "array(['0', '$4.99', '$3.99', '$6.99', '$7.99', '$5.99', '$2.99', '$3.49',\n",
       "       '$1.99', '$9.99', '$7.49', '$0.99', '$9.00', '$5.49', '$10.00',\n",
       "       '$24.99', '$11.99', '$79.99', '$16.99', '$14.99', '$29.99',\n",
       "       '$12.99', '$2.49', '$10.99', '$1.50', '$19.99', '$15.99', '$33.99',\n",
       "       '$39.99', '$3.95', '$4.49', '$1.70', '$8.99', '$1.49', '$3.88',\n",
       "       '$399.99', '$17.99', '$400.00', '$3.02', '$1.76', '$4.84', '$4.77',\n",
       "       '$1.61', '$2.50', '$1.59', '$6.49', '$1.29', '$299.99', '$379.99',\n",
       "       '$37.99', '$18.99', '$389.99', '$8.49', '$1.75', '$14.00', '$2.00',\n",
       "       '$3.08', '$2.59', '$19.40', '$3.90', '$4.59', '$15.46', '$3.04',\n",
       "       '$13.99', '$4.29', '$3.28', '$4.60', '$1.00', '$2.95', '$2.90',\n",
       "       '$1.97', '$2.56', '$1.20'], dtype=object)"
      ]
     },
     "execution_count": 42,
     "metadata": {},
     "output_type": "execute_result"
    }
   ],
   "source": [
    "df[\"Price\"].unique()"
   ]
  },
  {
   "cell_type": "code",
   "execution_count": 43,
   "metadata": {},
   "outputs": [],
   "source": [
    "def price_clean(price):\n",
    "    if price == '0':\n",
    "        return 0\n",
    "    else:\n",
    "        price = price[1:]\n",
    "        price = float(price)\n",
    "        return price\n",
    "df['Price'] = df['Price'].map(price_clean).astype(float)"
   ]
  },
  {
   "cell_type": "code",
   "execution_count": 44,
   "metadata": {},
   "outputs": [],
   "source": [
    "# convert reviews to int\n",
    "df['Reviews'] = df['Reviews'].astype(int)"
   ]
  },
  {
   "cell_type": "code",
   "execution_count": 45,
   "metadata": {
    "scrolled": false
   },
   "outputs": [
    {
     "data": {
      "text/html": [
       "<div>\n",
       "<style scoped>\n",
       "    .dataframe tbody tr th:only-of-type {\n",
       "        vertical-align: middle;\n",
       "    }\n",
       "\n",
       "    .dataframe tbody tr th {\n",
       "        vertical-align: top;\n",
       "    }\n",
       "\n",
       "    .dataframe thead th {\n",
       "        text-align: right;\n",
       "    }\n",
       "</style>\n",
       "<table border=\"1\" class=\"dataframe\">\n",
       "  <thead>\n",
       "    <tr style=\"text-align: right;\">\n",
       "      <th></th>\n",
       "      <th>Category</th>\n",
       "      <th>Rating</th>\n",
       "      <th>Reviews</th>\n",
       "      <th>Size</th>\n",
       "      <th>Installs</th>\n",
       "      <th>Type</th>\n",
       "      <th>Price</th>\n",
       "      <th>Content Rating</th>\n",
       "      <th>Genres</th>\n",
       "      <th>Category_c</th>\n",
       "      <th>Genres_c</th>\n",
       "    </tr>\n",
       "  </thead>\n",
       "  <tbody>\n",
       "    <tr>\n",
       "      <th>0</th>\n",
       "      <td>ART_AND_DESIGN</td>\n",
       "      <td>4.1</td>\n",
       "      <td>159</td>\n",
       "      <td>19000000.0</td>\n",
       "      <td>10000</td>\n",
       "      <td>0</td>\n",
       "      <td>0.0</td>\n",
       "      <td>0</td>\n",
       "      <td>Art &amp; Design</td>\n",
       "      <td>0</td>\n",
       "      <td>0</td>\n",
       "    </tr>\n",
       "    <tr>\n",
       "      <th>1</th>\n",
       "      <td>ART_AND_DESIGN</td>\n",
       "      <td>3.9</td>\n",
       "      <td>967</td>\n",
       "      <td>14000000.0</td>\n",
       "      <td>500000</td>\n",
       "      <td>0</td>\n",
       "      <td>0.0</td>\n",
       "      <td>0</td>\n",
       "      <td>Art &amp; Design;Pretend Play</td>\n",
       "      <td>0</td>\n",
       "      <td>1</td>\n",
       "    </tr>\n",
       "    <tr>\n",
       "      <th>2</th>\n",
       "      <td>ART_AND_DESIGN</td>\n",
       "      <td>4.7</td>\n",
       "      <td>87510</td>\n",
       "      <td>8700000.0</td>\n",
       "      <td>5000000</td>\n",
       "      <td>0</td>\n",
       "      <td>0.0</td>\n",
       "      <td>0</td>\n",
       "      <td>Art &amp; Design</td>\n",
       "      <td>0</td>\n",
       "      <td>0</td>\n",
       "    </tr>\n",
       "    <tr>\n",
       "      <th>3</th>\n",
       "      <td>ART_AND_DESIGN</td>\n",
       "      <td>4.5</td>\n",
       "      <td>215644</td>\n",
       "      <td>25000000.0</td>\n",
       "      <td>50000000</td>\n",
       "      <td>0</td>\n",
       "      <td>0.0</td>\n",
       "      <td>1</td>\n",
       "      <td>Art &amp; Design</td>\n",
       "      <td>0</td>\n",
       "      <td>0</td>\n",
       "    </tr>\n",
       "    <tr>\n",
       "      <th>4</th>\n",
       "      <td>ART_AND_DESIGN</td>\n",
       "      <td>4.3</td>\n",
       "      <td>967</td>\n",
       "      <td>2800000.0</td>\n",
       "      <td>100000</td>\n",
       "      <td>0</td>\n",
       "      <td>0.0</td>\n",
       "      <td>0</td>\n",
       "      <td>Art &amp; Design;Creativity</td>\n",
       "      <td>0</td>\n",
       "      <td>2</td>\n",
       "    </tr>\n",
       "  </tbody>\n",
       "</table>\n",
       "</div>"
      ],
      "text/plain": [
       "         Category  Rating  Reviews        Size  Installs  Type  Price  \\\n",
       "0  ART_AND_DESIGN     4.1      159  19000000.0     10000     0    0.0   \n",
       "1  ART_AND_DESIGN     3.9      967  14000000.0    500000     0    0.0   \n",
       "2  ART_AND_DESIGN     4.7    87510   8700000.0   5000000     0    0.0   \n",
       "3  ART_AND_DESIGN     4.5   215644  25000000.0  50000000     0    0.0   \n",
       "4  ART_AND_DESIGN     4.3      967   2800000.0    100000     0    0.0   \n",
       "\n",
       "   Content Rating                     Genres  Category_c  Genres_c  \n",
       "0               0               Art & Design           0         0  \n",
       "1               0  Art & Design;Pretend Play           0         1  \n",
       "2               0               Art & Design           0         0  \n",
       "3               1               Art & Design           0         0  \n",
       "4               0    Art & Design;Creativity           0         2  "
      ]
     },
     "execution_count": 45,
     "metadata": {},
     "output_type": "execute_result"
    }
   ],
   "source": [
    "df.head()"
   ]
  },
  {
   "cell_type": "markdown",
   "metadata": {},
   "source": [
    "## Genralisation of values"
   ]
  },
  {
   "cell_type": "code",
   "execution_count": 46,
   "metadata": {},
   "outputs": [],
   "source": [
    "dfnew = df.copy(deep=True)\n",
    "cols_to_norm = ['Size','Installs', 'Reviews','Price']\n",
    "# dfnew[cols_to_norm] = dfnew[cols_to_norm].apply(lambda x: (1000)*((x - x.min()) / (x.max() - x.min())))"
   ]
  },
  {
   "cell_type": "code",
   "execution_count": 47,
   "metadata": {},
   "outputs": [],
   "source": [
    "df[cols_to_norm] = df[cols_to_norm].apply(lambda x: ((x - x.min()) / (x.max() - x.min())))"
   ]
  },
  {
   "cell_type": "code",
   "execution_count": 48,
   "metadata": {},
   "outputs": [
    {
     "data": {
      "text/html": [
       "<div>\n",
       "<style scoped>\n",
       "    .dataframe tbody tr th:only-of-type {\n",
       "        vertical-align: middle;\n",
       "    }\n",
       "\n",
       "    .dataframe tbody tr th {\n",
       "        vertical-align: top;\n",
       "    }\n",
       "\n",
       "    .dataframe thead th {\n",
       "        text-align: right;\n",
       "    }\n",
       "</style>\n",
       "<table border=\"1\" class=\"dataframe\">\n",
       "  <thead>\n",
       "    <tr style=\"text-align: right;\">\n",
       "      <th></th>\n",
       "      <th>Category</th>\n",
       "      <th>Rating</th>\n",
       "      <th>Reviews</th>\n",
       "      <th>Size</th>\n",
       "      <th>Installs</th>\n",
       "      <th>Type</th>\n",
       "      <th>Price</th>\n",
       "      <th>Content Rating</th>\n",
       "      <th>Genres</th>\n",
       "      <th>Category_c</th>\n",
       "      <th>Genres_c</th>\n",
       "    </tr>\n",
       "  </thead>\n",
       "  <tbody>\n",
       "    <tr>\n",
       "      <th>0</th>\n",
       "      <td>ART_AND_DESIGN</td>\n",
       "      <td>4.1</td>\n",
       "      <td>2.021538e-06</td>\n",
       "      <td>0.189931</td>\n",
       "      <td>9.999000e-06</td>\n",
       "      <td>0</td>\n",
       "      <td>0.0</td>\n",
       "      <td>0</td>\n",
       "      <td>Art &amp; Design</td>\n",
       "      <td>0</td>\n",
       "      <td>0</td>\n",
       "    </tr>\n",
       "    <tr>\n",
       "      <th>1</th>\n",
       "      <td>ART_AND_DESIGN</td>\n",
       "      <td>3.9</td>\n",
       "      <td>1.235953e-05</td>\n",
       "      <td>0.139927</td>\n",
       "      <td>4.999990e-04</td>\n",
       "      <td>0</td>\n",
       "      <td>0.0</td>\n",
       "      <td>0</td>\n",
       "      <td>Art &amp; Design;Pretend Play</td>\n",
       "      <td>0</td>\n",
       "      <td>1</td>\n",
       "    </tr>\n",
       "    <tr>\n",
       "      <th>2</th>\n",
       "      <td>ART_AND_DESIGN</td>\n",
       "      <td>4.7</td>\n",
       "      <td>1.119638e-03</td>\n",
       "      <td>0.086922</td>\n",
       "      <td>4.999999e-03</td>\n",
       "      <td>0</td>\n",
       "      <td>0.0</td>\n",
       "      <td>0</td>\n",
       "      <td>Art &amp; Design</td>\n",
       "      <td>0</td>\n",
       "      <td>0</td>\n",
       "    </tr>\n",
       "    <tr>\n",
       "      <th>3</th>\n",
       "      <td>ART_AND_DESIGN</td>\n",
       "      <td>4.5</td>\n",
       "      <td>2.759054e-03</td>\n",
       "      <td>0.249936</td>\n",
       "      <td>5.000000e-02</td>\n",
       "      <td>0</td>\n",
       "      <td>0.0</td>\n",
       "      <td>1</td>\n",
       "      <td>Art &amp; Design</td>\n",
       "      <td>0</td>\n",
       "      <td>0</td>\n",
       "    </tr>\n",
       "    <tr>\n",
       "      <th>4</th>\n",
       "      <td>ART_AND_DESIGN</td>\n",
       "      <td>4.3</td>\n",
       "      <td>1.235953e-05</td>\n",
       "      <td>0.027917</td>\n",
       "      <td>9.999900e-05</td>\n",
       "      <td>0</td>\n",
       "      <td>0.0</td>\n",
       "      <td>0</td>\n",
       "      <td>Art &amp; Design;Creativity</td>\n",
       "      <td>0</td>\n",
       "      <td>2</td>\n",
       "    </tr>\n",
       "    <tr>\n",
       "      <th>5</th>\n",
       "      <td>ART_AND_DESIGN</td>\n",
       "      <td>4.4</td>\n",
       "      <td>2.123895e-06</td>\n",
       "      <td>0.055920</td>\n",
       "      <td>4.999900e-05</td>\n",
       "      <td>0</td>\n",
       "      <td>0.0</td>\n",
       "      <td>0</td>\n",
       "      <td>Art &amp; Design</td>\n",
       "      <td>0</td>\n",
       "      <td>0</td>\n",
       "    </tr>\n",
       "    <tr>\n",
       "      <th>6</th>\n",
       "      <td>ART_AND_DESIGN</td>\n",
       "      <td>3.8</td>\n",
       "      <td>2.264635e-06</td>\n",
       "      <td>0.189931</td>\n",
       "      <td>4.999900e-05</td>\n",
       "      <td>0</td>\n",
       "      <td>0.0</td>\n",
       "      <td>0</td>\n",
       "      <td>Art &amp; Design</td>\n",
       "      <td>0</td>\n",
       "      <td>0</td>\n",
       "    </tr>\n",
       "    <tr>\n",
       "      <th>7</th>\n",
       "      <td>ART_AND_DESIGN</td>\n",
       "      <td>4.1</td>\n",
       "      <td>4.710184e-04</td>\n",
       "      <td>0.289940</td>\n",
       "      <td>9.999990e-04</td>\n",
       "      <td>0</td>\n",
       "      <td>0.0</td>\n",
       "      <td>0</td>\n",
       "      <td>Art &amp; Design</td>\n",
       "      <td>0</td>\n",
       "      <td>0</td>\n",
       "    </tr>\n",
       "    <tr>\n",
       "      <th>8</th>\n",
       "      <td>ART_AND_DESIGN</td>\n",
       "      <td>4.4</td>\n",
       "      <td>1.764368e-04</td>\n",
       "      <td>0.329943</td>\n",
       "      <td>9.999990e-04</td>\n",
       "      <td>0</td>\n",
       "      <td>0.0</td>\n",
       "      <td>0</td>\n",
       "      <td>Art &amp; Design</td>\n",
       "      <td>0</td>\n",
       "      <td>0</td>\n",
       "    </tr>\n",
       "    <tr>\n",
       "      <th>9</th>\n",
       "      <td>ART_AND_DESIGN</td>\n",
       "      <td>4.7</td>\n",
       "      <td>1.535345e-06</td>\n",
       "      <td>0.030918</td>\n",
       "      <td>9.999000e-06</td>\n",
       "      <td>0</td>\n",
       "      <td>0.0</td>\n",
       "      <td>0</td>\n",
       "      <td>Art &amp; Design;Creativity</td>\n",
       "      <td>0</td>\n",
       "      <td>2</td>\n",
       "    </tr>\n",
       "    <tr>\n",
       "      <th>10</th>\n",
       "      <td>ART_AND_DESIGN</td>\n",
       "      <td>4.4</td>\n",
       "      <td>1.775755e-04</td>\n",
       "      <td>0.279939</td>\n",
       "      <td>9.999990e-04</td>\n",
       "      <td>0</td>\n",
       "      <td>0.0</td>\n",
       "      <td>0</td>\n",
       "      <td>Art &amp; Design</td>\n",
       "      <td>0</td>\n",
       "      <td>0</td>\n",
       "    </tr>\n",
       "    <tr>\n",
       "      <th>11</th>\n",
       "      <td>ART_AND_DESIGN</td>\n",
       "      <td>4.4</td>\n",
       "      <td>1.124257e-04</td>\n",
       "      <td>0.119925</td>\n",
       "      <td>9.999990e-04</td>\n",
       "      <td>0</td>\n",
       "      <td>0.0</td>\n",
       "      <td>0</td>\n",
       "      <td>Art &amp; Design</td>\n",
       "      <td>0</td>\n",
       "      <td>0</td>\n",
       "    </tr>\n",
       "    <tr>\n",
       "      <th>12</th>\n",
       "      <td>ART_AND_DESIGN</td>\n",
       "      <td>4.2</td>\n",
       "      <td>5.735539e-04</td>\n",
       "      <td>0.199932</td>\n",
       "      <td>9.999999e-03</td>\n",
       "      <td>0</td>\n",
       "      <td>0.0</td>\n",
       "      <td>1</td>\n",
       "      <td>Art &amp; Design</td>\n",
       "      <td>0</td>\n",
       "      <td>0</td>\n",
       "    </tr>\n",
       "    <tr>\n",
       "      <th>13</th>\n",
       "      <td>ART_AND_DESIGN</td>\n",
       "      <td>4.6</td>\n",
       "      <td>5.533641e-05</td>\n",
       "      <td>0.209933</td>\n",
       "      <td>9.999900e-05</td>\n",
       "      <td>0</td>\n",
       "      <td>0.0</td>\n",
       "      <td>0</td>\n",
       "      <td>Art &amp; Design</td>\n",
       "      <td>0</td>\n",
       "      <td>0</td>\n",
       "    </tr>\n",
       "    <tr>\n",
       "      <th>14</th>\n",
       "      <td>ART_AND_DESIGN</td>\n",
       "      <td>4.4</td>\n",
       "      <td>1.940933e-05</td>\n",
       "      <td>0.369946</td>\n",
       "      <td>9.999900e-05</td>\n",
       "      <td>0</td>\n",
       "      <td>0.0</td>\n",
       "      <td>0</td>\n",
       "      <td>Art &amp; Design</td>\n",
       "      <td>0</td>\n",
       "      <td>0</td>\n",
       "    </tr>\n",
       "    <tr>\n",
       "      <th>16</th>\n",
       "      <td>ART_AND_DESIGN</td>\n",
       "      <td>4.7</td>\n",
       "      <td>4.645700e-05</td>\n",
       "      <td>0.054920</td>\n",
       "      <td>4.999990e-04</td>\n",
       "      <td>0</td>\n",
       "      <td>0.0</td>\n",
       "      <td>0</td>\n",
       "      <td>Art &amp; Design</td>\n",
       "      <td>0</td>\n",
       "      <td>0</td>\n",
       "    </tr>\n",
       "    <tr>\n",
       "      <th>17</th>\n",
       "      <td>ART_AND_DESIGN</td>\n",
       "      <td>4.5</td>\n",
       "      <td>3.326582e-07</td>\n",
       "      <td>0.169929</td>\n",
       "      <td>9.999000e-06</td>\n",
       "      <td>0</td>\n",
       "      <td>0.0</td>\n",
       "      <td>0</td>\n",
       "      <td>Art &amp; Design</td>\n",
       "      <td>0</td>\n",
       "      <td>0</td>\n",
       "    </tr>\n",
       "    <tr>\n",
       "      <th>18</th>\n",
       "      <td>ART_AND_DESIGN</td>\n",
       "      <td>4.3</td>\n",
       "      <td>2.484893e-03</td>\n",
       "      <td>0.389948</td>\n",
       "      <td>4.999999e-03</td>\n",
       "      <td>0</td>\n",
       "      <td>0.0</td>\n",
       "      <td>0</td>\n",
       "      <td>Art &amp; Design</td>\n",
       "      <td>0</td>\n",
       "      <td>0</td>\n",
       "    </tr>\n",
       "    <tr>\n",
       "      <th>19</th>\n",
       "      <td>ART_AND_DESIGN</td>\n",
       "      <td>4.6</td>\n",
       "      <td>2.871070e-03</td>\n",
       "      <td>0.309941</td>\n",
       "      <td>9.999999e-03</td>\n",
       "      <td>0</td>\n",
       "      <td>0.0</td>\n",
       "      <td>0</td>\n",
       "      <td>Art &amp; Design</td>\n",
       "      <td>0</td>\n",
       "      <td>0</td>\n",
       "    </tr>\n",
       "    <tr>\n",
       "      <th>20</th>\n",
       "      <td>ART_AND_DESIGN</td>\n",
       "      <td>4.0</td>\n",
       "      <td>5.744751e-06</td>\n",
       "      <td>0.139927</td>\n",
       "      <td>9.999900e-05</td>\n",
       "      <td>0</td>\n",
       "      <td>0.0</td>\n",
       "      <td>0</td>\n",
       "      <td>Art &amp; Design</td>\n",
       "      <td>0</td>\n",
       "      <td>0</td>\n",
       "    </tr>\n",
       "    <tr>\n",
       "      <th>21</th>\n",
       "      <td>ART_AND_DESIGN</td>\n",
       "      <td>4.1</td>\n",
       "      <td>8.354838e-06</td>\n",
       "      <td>0.119925</td>\n",
       "      <td>9.999900e-05</td>\n",
       "      <td>0</td>\n",
       "      <td>0.0</td>\n",
       "      <td>0</td>\n",
       "      <td>Art &amp; Design</td>\n",
       "      <td>0</td>\n",
       "      <td>0</td>\n",
       "    </tr>\n",
       "    <tr>\n",
       "      <th>22</th>\n",
       "      <td>ART_AND_DESIGN</td>\n",
       "      <td>4.7</td>\n",
       "      <td>9.849241e-05</td>\n",
       "      <td>0.041919</td>\n",
       "      <td>4.999990e-04</td>\n",
       "      <td>0</td>\n",
       "      <td>0.0</td>\n",
       "      <td>2</td>\n",
       "      <td>Art &amp; Design</td>\n",
       "      <td>0</td>\n",
       "      <td>0</td>\n",
       "    </tr>\n",
       "    <tr>\n",
       "      <th>24</th>\n",
       "      <td>ART_AND_DESIGN</td>\n",
       "      <td>4.7</td>\n",
       "      <td>1.496962e-06</td>\n",
       "      <td>0.229935</td>\n",
       "      <td>4.999900e-05</td>\n",
       "      <td>0</td>\n",
       "      <td>0.0</td>\n",
       "      <td>0</td>\n",
       "      <td>Art &amp; Design</td>\n",
       "      <td>0</td>\n",
       "      <td>0</td>\n",
       "    </tr>\n",
       "    <tr>\n",
       "      <th>25</th>\n",
       "      <td>ART_AND_DESIGN</td>\n",
       "      <td>4.8</td>\n",
       "      <td>2.443758e-06</td>\n",
       "      <td>0.059920</td>\n",
       "      <td>9.999000e-06</td>\n",
       "      <td>0</td>\n",
       "      <td>0.0</td>\n",
       "      <td>0</td>\n",
       "      <td>Art &amp; Design</td>\n",
       "      <td>0</td>\n",
       "      <td>0</td>\n",
       "    </tr>\n",
       "    <tr>\n",
       "      <th>26</th>\n",
       "      <td>ART_AND_DESIGN</td>\n",
       "      <td>4.7</td>\n",
       "      <td>2.592047e-04</td>\n",
       "      <td>0.249936</td>\n",
       "      <td>4.999990e-04</td>\n",
       "      <td>0</td>\n",
       "      <td>0.0</td>\n",
       "      <td>0</td>\n",
       "      <td>Art &amp; Design;Creativity</td>\n",
       "      <td>0</td>\n",
       "      <td>2</td>\n",
       "    </tr>\n",
       "    <tr>\n",
       "      <th>27</th>\n",
       "      <td>ART_AND_DESIGN</td>\n",
       "      <td>4.1</td>\n",
       "      <td>2.584498e-06</td>\n",
       "      <td>0.060920</td>\n",
       "      <td>9.999900e-05</td>\n",
       "      <td>0</td>\n",
       "      <td>0.0</td>\n",
       "      <td>0</td>\n",
       "      <td>Art &amp; Design</td>\n",
       "      <td>0</td>\n",
       "      <td>0</td>\n",
       "    </tr>\n",
       "    <tr>\n",
       "      <th>28</th>\n",
       "      <td>ART_AND_DESIGN</td>\n",
       "      <td>3.9</td>\n",
       "      <td>1.727264e-06</td>\n",
       "      <td>0.045919</td>\n",
       "      <td>9.999000e-06</td>\n",
       "      <td>0</td>\n",
       "      <td>0.0</td>\n",
       "      <td>0</td>\n",
       "      <td>Art &amp; Design</td>\n",
       "      <td>0</td>\n",
       "      <td>0</td>\n",
       "    </tr>\n",
       "    <tr>\n",
       "      <th>29</th>\n",
       "      <td>ART_AND_DESIGN</td>\n",
       "      <td>4.1</td>\n",
       "      <td>2.840389e-06</td>\n",
       "      <td>0.041919</td>\n",
       "      <td>9.999900e-05</td>\n",
       "      <td>0</td>\n",
       "      <td>0.0</td>\n",
       "      <td>0</td>\n",
       "      <td>Art &amp; Design</td>\n",
       "      <td>0</td>\n",
       "      <td>0</td>\n",
       "    </tr>\n",
       "    <tr>\n",
       "      <th>30</th>\n",
       "      <td>ART_AND_DESIGN</td>\n",
       "      <td>4.2</td>\n",
       "      <td>1.431710e-05</td>\n",
       "      <td>0.091923</td>\n",
       "      <td>9.999900e-05</td>\n",
       "      <td>0</td>\n",
       "      <td>0.0</td>\n",
       "      <td>0</td>\n",
       "      <td>Art &amp; Design</td>\n",
       "      <td>0</td>\n",
       "      <td>0</td>\n",
       "    </tr>\n",
       "    <tr>\n",
       "      <th>31</th>\n",
       "      <td>ART_AND_DESIGN</td>\n",
       "      <td>4.1</td>\n",
       "      <td>2.891567e-06</td>\n",
       "      <td>0.051919</td>\n",
       "      <td>4.999900e-05</td>\n",
       "      <td>0</td>\n",
       "      <td>0.0</td>\n",
       "      <td>0</td>\n",
       "      <td>Art &amp; Design</td>\n",
       "      <td>0</td>\n",
       "      <td>0</td>\n",
       "    </tr>\n",
       "    <tr>\n",
       "      <th>...</th>\n",
       "      <td>...</td>\n",
       "      <td>...</td>\n",
       "      <td>...</td>\n",
       "      <td>...</td>\n",
       "      <td>...</td>\n",
       "      <td>...</td>\n",
       "      <td>...</td>\n",
       "      <td>...</td>\n",
       "      <td>...</td>\n",
       "      <td>...</td>\n",
       "      <td>...</td>\n",
       "    </tr>\n",
       "    <tr>\n",
       "      <th>10795</th>\n",
       "      <td>TOOLS</td>\n",
       "      <td>4.2</td>\n",
       "      <td>9.388638e-05</td>\n",
       "      <td>0.039918</td>\n",
       "      <td>9.999900e-05</td>\n",
       "      <td>0</td>\n",
       "      <td>0.0</td>\n",
       "      <td>0</td>\n",
       "      <td>Tools</td>\n",
       "      <td>25</td>\n",
       "      <td>90</td>\n",
       "    </tr>\n",
       "    <tr>\n",
       "      <th>10796</th>\n",
       "      <td>TOOLS</td>\n",
       "      <td>4.7</td>\n",
       "      <td>7.861481e-04</td>\n",
       "      <td>0.077922</td>\n",
       "      <td>9.999990e-04</td>\n",
       "      <td>0</td>\n",
       "      <td>0.0</td>\n",
       "      <td>0</td>\n",
       "      <td>Tools</td>\n",
       "      <td>25</td>\n",
       "      <td>90</td>\n",
       "    </tr>\n",
       "    <tr>\n",
       "      <th>10797</th>\n",
       "      <td>LIFESTYLE</td>\n",
       "      <td>4.6</td>\n",
       "      <td>4.149527e-04</td>\n",
       "      <td>0.459954</td>\n",
       "      <td>9.999990e-04</td>\n",
       "      <td>0</td>\n",
       "      <td>0.0</td>\n",
       "      <td>0</td>\n",
       "      <td>Lifestyle</td>\n",
       "      <td>16</td>\n",
       "      <td>28</td>\n",
       "    </tr>\n",
       "    <tr>\n",
       "      <th>10799</th>\n",
       "      <td>SOCIAL</td>\n",
       "      <td>4.7</td>\n",
       "      <td>2.603690e-05</td>\n",
       "      <td>0.067921</td>\n",
       "      <td>9.999900e-05</td>\n",
       "      <td>0</td>\n",
       "      <td>0.0</td>\n",
       "      <td>0</td>\n",
       "      <td>Social</td>\n",
       "      <td>20</td>\n",
       "      <td>85</td>\n",
       "    </tr>\n",
       "    <tr>\n",
       "      <th>10800</th>\n",
       "      <td>TOOLS</td>\n",
       "      <td>4.1</td>\n",
       "      <td>2.213456e-06</td>\n",
       "      <td>0.119925</td>\n",
       "      <td>4.999000e-06</td>\n",
       "      <td>0</td>\n",
       "      <td>0.0</td>\n",
       "      <td>0</td>\n",
       "      <td>Tools</td>\n",
       "      <td>25</td>\n",
       "      <td>90</td>\n",
       "    </tr>\n",
       "    <tr>\n",
       "      <th>10801</th>\n",
       "      <td>FAMILY</td>\n",
       "      <td>4.9</td>\n",
       "      <td>6.525218e-07</td>\n",
       "      <td>0.189931</td>\n",
       "      <td>9.990000e-07</td>\n",
       "      <td>0</td>\n",
       "      <td>0.0</td>\n",
       "      <td>0</td>\n",
       "      <td>Education</td>\n",
       "      <td>18</td>\n",
       "      <td>12</td>\n",
       "    </tr>\n",
       "    <tr>\n",
       "      <th>10802</th>\n",
       "      <td>FAMILY</td>\n",
       "      <td>4.0</td>\n",
       "      <td>2.354196e-06</td>\n",
       "      <td>0.279939</td>\n",
       "      <td>9.999000e-06</td>\n",
       "      <td>0</td>\n",
       "      <td>0.0</td>\n",
       "      <td>1</td>\n",
       "      <td>Entertainment</td>\n",
       "      <td>18</td>\n",
       "      <td>18</td>\n",
       "    </tr>\n",
       "    <tr>\n",
       "      <th>10803</th>\n",
       "      <td>GAME</td>\n",
       "      <td>4.3</td>\n",
       "      <td>7.228279e-04</td>\n",
       "      <td>0.809984</td>\n",
       "      <td>9.999990e-04</td>\n",
       "      <td>0</td>\n",
       "      <td>0.0</td>\n",
       "      <td>1</td>\n",
       "      <td>Action</td>\n",
       "      <td>17</td>\n",
       "      <td>35</td>\n",
       "    </tr>\n",
       "    <tr>\n",
       "      <th>10804</th>\n",
       "      <td>GAME</td>\n",
       "      <td>4.2</td>\n",
       "      <td>6.961512e-05</td>\n",
       "      <td>0.169929</td>\n",
       "      <td>9.999900e-05</td>\n",
       "      <td>0</td>\n",
       "      <td>0.0</td>\n",
       "      <td>1</td>\n",
       "      <td>Card</td>\n",
       "      <td>17</td>\n",
       "      <td>33</td>\n",
       "    </tr>\n",
       "    <tr>\n",
       "      <th>10805</th>\n",
       "      <td>LIFESTYLE</td>\n",
       "      <td>4.3</td>\n",
       "      <td>2.558909e-08</td>\n",
       "      <td>0.149928</td>\n",
       "      <td>9.900000e-08</td>\n",
       "      <td>0</td>\n",
       "      <td>0.0</td>\n",
       "      <td>0</td>\n",
       "      <td>Lifestyle</td>\n",
       "      <td>16</td>\n",
       "      <td>28</td>\n",
       "    </tr>\n",
       "    <tr>\n",
       "      <th>10809</th>\n",
       "      <td>FAMILY</td>\n",
       "      <td>4.7</td>\n",
       "      <td>4.813590e-03</td>\n",
       "      <td>0.239935</td>\n",
       "      <td>9.999990e-04</td>\n",
       "      <td>0</td>\n",
       "      <td>0.0</td>\n",
       "      <td>0</td>\n",
       "      <td>Strategy</td>\n",
       "      <td>18</td>\n",
       "      <td>36</td>\n",
       "    </tr>\n",
       "    <tr>\n",
       "      <th>10810</th>\n",
       "      <td>BUSINESS</td>\n",
       "      <td>4.8</td>\n",
       "      <td>2.303018e-07</td>\n",
       "      <td>0.209933</td>\n",
       "      <td>9.900000e-08</td>\n",
       "      <td>0</td>\n",
       "      <td>0.0</td>\n",
       "      <td>0</td>\n",
       "      <td>Business</td>\n",
       "      <td>4</td>\n",
       "      <td>6</td>\n",
       "    </tr>\n",
       "    <tr>\n",
       "      <th>10812</th>\n",
       "      <td>FAMILY</td>\n",
       "      <td>4.1</td>\n",
       "      <td>1.010769e-06</td>\n",
       "      <td>0.129926</td>\n",
       "      <td>9.990000e-07</td>\n",
       "      <td>0</td>\n",
       "      <td>0.0</td>\n",
       "      <td>0</td>\n",
       "      <td>Education</td>\n",
       "      <td>18</td>\n",
       "      <td>12</td>\n",
       "    </tr>\n",
       "    <tr>\n",
       "      <th>10814</th>\n",
       "      <td>FAMILY</td>\n",
       "      <td>4.0</td>\n",
       "      <td>1.003092e-05</td>\n",
       "      <td>0.309941</td>\n",
       "      <td>4.999900e-05</td>\n",
       "      <td>0</td>\n",
       "      <td>0.0</td>\n",
       "      <td>1</td>\n",
       "      <td>Entertainment</td>\n",
       "      <td>18</td>\n",
       "      <td>18</td>\n",
       "    </tr>\n",
       "    <tr>\n",
       "      <th>10815</th>\n",
       "      <td>BOOKS_AND_REFERENCE</td>\n",
       "      <td>4.2</td>\n",
       "      <td>7.387571e-05</td>\n",
       "      <td>0.048919</td>\n",
       "      <td>4.999990e-04</td>\n",
       "      <td>0</td>\n",
       "      <td>0.0</td>\n",
       "      <td>0</td>\n",
       "      <td>Books &amp; Reference</td>\n",
       "      <td>3</td>\n",
       "      <td>5</td>\n",
       "    </tr>\n",
       "    <tr>\n",
       "      <th>10817</th>\n",
       "      <td>TOOLS</td>\n",
       "      <td>4.0</td>\n",
       "      <td>1.131038e-05</td>\n",
       "      <td>0.079922</td>\n",
       "      <td>9.999900e-05</td>\n",
       "      <td>0</td>\n",
       "      <td>0.0</td>\n",
       "      <td>0</td>\n",
       "      <td>Tools</td>\n",
       "      <td>25</td>\n",
       "      <td>90</td>\n",
       "    </tr>\n",
       "    <tr>\n",
       "      <th>10819</th>\n",
       "      <td>BOOKS_AND_REFERENCE</td>\n",
       "      <td>3.3</td>\n",
       "      <td>6.525218e-07</td>\n",
       "      <td>0.035918</td>\n",
       "      <td>4.999000e-06</td>\n",
       "      <td>0</td>\n",
       "      <td>0.0</td>\n",
       "      <td>1</td>\n",
       "      <td>Books &amp; Reference</td>\n",
       "      <td>3</td>\n",
       "      <td>5</td>\n",
       "    </tr>\n",
       "    <tr>\n",
       "      <th>10820</th>\n",
       "      <td>FAMILY</td>\n",
       "      <td>5.0</td>\n",
       "      <td>2.686855e-07</td>\n",
       "      <td>0.085922</td>\n",
       "      <td>9.990000e-07</td>\n",
       "      <td>0</td>\n",
       "      <td>0.0</td>\n",
       "      <td>1</td>\n",
       "      <td>Education</td>\n",
       "      <td>18</td>\n",
       "      <td>12</td>\n",
       "    </tr>\n",
       "    <tr>\n",
       "      <th>10826</th>\n",
       "      <td>SOCIAL</td>\n",
       "      <td>4.0</td>\n",
       "      <td>1.132125e-03</td>\n",
       "      <td>0.085922</td>\n",
       "      <td>4.999999e-03</td>\n",
       "      <td>0</td>\n",
       "      <td>0.0</td>\n",
       "      <td>3</td>\n",
       "      <td>Social</td>\n",
       "      <td>20</td>\n",
       "      <td>85</td>\n",
       "    </tr>\n",
       "    <tr>\n",
       "      <th>10827</th>\n",
       "      <td>FAMILY</td>\n",
       "      <td>4.2</td>\n",
       "      <td>1.484167e-06</td>\n",
       "      <td>0.129926</td>\n",
       "      <td>4.999000e-06</td>\n",
       "      <td>0</td>\n",
       "      <td>0.0</td>\n",
       "      <td>0</td>\n",
       "      <td>Education</td>\n",
       "      <td>18</td>\n",
       "      <td>12</td>\n",
       "    </tr>\n",
       "    <tr>\n",
       "      <th>10828</th>\n",
       "      <td>COMICS</td>\n",
       "      <td>3.4</td>\n",
       "      <td>3.710418e-06</td>\n",
       "      <td>0.129926</td>\n",
       "      <td>9.999000e-06</td>\n",
       "      <td>0</td>\n",
       "      <td>0.0</td>\n",
       "      <td>0</td>\n",
       "      <td>Comics</td>\n",
       "      <td>5</td>\n",
       "      <td>7</td>\n",
       "    </tr>\n",
       "    <tr>\n",
       "      <th>10829</th>\n",
       "      <td>BOOKS_AND_REFERENCE</td>\n",
       "      <td>4.6</td>\n",
       "      <td>7.702316e-06</td>\n",
       "      <td>0.073921</td>\n",
       "      <td>9.999000e-06</td>\n",
       "      <td>0</td>\n",
       "      <td>0.0</td>\n",
       "      <td>0</td>\n",
       "      <td>Books &amp; Reference</td>\n",
       "      <td>3</td>\n",
       "      <td>5</td>\n",
       "    </tr>\n",
       "    <tr>\n",
       "      <th>10830</th>\n",
       "      <td>NEWS_AND_MAGAZINES</td>\n",
       "      <td>3.8</td>\n",
       "      <td>1.125920e-05</td>\n",
       "      <td>0.022917</td>\n",
       "      <td>9.999900e-05</td>\n",
       "      <td>0</td>\n",
       "      <td>0.0</td>\n",
       "      <td>0</td>\n",
       "      <td>News &amp; Magazines</td>\n",
       "      <td>31</td>\n",
       "      <td>101</td>\n",
       "    </tr>\n",
       "    <tr>\n",
       "      <th>10832</th>\n",
       "      <td>WEATHER</td>\n",
       "      <td>3.8</td>\n",
       "      <td>1.527669e-05</td>\n",
       "      <td>0.005735</td>\n",
       "      <td>9.999900e-05</td>\n",
       "      <td>0</td>\n",
       "      <td>0.0</td>\n",
       "      <td>0</td>\n",
       "      <td>Weather</td>\n",
       "      <td>29</td>\n",
       "      <td>98</td>\n",
       "    </tr>\n",
       "    <tr>\n",
       "      <th>10833</th>\n",
       "      <td>BOOKS_AND_REFERENCE</td>\n",
       "      <td>4.8</td>\n",
       "      <td>5.501655e-07</td>\n",
       "      <td>0.006106</td>\n",
       "      <td>9.990000e-07</td>\n",
       "      <td>0</td>\n",
       "      <td>0.0</td>\n",
       "      <td>0</td>\n",
       "      <td>Books &amp; Reference</td>\n",
       "      <td>3</td>\n",
       "      <td>5</td>\n",
       "    </tr>\n",
       "    <tr>\n",
       "      <th>10834</th>\n",
       "      <td>FAMILY</td>\n",
       "      <td>4.0</td>\n",
       "      <td>7.676727e-08</td>\n",
       "      <td>0.025917</td>\n",
       "      <td>4.990000e-07</td>\n",
       "      <td>0</td>\n",
       "      <td>0.0</td>\n",
       "      <td>0</td>\n",
       "      <td>Education</td>\n",
       "      <td>18</td>\n",
       "      <td>12</td>\n",
       "    </tr>\n",
       "    <tr>\n",
       "      <th>10836</th>\n",
       "      <td>FAMILY</td>\n",
       "      <td>4.5</td>\n",
       "      <td>4.733982e-07</td>\n",
       "      <td>0.529960</td>\n",
       "      <td>4.999000e-06</td>\n",
       "      <td>0</td>\n",
       "      <td>0.0</td>\n",
       "      <td>0</td>\n",
       "      <td>Education</td>\n",
       "      <td>18</td>\n",
       "      <td>12</td>\n",
       "    </tr>\n",
       "    <tr>\n",
       "      <th>10837</th>\n",
       "      <td>FAMILY</td>\n",
       "      <td>5.0</td>\n",
       "      <td>3.838364e-08</td>\n",
       "      <td>0.035918</td>\n",
       "      <td>9.900000e-08</td>\n",
       "      <td>0</td>\n",
       "      <td>0.0</td>\n",
       "      <td>0</td>\n",
       "      <td>Education</td>\n",
       "      <td>18</td>\n",
       "      <td>12</td>\n",
       "    </tr>\n",
       "    <tr>\n",
       "      <th>10839</th>\n",
       "      <td>BOOKS_AND_REFERENCE</td>\n",
       "      <td>4.5</td>\n",
       "      <td>1.445784e-06</td>\n",
       "      <td>0.035918</td>\n",
       "      <td>9.990000e-07</td>\n",
       "      <td>0</td>\n",
       "      <td>0.0</td>\n",
       "      <td>3</td>\n",
       "      <td>Books &amp; Reference</td>\n",
       "      <td>3</td>\n",
       "      <td>5</td>\n",
       "    </tr>\n",
       "    <tr>\n",
       "      <th>10840</th>\n",
       "      <td>LIFESTYLE</td>\n",
       "      <td>4.5</td>\n",
       "      <td>5.096144e-03</td>\n",
       "      <td>0.189931</td>\n",
       "      <td>9.999999e-03</td>\n",
       "      <td>0</td>\n",
       "      <td>0.0</td>\n",
       "      <td>0</td>\n",
       "      <td>Lifestyle</td>\n",
       "      <td>16</td>\n",
       "      <td>28</td>\n",
       "    </tr>\n",
       "  </tbody>\n",
       "</table>\n",
       "<p>9360 rows × 11 columns</p>\n",
       "</div>"
      ],
      "text/plain": [
       "                  Category  Rating       Reviews      Size      Installs  \\\n",
       "0           ART_AND_DESIGN     4.1  2.021538e-06  0.189931  9.999000e-06   \n",
       "1           ART_AND_DESIGN     3.9  1.235953e-05  0.139927  4.999990e-04   \n",
       "2           ART_AND_DESIGN     4.7  1.119638e-03  0.086922  4.999999e-03   \n",
       "3           ART_AND_DESIGN     4.5  2.759054e-03  0.249936  5.000000e-02   \n",
       "4           ART_AND_DESIGN     4.3  1.235953e-05  0.027917  9.999900e-05   \n",
       "5           ART_AND_DESIGN     4.4  2.123895e-06  0.055920  4.999900e-05   \n",
       "6           ART_AND_DESIGN     3.8  2.264635e-06  0.189931  4.999900e-05   \n",
       "7           ART_AND_DESIGN     4.1  4.710184e-04  0.289940  9.999990e-04   \n",
       "8           ART_AND_DESIGN     4.4  1.764368e-04  0.329943  9.999990e-04   \n",
       "9           ART_AND_DESIGN     4.7  1.535345e-06  0.030918  9.999000e-06   \n",
       "10          ART_AND_DESIGN     4.4  1.775755e-04  0.279939  9.999990e-04   \n",
       "11          ART_AND_DESIGN     4.4  1.124257e-04  0.119925  9.999990e-04   \n",
       "12          ART_AND_DESIGN     4.2  5.735539e-04  0.199932  9.999999e-03   \n",
       "13          ART_AND_DESIGN     4.6  5.533641e-05  0.209933  9.999900e-05   \n",
       "14          ART_AND_DESIGN     4.4  1.940933e-05  0.369946  9.999900e-05   \n",
       "16          ART_AND_DESIGN     4.7  4.645700e-05  0.054920  4.999990e-04   \n",
       "17          ART_AND_DESIGN     4.5  3.326582e-07  0.169929  9.999000e-06   \n",
       "18          ART_AND_DESIGN     4.3  2.484893e-03  0.389948  4.999999e-03   \n",
       "19          ART_AND_DESIGN     4.6  2.871070e-03  0.309941  9.999999e-03   \n",
       "20          ART_AND_DESIGN     4.0  5.744751e-06  0.139927  9.999900e-05   \n",
       "21          ART_AND_DESIGN     4.1  8.354838e-06  0.119925  9.999900e-05   \n",
       "22          ART_AND_DESIGN     4.7  9.849241e-05  0.041919  4.999990e-04   \n",
       "24          ART_AND_DESIGN     4.7  1.496962e-06  0.229935  4.999900e-05   \n",
       "25          ART_AND_DESIGN     4.8  2.443758e-06  0.059920  9.999000e-06   \n",
       "26          ART_AND_DESIGN     4.7  2.592047e-04  0.249936  4.999990e-04   \n",
       "27          ART_AND_DESIGN     4.1  2.584498e-06  0.060920  9.999900e-05   \n",
       "28          ART_AND_DESIGN     3.9  1.727264e-06  0.045919  9.999000e-06   \n",
       "29          ART_AND_DESIGN     4.1  2.840389e-06  0.041919  9.999900e-05   \n",
       "30          ART_AND_DESIGN     4.2  1.431710e-05  0.091923  9.999900e-05   \n",
       "31          ART_AND_DESIGN     4.1  2.891567e-06  0.051919  4.999900e-05   \n",
       "...                    ...     ...           ...       ...           ...   \n",
       "10795                TOOLS     4.2  9.388638e-05  0.039918  9.999900e-05   \n",
       "10796                TOOLS     4.7  7.861481e-04  0.077922  9.999990e-04   \n",
       "10797            LIFESTYLE     4.6  4.149527e-04  0.459954  9.999990e-04   \n",
       "10799               SOCIAL     4.7  2.603690e-05  0.067921  9.999900e-05   \n",
       "10800                TOOLS     4.1  2.213456e-06  0.119925  4.999000e-06   \n",
       "10801               FAMILY     4.9  6.525218e-07  0.189931  9.990000e-07   \n",
       "10802               FAMILY     4.0  2.354196e-06  0.279939  9.999000e-06   \n",
       "10803                 GAME     4.3  7.228279e-04  0.809984  9.999990e-04   \n",
       "10804                 GAME     4.2  6.961512e-05  0.169929  9.999900e-05   \n",
       "10805            LIFESTYLE     4.3  2.558909e-08  0.149928  9.900000e-08   \n",
       "10809               FAMILY     4.7  4.813590e-03  0.239935  9.999990e-04   \n",
       "10810             BUSINESS     4.8  2.303018e-07  0.209933  9.900000e-08   \n",
       "10812               FAMILY     4.1  1.010769e-06  0.129926  9.990000e-07   \n",
       "10814               FAMILY     4.0  1.003092e-05  0.309941  4.999900e-05   \n",
       "10815  BOOKS_AND_REFERENCE     4.2  7.387571e-05  0.048919  4.999990e-04   \n",
       "10817                TOOLS     4.0  1.131038e-05  0.079922  9.999900e-05   \n",
       "10819  BOOKS_AND_REFERENCE     3.3  6.525218e-07  0.035918  4.999000e-06   \n",
       "10820               FAMILY     5.0  2.686855e-07  0.085922  9.990000e-07   \n",
       "10826               SOCIAL     4.0  1.132125e-03  0.085922  4.999999e-03   \n",
       "10827               FAMILY     4.2  1.484167e-06  0.129926  4.999000e-06   \n",
       "10828               COMICS     3.4  3.710418e-06  0.129926  9.999000e-06   \n",
       "10829  BOOKS_AND_REFERENCE     4.6  7.702316e-06  0.073921  9.999000e-06   \n",
       "10830   NEWS_AND_MAGAZINES     3.8  1.125920e-05  0.022917  9.999900e-05   \n",
       "10832              WEATHER     3.8  1.527669e-05  0.005735  9.999900e-05   \n",
       "10833  BOOKS_AND_REFERENCE     4.8  5.501655e-07  0.006106  9.990000e-07   \n",
       "10834               FAMILY     4.0  7.676727e-08  0.025917  4.990000e-07   \n",
       "10836               FAMILY     4.5  4.733982e-07  0.529960  4.999000e-06   \n",
       "10837               FAMILY     5.0  3.838364e-08  0.035918  9.900000e-08   \n",
       "10839  BOOKS_AND_REFERENCE     4.5  1.445784e-06  0.035918  9.990000e-07   \n",
       "10840            LIFESTYLE     4.5  5.096144e-03  0.189931  9.999999e-03   \n",
       "\n",
       "       Type  Price  Content Rating                     Genres  Category_c  \\\n",
       "0         0    0.0               0               Art & Design           0   \n",
       "1         0    0.0               0  Art & Design;Pretend Play           0   \n",
       "2         0    0.0               0               Art & Design           0   \n",
       "3         0    0.0               1               Art & Design           0   \n",
       "4         0    0.0               0    Art & Design;Creativity           0   \n",
       "5         0    0.0               0               Art & Design           0   \n",
       "6         0    0.0               0               Art & Design           0   \n",
       "7         0    0.0               0               Art & Design           0   \n",
       "8         0    0.0               0               Art & Design           0   \n",
       "9         0    0.0               0    Art & Design;Creativity           0   \n",
       "10        0    0.0               0               Art & Design           0   \n",
       "11        0    0.0               0               Art & Design           0   \n",
       "12        0    0.0               1               Art & Design           0   \n",
       "13        0    0.0               0               Art & Design           0   \n",
       "14        0    0.0               0               Art & Design           0   \n",
       "16        0    0.0               0               Art & Design           0   \n",
       "17        0    0.0               0               Art & Design           0   \n",
       "18        0    0.0               0               Art & Design           0   \n",
       "19        0    0.0               0               Art & Design           0   \n",
       "20        0    0.0               0               Art & Design           0   \n",
       "21        0    0.0               0               Art & Design           0   \n",
       "22        0    0.0               2               Art & Design           0   \n",
       "24        0    0.0               0               Art & Design           0   \n",
       "25        0    0.0               0               Art & Design           0   \n",
       "26        0    0.0               0    Art & Design;Creativity           0   \n",
       "27        0    0.0               0               Art & Design           0   \n",
       "28        0    0.0               0               Art & Design           0   \n",
       "29        0    0.0               0               Art & Design           0   \n",
       "30        0    0.0               0               Art & Design           0   \n",
       "31        0    0.0               0               Art & Design           0   \n",
       "...     ...    ...             ...                        ...         ...   \n",
       "10795     0    0.0               0                      Tools          25   \n",
       "10796     0    0.0               0                      Tools          25   \n",
       "10797     0    0.0               0                  Lifestyle          16   \n",
       "10799     0    0.0               0                     Social          20   \n",
       "10800     0    0.0               0                      Tools          25   \n",
       "10801     0    0.0               0                  Education          18   \n",
       "10802     0    0.0               1              Entertainment          18   \n",
       "10803     0    0.0               1                     Action          17   \n",
       "10804     0    0.0               1                       Card          17   \n",
       "10805     0    0.0               0                  Lifestyle          16   \n",
       "10809     0    0.0               0                   Strategy          18   \n",
       "10810     0    0.0               0                   Business           4   \n",
       "10812     0    0.0               0                  Education          18   \n",
       "10814     0    0.0               1              Entertainment          18   \n",
       "10815     0    0.0               0          Books & Reference           3   \n",
       "10817     0    0.0               0                      Tools          25   \n",
       "10819     0    0.0               1          Books & Reference           3   \n",
       "10820     0    0.0               1                  Education          18   \n",
       "10826     0    0.0               3                     Social          20   \n",
       "10827     0    0.0               0                  Education          18   \n",
       "10828     0    0.0               0                     Comics           5   \n",
       "10829     0    0.0               0          Books & Reference           3   \n",
       "10830     0    0.0               0           News & Magazines          31   \n",
       "10832     0    0.0               0                    Weather          29   \n",
       "10833     0    0.0               0          Books & Reference           3   \n",
       "10834     0    0.0               0                  Education          18   \n",
       "10836     0    0.0               0                  Education          18   \n",
       "10837     0    0.0               0                  Education          18   \n",
       "10839     0    0.0               3          Books & Reference           3   \n",
       "10840     0    0.0               0                  Lifestyle          16   \n",
       "\n",
       "       Genres_c  \n",
       "0             0  \n",
       "1             1  \n",
       "2             0  \n",
       "3             0  \n",
       "4             2  \n",
       "5             0  \n",
       "6             0  \n",
       "7             0  \n",
       "8             0  \n",
       "9             2  \n",
       "10            0  \n",
       "11            0  \n",
       "12            0  \n",
       "13            0  \n",
       "14            0  \n",
       "16            0  \n",
       "17            0  \n",
       "18            0  \n",
       "19            0  \n",
       "20            0  \n",
       "21            0  \n",
       "22            0  \n",
       "24            0  \n",
       "25            0  \n",
       "26            2  \n",
       "27            0  \n",
       "28            0  \n",
       "29            0  \n",
       "30            0  \n",
       "31            0  \n",
       "...         ...  \n",
       "10795        90  \n",
       "10796        90  \n",
       "10797        28  \n",
       "10799        85  \n",
       "10800        90  \n",
       "10801        12  \n",
       "10802        18  \n",
       "10803        35  \n",
       "10804        33  \n",
       "10805        28  \n",
       "10809        36  \n",
       "10810         6  \n",
       "10812        12  \n",
       "10814        18  \n",
       "10815         5  \n",
       "10817        90  \n",
       "10819         5  \n",
       "10820        12  \n",
       "10826        85  \n",
       "10827        12  \n",
       "10828         7  \n",
       "10829         5  \n",
       "10830       101  \n",
       "10832        98  \n",
       "10833         5  \n",
       "10834        12  \n",
       "10836        12  \n",
       "10837        12  \n",
       "10839         5  \n",
       "10840        28  \n",
       "\n",
       "[9360 rows x 11 columns]"
      ]
     },
     "execution_count": 48,
     "metadata": {},
     "output_type": "execute_result"
    }
   ],
   "source": [
    "df"
   ]
  },
  {
   "cell_type": "code",
   "execution_count": 49,
   "metadata": {},
   "outputs": [],
   "source": [
    "# df"
   ]
  },
  {
   "cell_type": "code",
   "execution_count": null,
   "metadata": {},
   "outputs": [],
   "source": []
  },
  {
   "cell_type": "code",
   "execution_count": 50,
   "metadata": {},
   "outputs": [
    {
     "name": "stdout",
     "output_type": "stream",
     "text": [
      "<class 'pandas.core.frame.DataFrame'>\n",
      "Int64Index: 9360 entries, 0 to 10840\n",
      "Data columns (total 11 columns):\n",
      "Category          9360 non-null object\n",
      "Rating            9360 non-null float64\n",
      "Reviews           9360 non-null float64\n",
      "Size              9360 non-null float64\n",
      "Installs          9360 non-null float64\n",
      "Type              9360 non-null int64\n",
      "Price             9360 non-null float64\n",
      "Content Rating    9360 non-null int64\n",
      "Genres            9360 non-null object\n",
      "Category_c        9360 non-null int64\n",
      "Genres_c          9360 non-null int64\n",
      "dtypes: float64(5), int64(4), object(2)\n",
      "memory usage: 877.5+ KB\n"
     ]
    }
   ],
   "source": [
    "df.info()"
   ]
  },
  {
   "cell_type": "code",
   "execution_count": 51,
   "metadata": {},
   "outputs": [],
   "source": [
    "# for dummy variable encoding for Categories\n",
    "df2 = pd.get_dummies(df, columns=['Category'])\n",
    "df2[cols_to_norm] = df2[cols_to_norm].apply(lambda x: ((x - x.min()) / (x.max() - x.min())))"
   ]
  },
  {
   "cell_type": "code",
   "execution_count": 52,
   "metadata": {
    "scrolled": true
   },
   "outputs": [
    {
     "data": {
      "text/html": [
       "<div>\n",
       "<style scoped>\n",
       "    .dataframe tbody tr th:only-of-type {\n",
       "        vertical-align: middle;\n",
       "    }\n",
       "\n",
       "    .dataframe tbody tr th {\n",
       "        vertical-align: top;\n",
       "    }\n",
       "\n",
       "    .dataframe thead th {\n",
       "        text-align: right;\n",
       "    }\n",
       "</style>\n",
       "<table border=\"1\" class=\"dataframe\">\n",
       "  <thead>\n",
       "    <tr style=\"text-align: right;\">\n",
       "      <th></th>\n",
       "      <th>Rating</th>\n",
       "      <th>Reviews</th>\n",
       "      <th>Size</th>\n",
       "      <th>Installs</th>\n",
       "      <th>Type</th>\n",
       "      <th>Price</th>\n",
       "      <th>Content Rating</th>\n",
       "      <th>Genres</th>\n",
       "      <th>Category_c</th>\n",
       "      <th>Genres_c</th>\n",
       "      <th>...</th>\n",
       "      <th>Category_PERSONALIZATION</th>\n",
       "      <th>Category_PHOTOGRAPHY</th>\n",
       "      <th>Category_PRODUCTIVITY</th>\n",
       "      <th>Category_SHOPPING</th>\n",
       "      <th>Category_SOCIAL</th>\n",
       "      <th>Category_SPORTS</th>\n",
       "      <th>Category_TOOLS</th>\n",
       "      <th>Category_TRAVEL_AND_LOCAL</th>\n",
       "      <th>Category_VIDEO_PLAYERS</th>\n",
       "      <th>Category_WEATHER</th>\n",
       "    </tr>\n",
       "  </thead>\n",
       "  <tbody>\n",
       "    <tr>\n",
       "      <th>0</th>\n",
       "      <td>4.1</td>\n",
       "      <td>0.000002</td>\n",
       "      <td>0.189931</td>\n",
       "      <td>0.00001</td>\n",
       "      <td>0</td>\n",
       "      <td>0.0</td>\n",
       "      <td>0</td>\n",
       "      <td>Art &amp; Design</td>\n",
       "      <td>0</td>\n",
       "      <td>0</td>\n",
       "      <td>...</td>\n",
       "      <td>0</td>\n",
       "      <td>0</td>\n",
       "      <td>0</td>\n",
       "      <td>0</td>\n",
       "      <td>0</td>\n",
       "      <td>0</td>\n",
       "      <td>0</td>\n",
       "      <td>0</td>\n",
       "      <td>0</td>\n",
       "      <td>0</td>\n",
       "    </tr>\n",
       "    <tr>\n",
       "      <th>1</th>\n",
       "      <td>3.9</td>\n",
       "      <td>0.000012</td>\n",
       "      <td>0.139927</td>\n",
       "      <td>0.00050</td>\n",
       "      <td>0</td>\n",
       "      <td>0.0</td>\n",
       "      <td>0</td>\n",
       "      <td>Art &amp; Design;Pretend Play</td>\n",
       "      <td>0</td>\n",
       "      <td>1</td>\n",
       "      <td>...</td>\n",
       "      <td>0</td>\n",
       "      <td>0</td>\n",
       "      <td>0</td>\n",
       "      <td>0</td>\n",
       "      <td>0</td>\n",
       "      <td>0</td>\n",
       "      <td>0</td>\n",
       "      <td>0</td>\n",
       "      <td>0</td>\n",
       "      <td>0</td>\n",
       "    </tr>\n",
       "    <tr>\n",
       "      <th>2</th>\n",
       "      <td>4.7</td>\n",
       "      <td>0.001120</td>\n",
       "      <td>0.086922</td>\n",
       "      <td>0.00500</td>\n",
       "      <td>0</td>\n",
       "      <td>0.0</td>\n",
       "      <td>0</td>\n",
       "      <td>Art &amp; Design</td>\n",
       "      <td>0</td>\n",
       "      <td>0</td>\n",
       "      <td>...</td>\n",
       "      <td>0</td>\n",
       "      <td>0</td>\n",
       "      <td>0</td>\n",
       "      <td>0</td>\n",
       "      <td>0</td>\n",
       "      <td>0</td>\n",
       "      <td>0</td>\n",
       "      <td>0</td>\n",
       "      <td>0</td>\n",
       "      <td>0</td>\n",
       "    </tr>\n",
       "    <tr>\n",
       "      <th>3</th>\n",
       "      <td>4.5</td>\n",
       "      <td>0.002759</td>\n",
       "      <td>0.249936</td>\n",
       "      <td>0.05000</td>\n",
       "      <td>0</td>\n",
       "      <td>0.0</td>\n",
       "      <td>1</td>\n",
       "      <td>Art &amp; Design</td>\n",
       "      <td>0</td>\n",
       "      <td>0</td>\n",
       "      <td>...</td>\n",
       "      <td>0</td>\n",
       "      <td>0</td>\n",
       "      <td>0</td>\n",
       "      <td>0</td>\n",
       "      <td>0</td>\n",
       "      <td>0</td>\n",
       "      <td>0</td>\n",
       "      <td>0</td>\n",
       "      <td>0</td>\n",
       "      <td>0</td>\n",
       "    </tr>\n",
       "    <tr>\n",
       "      <th>4</th>\n",
       "      <td>4.3</td>\n",
       "      <td>0.000012</td>\n",
       "      <td>0.027917</td>\n",
       "      <td>0.00010</td>\n",
       "      <td>0</td>\n",
       "      <td>0.0</td>\n",
       "      <td>0</td>\n",
       "      <td>Art &amp; Design;Creativity</td>\n",
       "      <td>0</td>\n",
       "      <td>2</td>\n",
       "      <td>...</td>\n",
       "      <td>0</td>\n",
       "      <td>0</td>\n",
       "      <td>0</td>\n",
       "      <td>0</td>\n",
       "      <td>0</td>\n",
       "      <td>0</td>\n",
       "      <td>0</td>\n",
       "      <td>0</td>\n",
       "      <td>0</td>\n",
       "      <td>0</td>\n",
       "    </tr>\n",
       "  </tbody>\n",
       "</table>\n",
       "<p>5 rows × 43 columns</p>\n",
       "</div>"
      ],
      "text/plain": [
       "   Rating   Reviews      Size  Installs  Type  Price  Content Rating  \\\n",
       "0     4.1  0.000002  0.189931   0.00001     0    0.0               0   \n",
       "1     3.9  0.000012  0.139927   0.00050     0    0.0               0   \n",
       "2     4.7  0.001120  0.086922   0.00500     0    0.0               0   \n",
       "3     4.5  0.002759  0.249936   0.05000     0    0.0               1   \n",
       "4     4.3  0.000012  0.027917   0.00010     0    0.0               0   \n",
       "\n",
       "                      Genres  Category_c  Genres_c        ...         \\\n",
       "0               Art & Design           0         0        ...          \n",
       "1  Art & Design;Pretend Play           0         1        ...          \n",
       "2               Art & Design           0         0        ...          \n",
       "3               Art & Design           0         0        ...          \n",
       "4    Art & Design;Creativity           0         2        ...          \n",
       "\n",
       "   Category_PERSONALIZATION  Category_PHOTOGRAPHY  Category_PRODUCTIVITY  \\\n",
       "0                         0                     0                      0   \n",
       "1                         0                     0                      0   \n",
       "2                         0                     0                      0   \n",
       "3                         0                     0                      0   \n",
       "4                         0                     0                      0   \n",
       "\n",
       "   Category_SHOPPING  Category_SOCIAL  Category_SPORTS  Category_TOOLS  \\\n",
       "0                  0                0                0               0   \n",
       "1                  0                0                0               0   \n",
       "2                  0                0                0               0   \n",
       "3                  0                0                0               0   \n",
       "4                  0                0                0               0   \n",
       "\n",
       "   Category_TRAVEL_AND_LOCAL  Category_VIDEO_PLAYERS  Category_WEATHER  \n",
       "0                          0                       0                 0  \n",
       "1                          0                       0                 0  \n",
       "2                          0                       0                 0  \n",
       "3                          0                       0                 0  \n",
       "4                          0                       0                 0  \n",
       "\n",
       "[5 rows x 43 columns]"
      ]
     },
     "execution_count": 52,
     "metadata": {},
     "output_type": "execute_result"
    }
   ],
   "source": [
    "df2.head()"
   ]
  },
  {
   "cell_type": "code",
   "execution_count": null,
   "metadata": {},
   "outputs": [],
   "source": []
  },
  {
   "cell_type": "markdown",
   "metadata": {},
   "source": [
    "### Evaluation of error function"
   ]
  },
  {
   "cell_type": "code",
   "execution_count": 53,
   "metadata": {},
   "outputs": [],
   "source": [
    "#for evaluation of error term and \n",
    "def Evaluationmatrix(y_true, y_predict):\n",
    "    print ('Mean Squared Error: '+ str(metrics.mean_squared_error(y_true,y_predict)))\n",
    "    print ('Root Mean Squared Error: '+ str(np.sqrt(metrics.mean_squared_error(y_true,y_predict))))\n",
    "    print ('Mean absolute Error: '+ str(metrics.mean_absolute_error(y_true,y_predict)))\n",
    "    print ('Mean squared Log Error: '+ str(metrics.mean_squared_log_error(y_true,y_predict)))"
   ]
  },
  {
   "cell_type": "code",
   "execution_count": 54,
   "metadata": {},
   "outputs": [],
   "source": [
    "#to add into results_index for evaluation of error term \n",
    "def Evaluationmatrix_dict(y_true, y_predict, name = 'Linear - Integer'):\n",
    "    dict_matrix = {}\n",
    "    dict_matrix['Series Name'] = name\n",
    "    dict_matrix['Mean Squared Error'] = metrics.mean_squared_error(y_true,y_predict)\n",
    "    dict_matrix['Mean Absolute Error'] = metrics.mean_absolute_error(y_true,y_predict)\n",
    "    dict_matrix['Mean Squared Log Error'] = metrics.mean_squared_log_error(y_true,y_predict)\n",
    "    return dict_matrix"
   ]
  },
  {
   "cell_type": "markdown",
   "metadata": {},
   "source": [
    "### Making a regression model"
   ]
  },
  {
   "cell_type": "markdown",
   "metadata": {},
   "source": [
    "We start off by looking at linear regression model (without the genre label)"
   ]
  },
  {
   "cell_type": "code",
   "execution_count": 55,
   "metadata": {},
   "outputs": [],
   "source": [
    "from sklearn.linear_model import LinearRegression "
   ]
  },
  {
   "cell_type": "code",
   "execution_count": 56,
   "metadata": {},
   "outputs": [],
   "source": [
    "X = df.drop(labels = ['Category','Rating','Genres','Genres_c'],axis = 1)"
   ]
  },
  {
   "cell_type": "code",
   "execution_count": 57,
   "metadata": {},
   "outputs": [
    {
     "name": "stdout",
     "output_type": "stream",
     "text": [
      "(9360, 7)\n"
     ]
    }
   ],
   "source": [
    "print(X.shape)"
   ]
  },
  {
   "cell_type": "code",
   "execution_count": 58,
   "metadata": {},
   "outputs": [
    {
     "data": {
      "text/html": [
       "<div>\n",
       "<style scoped>\n",
       "    .dataframe tbody tr th:only-of-type {\n",
       "        vertical-align: middle;\n",
       "    }\n",
       "\n",
       "    .dataframe tbody tr th {\n",
       "        vertical-align: top;\n",
       "    }\n",
       "\n",
       "    .dataframe thead th {\n",
       "        text-align: right;\n",
       "    }\n",
       "</style>\n",
       "<table border=\"1\" class=\"dataframe\">\n",
       "  <thead>\n",
       "    <tr style=\"text-align: right;\">\n",
       "      <th></th>\n",
       "      <th>Reviews</th>\n",
       "      <th>Size</th>\n",
       "      <th>Installs</th>\n",
       "      <th>Type</th>\n",
       "      <th>Price</th>\n",
       "      <th>Content Rating</th>\n",
       "      <th>Category_c</th>\n",
       "    </tr>\n",
       "  </thead>\n",
       "  <tbody>\n",
       "    <tr>\n",
       "      <th>0</th>\n",
       "      <td>0.000002</td>\n",
       "      <td>0.189931</td>\n",
       "      <td>0.00001</td>\n",
       "      <td>0</td>\n",
       "      <td>0.0</td>\n",
       "      <td>0</td>\n",
       "      <td>0</td>\n",
       "    </tr>\n",
       "    <tr>\n",
       "      <th>1</th>\n",
       "      <td>0.000012</td>\n",
       "      <td>0.139927</td>\n",
       "      <td>0.00050</td>\n",
       "      <td>0</td>\n",
       "      <td>0.0</td>\n",
       "      <td>0</td>\n",
       "      <td>0</td>\n",
       "    </tr>\n",
       "    <tr>\n",
       "      <th>2</th>\n",
       "      <td>0.001120</td>\n",
       "      <td>0.086922</td>\n",
       "      <td>0.00500</td>\n",
       "      <td>0</td>\n",
       "      <td>0.0</td>\n",
       "      <td>0</td>\n",
       "      <td>0</td>\n",
       "    </tr>\n",
       "    <tr>\n",
       "      <th>3</th>\n",
       "      <td>0.002759</td>\n",
       "      <td>0.249936</td>\n",
       "      <td>0.05000</td>\n",
       "      <td>0</td>\n",
       "      <td>0.0</td>\n",
       "      <td>1</td>\n",
       "      <td>0</td>\n",
       "    </tr>\n",
       "    <tr>\n",
       "      <th>4</th>\n",
       "      <td>0.000012</td>\n",
       "      <td>0.027917</td>\n",
       "      <td>0.00010</td>\n",
       "      <td>0</td>\n",
       "      <td>0.0</td>\n",
       "      <td>0</td>\n",
       "      <td>0</td>\n",
       "    </tr>\n",
       "  </tbody>\n",
       "</table>\n",
       "</div>"
      ],
      "text/plain": [
       "    Reviews      Size  Installs  Type  Price  Content Rating  Category_c\n",
       "0  0.000002  0.189931   0.00001     0    0.0               0           0\n",
       "1  0.000012  0.139927   0.00050     0    0.0               0           0\n",
       "2  0.001120  0.086922   0.00500     0    0.0               0           0\n",
       "3  0.002759  0.249936   0.05000     0    0.0               1           0\n",
       "4  0.000012  0.027917   0.00010     0    0.0               0           0"
      ]
     },
     "execution_count": 58,
     "metadata": {},
     "output_type": "execute_result"
    }
   ],
   "source": [
    "X.head()"
   ]
  },
  {
   "cell_type": "code",
   "execution_count": 59,
   "metadata": {},
   "outputs": [],
   "source": [
    "y = df.Rating"
   ]
  },
  {
   "cell_type": "code",
   "execution_count": 60,
   "metadata": {
    "scrolled": true
   },
   "outputs": [
    {
     "name": "stdout",
     "output_type": "stream",
     "text": [
      "<class 'numpy.ndarray'>\n"
     ]
    }
   ],
   "source": [
    "y =y.values\n",
    "print(type(y))"
   ]
  },
  {
   "cell_type": "code",
   "execution_count": 61,
   "metadata": {},
   "outputs": [],
   "source": [
    "X =X.values"
   ]
  },
  {
   "cell_type": "code",
   "execution_count": 62,
   "metadata": {
    "scrolled": true
   },
   "outputs": [
    {
     "name": "stdout",
     "output_type": "stream",
     "text": [
      "(9360, 7)\n"
     ]
    }
   ],
   "source": [
    "print(X.shape)"
   ]
  },
  {
   "cell_type": "code",
   "execution_count": 63,
   "metadata": {},
   "outputs": [],
   "source": [
    "rs=0"
   ]
  },
  {
   "cell_type": "code",
   "execution_count": 64,
   "metadata": {},
   "outputs": [],
   "source": [
    "X_train, X_test, y_train, y_test = train_test_split(X, y, test_size=0.30,random_state=rs)"
   ]
  },
  {
   "cell_type": "code",
   "execution_count": 65,
   "metadata": {},
   "outputs": [],
   "source": [
    "model = LinearRegression()\n",
    "model.fit(X_train,y_train)\n",
    "Results = model.predict(X_test)"
   ]
  },
  {
   "cell_type": "code",
   "execution_count": 66,
   "metadata": {},
   "outputs": [
    {
     "name": "stdout",
     "output_type": "stream",
     "text": [
      "0.010076895319117485\n"
     ]
    }
   ],
   "source": [
    "score =model.score(X_test ,y_test)\n",
    "print(score)"
   ]
  },
  {
   "cell_type": "code",
   "execution_count": 67,
   "metadata": {},
   "outputs": [
    {
     "data": {
      "text/plain": [
       "(2808,)"
      ]
     },
     "execution_count": 67,
     "metadata": {},
     "output_type": "execute_result"
    }
   ],
   "source": [
    "# np.round(accuracy*100, 2)\n",
    "# metrics.mean_squared_error(y_test,Results)\n",
    "y_test.shape"
   ]
  },
  {
   "cell_type": "code",
   "execution_count": 68,
   "metadata": {},
   "outputs": [
    {
     "name": "stdout",
     "output_type": "stream",
     "text": [
      "92.31073029028525\n"
     ]
    }
   ],
   "source": [
    "acc=0\n",
    "for ix in range(y_test.shape[0]) :\n",
    "     acc = acc +( np.abs(y_test[i]-Results[i])/y_test[i])*100\n",
    "acc = (acc/y_test.shape[0])\n",
    "acc = 100 -acc\n",
    "print(acc)"
   ]
  },
  {
   "cell_type": "code",
   "execution_count": 69,
   "metadata": {
    "scrolled": true
   },
   "outputs": [
    {
     "name": "stdout",
     "output_type": "stream",
     "text": [
      "Mean Squared Error: 0.2673431154564481\n",
      "Root Mean Squared Error: 0.5170523333826549\n",
      "Mean absolute Error: 0.3559645506964455\n",
      "Mean squared Log Error: 0.013225150564220519\n"
     ]
    }
   ],
   "source": [
    "Evaluationmatrix(y_test, Results)"
   ]
  },
  {
   "cell_type": "code",
   "execution_count": 70,
   "metadata": {},
   "outputs": [],
   "source": [
    "ylintest = y_test\n",
    "ylinpred = Results\n",
    "acclin = acc"
   ]
  },
  {
   "cell_type": "markdown",
   "metadata": {},
   "source": [
    "## Using dummy variable"
   ]
  },
  {
   "cell_type": "code",
   "execution_count": 71,
   "metadata": {},
   "outputs": [],
   "source": [
    "X_d = df2.drop(labels = ['Rating','Genres','Category_c','Genres_c'],axis = 1).values\n",
    "y_d = df2.Rating.values\n",
    "\n",
    "X_train_d, X_test_d, y_train_d, y_test_d = train_test_split(X_d, y_d, test_size=0.30,random_state=rs)\n",
    "model_d = LinearRegression()\n",
    "model_d.fit(X_train_d,y_train_d)\n",
    "Results_d = model_d.predict(X_test_d)"
   ]
  },
  {
   "cell_type": "code",
   "execution_count": 72,
   "metadata": {
    "scrolled": true
   },
   "outputs": [
    {
     "name": "stdout",
     "output_type": "stream",
     "text": [
      "Mean Squared Error: 0.26076724192313316\n",
      "Root Mean Squared Error: 0.5106537397524209\n",
      "Mean absolute Error: 0.35287583397324607\n",
      "Mean squared Log Error: 0.012936110730402356\n"
     ]
    }
   ],
   "source": [
    "Evaluationmatrix(y_test_d, Results_d)"
   ]
  },
  {
   "cell_type": "code",
   "execution_count": 73,
   "metadata": {},
   "outputs": [
    {
     "name": "stdout",
     "output_type": "stream",
     "text": [
      "92.36653645833323\n"
     ]
    }
   ],
   "source": [
    "acc=0\n",
    "for ix in range(y_test.shape[0]) :\n",
    "     acc = acc + 100*(np.abs(y_test_d[i]-Results_d[i])/y_test[i])\n",
    "acc =(acc/y_test.shape[0])\n",
    "acc = 100 - acc\n",
    "print(acc)"
   ]
  },
  {
   "cell_type": "code",
   "execution_count": 74,
   "metadata": {},
   "outputs": [
    {
     "name": "stdout",
     "output_type": "stream",
     "text": [
      "Mean Squared Error: 0.26076724192313316\n",
      "Root Mean Squared Error: 0.5106537397524209\n",
      "Mean absolute Error: 0.35287583397324607\n",
      "Mean squared Log Error: 0.012936110730402356\n"
     ]
    }
   ],
   "source": [
    "Evaluationmatrix(y_test_d , Results_d)"
   ]
  },
  {
   "cell_type": "markdown",
   "metadata": {},
   "source": [
    "### Mean and std deviation of results"
   ]
  },
  {
   "cell_type": "code",
   "execution_count": 75,
   "metadata": {},
   "outputs": [
    {
     "name": "stdout",
     "output_type": "stream",
     "text": [
      "Actual mean of population:4.191837606837606\n",
      "Integer encoding(mean) :4.195308735497167\n",
      "Dummy encoding(mean) :4.194508609608707\n",
      "Integer encoding(std) :0.06553634840273442\n",
      "Dummy encoding(std) :0.1009344241386467\n"
     ]
    }
   ],
   "source": [
    "print ('Actual mean of population:' + str(y.mean()))\n",
    "print ('Integer encoding(mean) :' + str(Results.mean()))\n",
    "print ('Dummy encoding(mean) :'+ str(Results_d.mean()))\n",
    "print ('Integer encoding(std) :' + str(Results.std()))\n",
    "print ('Dummy encoding(std) :'+ str(Results_d.std()))"
   ]
  },
  {
   "cell_type": "code",
   "execution_count": 76,
   "metadata": {},
   "outputs": [
    {
     "name": "stderr",
     "output_type": "stream",
     "text": [
      "/usr/local/lib/python3.6/dist-packages/scipy/stats/stats.py:1713: FutureWarning: Using a non-tuple sequence for multidimensional indexing is deprecated; use `arr[tuple(seq)]` instead of `arr[seq]`. In the future this will be interpreted as an array index, `arr[np.array(seq)]`, which will result either in an error or a different result.\n",
      "  return np.add.reduce(sorted[indexer] * weights, axis=axis) / sumval\n"
     ]
    },
    {
     "data": {
      "image/png": "[encoded data removed]",
      "text/plain": [
       "<Figure size 864x504 with 1 Axes>"
      ]
     },
     "metadata": {},
     "output_type": "display_data"
    }
   ],
   "source": [
    "plt.figure(figsize=(12,7))\n",
    "sns.regplot(Results,y_test,color='teal', label = 'Integer', marker = 'x')\n",
    "sns.regplot(Results_d,y_test_d,color='orange',label = 'Dummy')\n",
    "plt.legend()\n",
    "plt.title('Linear model - Excluding Genres')\n",
    "plt.xlabel('Predicted Ratings')\n",
    "plt.ylabel('Actual Ratings')\n",
    "plt.show()"
   ]
  },
  {
   "cell_type": "markdown",
   "metadata": {},
   "source": [
    "### Now trying with KNN model"
   ]
  },
  {
   "cell_type": "markdown",
   "metadata": {},
   "source": [
    "The k-nearest neighbors algorithm is based around the simple idea of predicting unknown values by matching them with the most similar known values. Building the model consists only of storing the training dataset. To make a prediction for a new data point, the algorithm finds the closest data points in the training dataset — its \"nearest neighbors\"."
   ]
  },
  {
   "cell_type": "code",
   "execution_count": 77,
   "metadata": {},
   "outputs": [
    {
     "data": {
      "text/html": [
       "<div>\n",
       "<style scoped>\n",
       "    .dataframe tbody tr th:only-of-type {\n",
       "        vertical-align: middle;\n",
       "    }\n",
       "\n",
       "    .dataframe tbody tr th {\n",
       "        vertical-align: top;\n",
       "    }\n",
       "\n",
       "    .dataframe thead th {\n",
       "        text-align: right;\n",
       "    }\n",
       "</style>\n",
       "<table border=\"1\" class=\"dataframe\">\n",
       "  <thead>\n",
       "    <tr style=\"text-align: right;\">\n",
       "      <th></th>\n",
       "      <th>Category</th>\n",
       "      <th>Rating</th>\n",
       "      <th>Reviews</th>\n",
       "      <th>Size</th>\n",
       "      <th>Installs</th>\n",
       "      <th>Type</th>\n",
       "      <th>Price</th>\n",
       "      <th>Content Rating</th>\n",
       "      <th>Genres</th>\n",
       "      <th>Category_c</th>\n",
       "      <th>Genres_c</th>\n",
       "    </tr>\n",
       "  </thead>\n",
       "  <tbody>\n",
       "    <tr>\n",
       "      <th>0</th>\n",
       "      <td>ART_AND_DESIGN</td>\n",
       "      <td>4.1</td>\n",
       "      <td>0.000002</td>\n",
       "      <td>0.189931</td>\n",
       "      <td>0.00001</td>\n",
       "      <td>0</td>\n",
       "      <td>0.0</td>\n",
       "      <td>0</td>\n",
       "      <td>Art &amp; Design</td>\n",
       "      <td>0</td>\n",
       "      <td>0</td>\n",
       "    </tr>\n",
       "    <tr>\n",
       "      <th>1</th>\n",
       "      <td>ART_AND_DESIGN</td>\n",
       "      <td>3.9</td>\n",
       "      <td>0.000012</td>\n",
       "      <td>0.139927</td>\n",
       "      <td>0.00050</td>\n",
       "      <td>0</td>\n",
       "      <td>0.0</td>\n",
       "      <td>0</td>\n",
       "      <td>Art &amp; Design;Pretend Play</td>\n",
       "      <td>0</td>\n",
       "      <td>1</td>\n",
       "    </tr>\n",
       "    <tr>\n",
       "      <th>2</th>\n",
       "      <td>ART_AND_DESIGN</td>\n",
       "      <td>4.7</td>\n",
       "      <td>0.001120</td>\n",
       "      <td>0.086922</td>\n",
       "      <td>0.00500</td>\n",
       "      <td>0</td>\n",
       "      <td>0.0</td>\n",
       "      <td>0</td>\n",
       "      <td>Art &amp; Design</td>\n",
       "      <td>0</td>\n",
       "      <td>0</td>\n",
       "    </tr>\n",
       "    <tr>\n",
       "      <th>3</th>\n",
       "      <td>ART_AND_DESIGN</td>\n",
       "      <td>4.5</td>\n",
       "      <td>0.002759</td>\n",
       "      <td>0.249936</td>\n",
       "      <td>0.05000</td>\n",
       "      <td>0</td>\n",
       "      <td>0.0</td>\n",
       "      <td>1</td>\n",
       "      <td>Art &amp; Design</td>\n",
       "      <td>0</td>\n",
       "      <td>0</td>\n",
       "    </tr>\n",
       "    <tr>\n",
       "      <th>4</th>\n",
       "      <td>ART_AND_DESIGN</td>\n",
       "      <td>4.3</td>\n",
       "      <td>0.000012</td>\n",
       "      <td>0.027917</td>\n",
       "      <td>0.00010</td>\n",
       "      <td>0</td>\n",
       "      <td>0.0</td>\n",
       "      <td>0</td>\n",
       "      <td>Art &amp; Design;Creativity</td>\n",
       "      <td>0</td>\n",
       "      <td>2</td>\n",
       "    </tr>\n",
       "  </tbody>\n",
       "</table>\n",
       "</div>"
      ],
      "text/plain": [
       "         Category  Rating   Reviews      Size  Installs  Type  Price  \\\n",
       "0  ART_AND_DESIGN     4.1  0.000002  0.189931   0.00001     0    0.0   \n",
       "1  ART_AND_DESIGN     3.9  0.000012  0.139927   0.00050     0    0.0   \n",
       "2  ART_AND_DESIGN     4.7  0.001120  0.086922   0.00500     0    0.0   \n",
       "3  ART_AND_DESIGN     4.5  0.002759  0.249936   0.05000     0    0.0   \n",
       "4  ART_AND_DESIGN     4.3  0.000012  0.027917   0.00010     0    0.0   \n",
       "\n",
       "   Content Rating                     Genres  Category_c  Genres_c  \n",
       "0               0               Art & Design           0         0  \n",
       "1               0  Art & Design;Pretend Play           0         1  \n",
       "2               0               Art & Design           0         0  \n",
       "3               1               Art & Design           0         0  \n",
       "4               0    Art & Design;Creativity           0         2  "
      ]
     },
     "execution_count": 77,
     "metadata": {},
     "output_type": "execute_result"
    }
   ],
   "source": [
    "#the cleaned dataset that we currently have is :\n",
    "df.head()"
   ]
  },
  {
   "cell_type": "code",
   "execution_count": 78,
   "metadata": {},
   "outputs": [],
   "source": [
    "X = df.drop(labels = ['Category','Rating','Genres','Genres_c'],axis = 1).values\n",
    "y = df.Rating.values"
   ]
  },
  {
   "cell_type": "code",
   "execution_count": 79,
   "metadata": {},
   "outputs": [],
   "source": [
    "# X.head()"
   ]
  },
  {
   "cell_type": "code",
   "execution_count": 80,
   "metadata": {},
   "outputs": [],
   "source": [
    "# y.head()"
   ]
  },
  {
   "cell_type": "code",
   "execution_count": 81,
   "metadata": {},
   "outputs": [],
   "source": [
    "#create train and test datasets\n",
    "X_train, X_test, y_train, y_test = train_test_split(X, y, test_size=0.30,random_state = rs)"
   ]
  },
  {
   "cell_type": "code",
   "execution_count": 82,
   "metadata": {},
   "outputs": [],
   "source": [
    "# Look at the 15 closest neighbors\n",
    "model = KNeighborsRegressor(n_neighbors=15)"
   ]
  },
  {
   "cell_type": "code",
   "execution_count": 83,
   "metadata": {},
   "outputs": [
    {
     "data": {
      "text/plain": [
       "KNeighborsRegressor(algorithm='auto', leaf_size=30, metric='minkowski',\n",
       "          metric_params=None, n_jobs=1, n_neighbors=15, p=2,\n",
       "          weights='uniform')"
      ]
     },
     "execution_count": 83,
     "metadata": {},
     "output_type": "execute_result"
    }
   ],
   "source": [
    "model.fit(X_train, y_train)"
   ]
  },
  {
   "cell_type": "code",
   "execution_count": 84,
   "metadata": {},
   "outputs": [
    {
     "data": {
      "text/plain": [
       "0.01525205249704209"
      ]
     },
     "execution_count": 84,
     "metadata": {},
     "output_type": "execute_result"
    }
   ],
   "source": [
    "model.score(X_test,y_test)"
   ]
  },
  {
   "cell_type": "code",
   "execution_count": 85,
   "metadata": {},
   "outputs": [],
   "source": [
    "y_pred =model.predict(X_test)"
   ]
  },
  {
   "cell_type": "code",
   "execution_count": 86,
   "metadata": {
    "scrolled": true
   },
   "outputs": [
    {
     "name": "stdout",
     "output_type": "stream",
     "text": [
      "92.31073029028525\n"
     ]
    }
   ],
   "source": [
    "acc=0\n",
    "for ix in range(y_test.shape[0]) :\n",
    "     acc = acc + 100*(np.abs(y_test[i]-Results[i])/y_test[i])\n",
    "acc = 100 -(acc/y_test.shape[0])\n",
    "print(acc)\n",
    "accknn =acc"
   ]
  },
  {
   "cell_type": "markdown",
   "metadata": {},
   "source": [
    "## Example prediction"
   ]
  },
  {
   "cell_type": "code",
   "execution_count": 87,
   "metadata": {
    "scrolled": true
   },
   "outputs": [
    {
     "name": "stdout",
     "output_type": "stream",
     "text": [
      "y_test[i] =  4.4\n",
      "y_pred[i] =  4.333333333333333\n"
     ]
    }
   ],
   "source": [
    "i =15\n",
    "print(\"y_test[i] = \",y_test[i])\n",
    "print(\"y_pred[i] = \",y_pred[i])"
   ]
  },
  {
   "cell_type": "markdown",
   "metadata": {},
   "source": [
    "## Errors metrics"
   ]
  },
  {
   "cell_type": "code",
   "execution_count": 88,
   "metadata": {},
   "outputs": [
    {
     "name": "stdout",
     "output_type": "stream",
     "text": [
      "Mean Squared Error: 0.26594548907882243\n",
      "Root Mean Squared Error: 0.5156990295500103\n",
      "Mean absolute Error: 0.3563532763532764\n",
      "Mean squared Log Error: 0.013113331778564285\n"
     ]
    }
   ],
   "source": [
    "Evaluationmatrix(y_test ,y_pred)"
   ]
  },
  {
   "cell_type": "code",
   "execution_count": 89,
   "metadata": {},
   "outputs": [],
   "source": [
    "yknntest = y_test\n",
    "yknnpred = y_pred"
   ]
  },
  {
   "cell_type": "code",
   "execution_count": 90,
   "metadata": {},
   "outputs": [
    {
     "name": "stderr",
     "output_type": "stream",
     "text": [
      "/usr/local/lib/python3.6/dist-packages/scipy/stats/stats.py:1713: FutureWarning: Using a non-tuple sequence for multidimensional indexing is deprecated; use `arr[tuple(seq)]` instead of `arr[seq]`. In the future this will be interpreted as an array index, `arr[np.array(seq)]`, which will result either in an error or a different result.\n",
      "  return np.add.reduce(sorted[indexer] * weights, axis=axis) / sumval\n"
     ]
    },
    {
     "data": {
      "image/png": "[encoded data removed]",
      "text/plain": [
       "<Figure size 864x504 with 1 Axes>"
      ]
     },
     "metadata": {},
     "output_type": "display_data"
    }
   ],
   "source": [
    "plt.figure(figsize=(12,7))\n",
    "sns.regplot(y_pred,y_test,color='teal', label = 'KNN', marker = 'x')\n",
    "plt.legend()\n",
    "plt.title('KNN model - Excluding Genres')\n",
    "plt.xlabel('Predicted Ratings')\n",
    "plt.ylabel('Actual Ratings')\n",
    "plt.show()"
   ]
  },
  {
   "cell_type": "code",
   "execution_count": 91,
   "metadata": {},
   "outputs": [],
   "source": [
    "from sklearn.metrics import accuracy_score"
   ]
  },
  {
   "cell_type": "code",
   "execution_count": 92,
   "metadata": {},
   "outputs": [
    {
     "name": "stdout",
     "output_type": "stream",
     "text": [
      "(2808,) (2808,)\n"
     ]
    }
   ],
   "source": [
    "print(y_pred.shape,y_test.shape)"
   ]
  },
  {
   "cell_type": "code",
   "execution_count": 93,
   "metadata": {},
   "outputs": [
    {
     "data": {
      "text/plain": [
       "[<matplotlib.lines.Line2D at 0x7f6be3d5c978>]"
      ]
     },
     "execution_count": 93,
     "metadata": {},
     "output_type": "execute_result"
    },
    {
     "data": {
      "image/png": "[encoded data removed]",
      "text/plain": [
       "<Figure size 504x360 with 1 Axes>"
      ]
     },
     "metadata": {},
     "output_type": "display_data"
    }
   ],
   "source": [
    "#Try different numbers of n_estimators \n",
    "n_neighbors = np.arange(1, 20, 1)\n",
    "scores = []\n",
    "for n in n_neighbors:\n",
    "    model.set_params(n_neighbors=n)\n",
    "    model.fit(X_train, y_train)\n",
    "    scores.append(model.score(X_test, y_test))\n",
    "plt.figure(figsize=(7, 5))\n",
    "plt.title(\"Effect of Estimators\")\n",
    "plt.xlabel(\"Number of Neighbors K\")\n",
    "plt.ylabel(\"Score\")\n",
    "plt.plot(n_neighbors, scores)"
   ]
  },
  {
   "cell_type": "markdown",
   "metadata": {},
   "source": [
    "## Random forest model"
   ]
  },
  {
   "cell_type": "code",
   "execution_count": 94,
   "metadata": {},
   "outputs": [],
   "source": [
    "df1 = dfnew.copy(deep=True)\n",
    "# cols_to_norm = ['Size','Installs', 'Reviews','Price']\n",
    "# dfnew[cols_to_norm] = dfnew[cols_to_norm].apply(lambda x: (1000)*((x - x.min()) / (x.max() - x.min())))\n",
    "X = df1.drop(labels = ['Category','Rating','Genres','Genres_c'],axis = 1).values\n",
    "y = df1.Rating.values"
   ]
  },
  {
   "cell_type": "code",
   "execution_count": 95,
   "metadata": {},
   "outputs": [],
   "source": [
    "model = RandomForestRegressor(n_jobs=-1 ,n_estimators=100)"
   ]
  },
  {
   "cell_type": "code",
   "execution_count": 96,
   "metadata": {},
   "outputs": [],
   "source": [
    "#create train and test datasets\n",
    "X_train, X_test, y_train, y_test = train_test_split(X, y, test_size=0.25,random_state = rs)"
   ]
  },
  {
   "cell_type": "code",
   "execution_count": 97,
   "metadata": {},
   "outputs": [
    {
     "data": {
      "text/plain": [
       "RandomForestRegressor(bootstrap=True, criterion='mse', max_depth=None,\n",
       "           max_features='auto', max_leaf_nodes=None,\n",
       "           min_impurity_decrease=0.0, min_impurity_split=None,\n",
       "           min_samples_leaf=1, min_samples_split=2,\n",
       "           min_weight_fraction_leaf=0.0, n_estimators=100, n_jobs=-1,\n",
       "           oob_score=False, random_state=None, verbose=0, warm_start=False)"
      ]
     },
     "execution_count": 97,
     "metadata": {},
     "output_type": "execute_result"
    }
   ],
   "source": [
    "model.fit(X_train,y_train)"
   ]
  },
  {
   "cell_type": "code",
   "execution_count": 98,
   "metadata": {},
   "outputs": [],
   "source": [
    "y_pred = model.predict(X_test)"
   ]
  },
  {
   "cell_type": "code",
   "execution_count": 99,
   "metadata": {},
   "outputs": [
    {
     "data": {
      "text/plain": [
       "0.14517279487224777"
      ]
     },
     "execution_count": 99,
     "metadata": {},
     "output_type": "execute_result"
    }
   ],
   "source": [
    "model.score(X_test,y_test)"
   ]
  },
  {
   "cell_type": "code",
   "execution_count": 100,
   "metadata": {},
   "outputs": [
    {
     "name": "stdout",
     "output_type": "stream",
     "text": [
      "y_test[i] =  4.1\n",
      "y_pred[i] =  3.991999999999999\n"
     ]
    }
   ],
   "source": [
    "i =10\n",
    "print(\"y_test[i] = \",y_test[i])\n",
    "print(\"y_pred[i] = \",y_pred[i])"
   ]
  },
  {
   "cell_type": "code",
   "execution_count": 101,
   "metadata": {
    "scrolled": false
   },
   "outputs": [
    {
     "name": "stdout",
     "output_type": "stream",
     "text": [
      "Mean Squared Error: 0.22881318850344257\n",
      "Root Mean Squared Error: 0.4783442155011834\n",
      "Mean absolute Error: 0.3119321866096866\n",
      "Mean squared Log Error: 0.01139770818386856\n"
     ]
    }
   ],
   "source": [
    "Evaluationmatrix(y_test ,y_pred)"
   ]
  },
  {
   "cell_type": "code",
   "execution_count": 102,
   "metadata": {},
   "outputs": [],
   "source": [
    "yrftest = y_test\n",
    "yrfpred = y_pred"
   ]
  },
  {
   "cell_type": "code",
   "execution_count": 103,
   "metadata": {},
   "outputs": [
    {
     "name": "stdout",
     "output_type": "stream",
     "text": [
      "97.3658536585365\n"
     ]
    }
   ],
   "source": [
    "acc=0\n",
    "for ix in range(y_test.shape[0]) :\n",
    "     acc = acc + 100*(np.abs(y_test[i]-y_pred[i])/y_test[i])\n",
    "acc=(acc/y_test.shape[0])\n",
    "acc = 100-acc\n",
    "accrf = acc\n",
    "print(acc)"
   ]
  },
  {
   "cell_type": "code",
   "execution_count": 104,
   "metadata": {},
   "outputs": [
    {
     "name": "stderr",
     "output_type": "stream",
     "text": [
      "/usr/local/lib/python3.6/dist-packages/scipy/stats/stats.py:1713: FutureWarning: Using a non-tuple sequence for multidimensional indexing is deprecated; use `arr[tuple(seq)]` instead of `arr[seq]`. In the future this will be interpreted as an array index, `arr[np.array(seq)]`, which will result either in an error or a different result.\n",
      "  return np.add.reduce(sorted[indexer] * weights, axis=axis) / sumval\n"
     ]
    },
    {
     "data": {
      "image/png": "[encoded data removed]",
      "text/plain": [
       "<Figure size 864x504 with 1 Axes>"
      ]
     },
     "metadata": {},
     "output_type": "display_data"
    }
   ],
   "source": [
    "plt.figure(figsize=(12,7))\n",
    "sns.regplot(y_pred,y_test,color='teal', label = 'Random forest', marker = 'x')\n",
    "plt.legend()\n",
    "plt.title('Random forest - Excluding Genres')\n",
    "plt.xlabel('Predicted Ratings')\n",
    "plt.ylabel('Actual Ratings')\n",
    "plt.show()"
   ]
  },
  {
   "cell_type": "code",
   "execution_count": 105,
   "metadata": {},
   "outputs": [
    {
     "data": {
      "text/plain": [
       "[(10, 0.09444559818769926),\n",
       " (20, 0.09851663045082948),\n",
       " (30, 0.12022190266437582),\n",
       " (40, 0.1384354853688028),\n",
       " (50, 0.14493631090901304),\n",
       " (60, 0.14761528734670581),\n",
       " (70, 0.1436334603115378),\n",
       " (80, 0.13830270481917772),\n",
       " (90, 0.14279483819965444),\n",
       " (100, 0.14562275733734997),\n",
       " (110, 0.14881559481402296),\n",
       " (120, 0.14089151969824787),\n",
       " (130, 0.15230208710617055),\n",
       " (140, 0.14958102449210575),\n",
       " (150, 0.14867014431837622),\n",
       " (160, 0.13856547257057794),\n",
       " (170, 0.1451614245372792),\n",
       " (180, 0.15085271367081543),\n",
       " (190, 0.14374339387716373)]"
      ]
     },
     "execution_count": 105,
     "metadata": {},
     "output_type": "execute_result"
    },
    {
     "data": {
      "image/png": "[encoded data removed]",
      "text/plain": [
       "<Figure size 504x360 with 1 Axes>"
      ]
     },
     "metadata": {},
     "output_type": "display_data"
    }
   ],
   "source": [
    "estimators = np.arange(10, 200, 10)\n",
    "scores = []\n",
    "for n in estimators:\n",
    "    model.set_params(n_estimators=n)\n",
    "    model.fit(X_train, y_train)\n",
    "    scores.append(model.score(X_test, y_test))\n",
    "plt.figure(figsize=(7, 5))\n",
    "plt.title(\"Effect of Estimators\")\n",
    "plt.xlabel(\"no. estimator\")\n",
    "plt.ylabel(\"score\")\n",
    "plt.plot(estimators, scores)\n",
    "results = list(zip(estimators,scores))\n",
    "results"
   ]
  },
  {
   "cell_type": "markdown",
   "metadata": {},
   "source": [
    "## Using SVM "
   ]
  },
  {
   "cell_type": "code",
   "execution_count": 212,
   "metadata": {},
   "outputs": [],
   "source": [
    "from sklearn import svm"
   ]
  },
  {
   "cell_type": "code",
   "execution_count": 213,
   "metadata": {},
   "outputs": [],
   "source": [
    "df1 = dfnew.copy(deep=True)\n",
    "cols_to_norm = ['Size','Installs', 'Reviews','Price']\n",
    "dfnew[cols_to_norm] = dfnew[cols_to_norm].apply(lambda x: (1000)*((x - x.min()) / (x.max() - x.min())))\n",
    "# print(df1)"
   ]
  },
  {
   "cell_type": "code",
   "execution_count": 214,
   "metadata": {},
   "outputs": [],
   "source": [
    "X = df1.drop(labels = ['Category','Rating','Genres','Genres_c'],axis = 1).values\n",
    "y = df1.Rating.values"
   ]
  },
  {
   "cell_type": "code",
   "execution_count": 215,
   "metadata": {},
   "outputs": [],
   "source": [
    "X_train, X_test, y_train, y_test = train_test_split(X, y, test_size=0.30,random_state=rs)"
   ]
  },
  {
   "cell_type": "code",
   "execution_count": 216,
   "metadata": {},
   "outputs": [
    {
     "data": {
      "text/plain": [
       "SVR(C=1.0, cache_size=200, coef0=0.0, degree=3, epsilon=0.1, gamma='auto',\n",
       "  kernel='rbf', max_iter=-1, shrinking=True, tol=0.001, verbose=False)"
      ]
     },
     "execution_count": 216,
     "metadata": {},
     "output_type": "execute_result"
    }
   ],
   "source": [
    "model2 = svm.SVR()\n",
    "model2.fit(X_train,y_train)"
   ]
  },
  {
   "cell_type": "code",
   "execution_count": 217,
   "metadata": {},
   "outputs": [],
   "source": [
    "Results2 = model2.predict(X_test)"
   ]
  },
  {
   "cell_type": "markdown",
   "metadata": {},
   "source": [
    "## Error metrics"
   ]
  },
  {
   "cell_type": "code",
   "execution_count": 218,
   "metadata": {
    "scrolled": true
   },
   "outputs": [
    {
     "name": "stdout",
     "output_type": "stream",
     "text": [
      "Mean Squared Error: 0.27343760666481276\n",
      "Root Mean Squared Error: 0.5229126185748559\n",
      "Mean absolute Error: 0.34740232566465135\n",
      "Mean squared Log Error: 0.013422970688015639\n"
     ]
    }
   ],
   "source": [
    "Evaluationmatrix(y_test,Results2)"
   ]
  },
  {
   "cell_type": "code",
   "execution_count": 219,
   "metadata": {},
   "outputs": [
    {
     "data": {
      "text/plain": [
       "-0.0124899010920565"
      ]
     },
     "execution_count": 219,
     "metadata": {},
     "output_type": "execute_result"
    }
   ],
   "source": [
    "model2.score(X_test ,y_test)"
   ]
  },
  {
   "cell_type": "code",
   "execution_count": 220,
   "metadata": {},
   "outputs": [],
   "source": [
    "ysvmtest = y_test\n",
    "ysvmpred = Results2"
   ]
  },
  {
   "cell_type": "code",
   "execution_count": 221,
   "metadata": {},
   "outputs": [
    {
     "name": "stdout",
     "output_type": "stream",
     "text": [
      "97.73861214246904\n"
     ]
    }
   ],
   "source": [
    "acc=0\n",
    "for ix in range(y_test.shape[0]) :\n",
    "     acc = acc + 100*(np.abs(y_test[i]-Results2[i])/y_test[i])\n",
    "acc =(acc/y_test.shape[0])\n",
    "acc = 100-acc\n",
    "accsvm = acc\n",
    "print(acc)"
   ]
  },
  {
   "cell_type": "code",
   "execution_count": 222,
   "metadata": {},
   "outputs": [
    {
     "name": "stderr",
     "output_type": "stream",
     "text": [
      "/usr/local/lib/python3.6/dist-packages/scipy/stats/stats.py:1713: FutureWarning: Using a non-tuple sequence for multidimensional indexing is deprecated; use `arr[tuple(seq)]` instead of `arr[seq]`. In the future this will be interpreted as an array index, `arr[np.array(seq)]`, which will result either in an error or a different result.\n",
      "  return np.add.reduce(sorted[indexer] * weights, axis=axis) / sumval\n"
     ]
    },
    {
     "data": {
      "image/png": "[encoded data removed]",
      "text/plain": [
       "<Figure size 864x504 with 1 Axes>"
      ]
     },
     "metadata": {},
     "output_type": "display_data"
    }
   ],
   "source": [
    "plt.figure(figsize=(12,7))\n",
    "sns.regplot(Results2,y_test,color='teal', label = 'Integer', marker = 'x')\n",
    "plt.legend()\n",
    "plt.title('SVM model - excluding Genres')\n",
    "plt.xlabel('Predicted Ratings')\n",
    "plt.ylabel('Actual Ratings')\n",
    "plt.show()"
   ]
  },
  {
   "cell_type": "markdown",
   "metadata": {},
   "source": [
    "## Using Neural Networks "
   ]
  },
  {
   "cell_type": "code",
   "execution_count": 223,
   "metadata": {},
   "outputs": [],
   "source": [
    "import torch\n",
    "from torch.autograd import Variable\n",
    "import torch\n",
    "import torch.nn as nn\n",
    "import torch.nn.functional as F\n",
    "import torch.utils.data as Data"
   ]
  },
  {
   "cell_type": "code",
   "execution_count": 224,
   "metadata": {
    "scrolled": true
   },
   "outputs": [
    {
     "data": {
      "text/plain": [
       "<torch._C.Generator at 0x7fbb34b96d10>"
      ]
     },
     "execution_count": 224,
     "metadata": {},
     "output_type": "execute_result"
    }
   ],
   "source": [
    "torch.manual_seed(1) "
   ]
  },
  {
   "cell_type": "code",
   "execution_count": 225,
   "metadata": {},
   "outputs": [],
   "source": [
    "df1 = dfnew.copy(deep=True)\n",
    "cols_to_norm = ['Size','Installs', 'Reviews','Price']\n",
    "dfnew[cols_to_norm] = dfnew[cols_to_norm].apply(lambda x: (100000)*((x - x.min()) / (x.max() - x.min())))"
   ]
  },
  {
   "cell_type": "code",
   "execution_count": 226,
   "metadata": {},
   "outputs": [],
   "source": [
    "X = df1.drop(labels = ['Category','Rating','Genres','Genres_c'],axis = 1).values\n",
    "y = df2.Rating.values"
   ]
  },
  {
   "cell_type": "code",
   "execution_count": 227,
   "metadata": {
    "scrolled": true
   },
   "outputs": [
    {
     "name": "stdout",
     "output_type": "stream",
     "text": [
      "<class 'numpy.ndarray'>\n",
      "<class 'numpy.ndarray'>\n"
     ]
    }
   ],
   "source": [
    "print(type(X))\n",
    "print(type(y))"
   ]
  },
  {
   "cell_type": "code",
   "execution_count": 228,
   "metadata": {},
   "outputs": [
    {
     "name": "stdout",
     "output_type": "stream",
     "text": [
      "[[2.02153821e-03 1.89931144e+02 9.99900001e-03 ... 0.00000000e+00\n",
      "  0.00000000e+00 0.00000000e+00]\n",
      " [1.23595311e-02 1.39926894e+02 4.99999000e-01 ... 0.00000000e+00\n",
      "  0.00000000e+00 0.00000000e+00]\n",
      " [1.11963789e+00 8.69223884e+01 4.99999900e+00 ... 0.00000000e+00\n",
      "  0.00000000e+00 0.00000000e+00]\n",
      " ...\n",
      " [3.83836369e-05 3.59180530e+01 9.90000001e-05 ... 0.00000000e+00\n",
      "  0.00000000e+00 1.80000000e+01]\n",
      " [1.44578366e-03 3.59180530e+01 9.99000001e-04 ... 0.00000000e+00\n",
      "  3.00000000e+00 3.00000000e+00]\n",
      " [5.09614429e+00 1.89931144e+02 9.99999901e+00 ... 0.00000000e+00\n",
      "  0.00000000e+00 1.60000000e+01]]\n"
     ]
    }
   ],
   "source": [
    "print(X)\n",
    "# pytorch.set_default_tensor_type('torch.DoubleTensor')"
   ]
  },
  {
   "cell_type": "code",
   "execution_count": 229,
   "metadata": {},
   "outputs": [
    {
     "name": "stdout",
     "output_type": "stream",
     "text": [
      "<class 'pandas.core.frame.DataFrame'>\n",
      "Int64Index: 9360 entries, 0 to 10840\n",
      "Data columns (total 11 columns):\n",
      "Category          9360 non-null object\n",
      "Rating            9360 non-null float64\n",
      "Reviews           9360 non-null float64\n",
      "Size              9360 non-null float64\n",
      "Installs          9360 non-null float64\n",
      "Type              9360 non-null int64\n",
      "Price             9360 non-null float64\n",
      "Content Rating    9360 non-null int64\n",
      "Genres            9360 non-null object\n",
      "Category_c        9360 non-null int64\n",
      "Genres_c          9360 non-null int64\n",
      "dtypes: float64(5), int64(4), object(2)\n",
      "memory usage: 877.5+ KB\n"
     ]
    }
   ],
   "source": [
    "X\n",
    "df.info()"
   ]
  },
  {
   "cell_type": "code",
   "execution_count": 230,
   "metadata": {},
   "outputs": [],
   "source": [
    "rs=0"
   ]
  },
  {
   "cell_type": "code",
   "execution_count": 231,
   "metadata": {},
   "outputs": [],
   "source": [
    "X_train, X_test, y_train, y_test = train_test_split(X, y, test_size=0.20,random_state=rs)"
   ]
  },
  {
   "cell_type": "code",
   "execution_count": 232,
   "metadata": {},
   "outputs": [],
   "source": [
    "y_train = y_train.reshape((-1,1))\n",
    "y_test = y_test.reshape((-1,1))"
   ]
  },
  {
   "cell_type": "code",
   "execution_count": 233,
   "metadata": {},
   "outputs": [
    {
     "data": {
      "text/plain": [
       "(7488, 1)"
      ]
     },
     "execution_count": 233,
     "metadata": {},
     "output_type": "execute_result"
    }
   ],
   "source": [
    "y_train.shape"
   ]
  },
  {
   "cell_type": "code",
   "execution_count": 234,
   "metadata": {},
   "outputs": [],
   "source": [
    "X_trainNN = torch.from_numpy(X_train)\n",
    "X_testNN = torch.from_numpy(X_test)\n",
    "y_trainNN = torch.from_numpy(y_train)\n",
    "y_testNN = torch.from_numpy(y_test)"
   ]
  },
  {
   "cell_type": "code",
   "execution_count": 235,
   "metadata": {},
   "outputs": [
    {
     "name": "stdout",
     "output_type": "stream",
     "text": [
      "7\n"
     ]
    }
   ],
   "source": [
    "features = X_train.shape[1]\n",
    "print(features)"
   ]
  },
  {
   "cell_type": "code",
   "execution_count": 236,
   "metadata": {},
   "outputs": [],
   "source": [
    "x = Variable(X_trainNN, requires_grad=True)\n",
    "y = Variable(y_trainNN)"
   ]
  },
  {
   "cell_type": "code",
   "execution_count": 237,
   "metadata": {
    "scrolled": true
   },
   "outputs": [
    {
     "name": "stdout",
     "output_type": "stream",
     "text": [
      "torch.Size([7488, 7])\n",
      "torch.Size([7488, 1])\n"
     ]
    }
   ],
   "source": [
    "x = x.float()\n",
    "y = y.float()\n",
    "print(x.shape)\n",
    "print(y.shape)"
   ]
  },
  {
   "cell_type": "code",
   "execution_count": 238,
   "metadata": {},
   "outputs": [
    {
     "name": "stdout",
     "output_type": "stream",
     "text": [
      "tensor([[ 2.9000],\n",
      "        [ 4.2000],\n",
      "        [ 3.9000],\n",
      "        ...,\n",
      "        [ 4.4000],\n",
      "        [ 4.2000],\n",
      "        [ 4.3000]])\n"
     ]
    }
   ],
   "source": [
    "print(y)"
   ]
  },
  {
   "cell_type": "code",
   "execution_count": 239,
   "metadata": {},
   "outputs": [],
   "source": [
    "class Net(torch.nn.Module):\n",
    "    def __init__(self, n_feature, n_hidden, n_output):\n",
    "        super(Net, self).__init__()\n",
    "        # hidden layers\n",
    "        self.hidden1 = torch.nn.Linear(n_feature, n_hidden)\n",
    "        self.hidden2 = torch.nn.Linear(n_hidden, n_hidden)\n",
    "        self.hidden3 = torch.nn.Linear(n_hidden, n_hidden)\n",
    "        self.out = torch.nn.Linear(n_hidden, n_output)   # output layer\n",
    "\n",
    "    def forward(self, x):\n",
    "        x = F.relu(self.hidden1(x))\n",
    "        x = F.relu(self.hidden2(x))\n",
    "        x = F.relu(self.hidden3(x))\n",
    "        x = self.out(x)\n",
    "        return x"
   ]
  },
  {
   "cell_type": "code",
   "execution_count": 240,
   "metadata": {},
   "outputs": [],
   "source": [
    "# net = net.double()"
   ]
  },
  {
   "cell_type": "code",
   "execution_count": 241,
   "metadata": {
    "scrolled": true
   },
   "outputs": [
    {
     "name": "stdout",
     "output_type": "stream",
     "text": [
      "Net(\n",
      "  (hidden1): Linear(in_features=7, out_features=64, bias=True)\n",
      "  (hidden2): Linear(in_features=64, out_features=64, bias=True)\n",
      "  (hidden3): Linear(in_features=64, out_features=64, bias=True)\n",
      "  (out): Linear(in_features=64, out_features=1, bias=True)\n",
      ")\n"
     ]
    }
   ],
   "source": [
    "net = Net(n_feature=features, n_hidden=64, n_output=1)     # define the network\n",
    "print(net)"
   ]
  },
  {
   "cell_type": "markdown",
   "metadata": {},
   "source": [
    "## In case of loading predefined model"
   ]
  },
  {
   "cell_type": "code",
   "execution_count": 242,
   "metadata": {},
   "outputs": [],
   "source": [
    "# net = Net(n_feature=features, n_hidden=64, n_output=1)     # define the network\n",
    "# net = torch.load('mytraining.pt')\n",
    "# net.eval()"
   ]
  },
  {
   "cell_type": "markdown",
   "metadata": {},
   "source": [
    "## continued..."
   ]
  },
  {
   "cell_type": "code",
   "execution_count": 243,
   "metadata": {},
   "outputs": [],
   "source": [
    "optimizer = torch.optim.Adam(net.parameters(), lr=0.001)\n",
    "loss_func = torch.nn.MSELoss()"
   ]
  },
  {
   "cell_type": "code",
   "execution_count": 244,
   "metadata": {},
   "outputs": [],
   "source": [
    "no_of_epochs = 500"
   ]
  },
  {
   "cell_type": "markdown",
   "metadata": {},
   "source": [
    "## In case of training"
   ]
  },
  {
   "cell_type": "code",
   "execution_count": 245,
   "metadata": {
    "scrolled": false
   },
   "outputs": [
    {
     "name": "stdout",
     "output_type": "stream",
     "text": [
      "torch.Size([7488, 1])\n",
      "127.62845\n",
      "torch.Size([7488, 1])\n",
      "80.00297\n",
      "torch.Size([7488, 1])\n",
      "45.97943\n",
      "torch.Size([7488, 1])\n",
      "24.558084\n",
      "torch.Size([7488, 1])\n",
      "13.243162\n",
      "torch.Size([7488, 1])\n",
      "10.04913\n",
      "torch.Size([7488, 1])\n",
      "11.050549\n",
      "torch.Size([7488, 1])\n",
      "13.475681\n",
      "torch.Size([7488, 1])\n",
      "15.622099\n",
      "torch.Size([7488, 1])\n",
      "16.547306\n",
      "torch.Size([7488, 1])\n",
      "16.121834\n",
      "torch.Size([7488, 1])\n",
      "14.791624\n",
      "torch.Size([7488, 1])\n",
      "13.011105\n",
      "torch.Size([7488, 1])\n",
      "11.22961\n",
      "torch.Size([7488, 1])\n",
      "9.789499\n",
      "torch.Size([7488, 1])\n",
      "8.804991\n",
      "torch.Size([7488, 1])\n",
      "8.255498\n",
      "torch.Size([7488, 1])\n",
      "8.080057\n",
      "torch.Size([7488, 1])\n",
      "8.142354\n",
      "torch.Size([7488, 1])\n",
      "8.300129\n",
      "torch.Size([7488, 1])\n",
      "8.405061\n",
      "torch.Size([7488, 1])\n",
      "8.382051\n",
      "torch.Size([7488, 1])\n",
      "8.234071\n",
      "torch.Size([7488, 1])\n",
      "8.007797\n",
      "torch.Size([7488, 1])\n",
      "7.772944\n",
      "torch.Size([7488, 1])\n",
      "7.597689\n",
      "torch.Size([7488, 1])\n",
      "7.5151906\n",
      "torch.Size([7488, 1])\n",
      "7.5040627\n",
      "torch.Size([7488, 1])\n",
      "7.4962344\n",
      "torch.Size([7488, 1])\n",
      "7.426314\n",
      "torch.Size([7488, 1])\n",
      "7.2817693\n",
      "torch.Size([7488, 1])\n",
      "7.0948315\n",
      "torch.Size([7488, 1])\n",
      "6.9138327\n",
      "torch.Size([7488, 1])\n",
      "6.814644\n",
      "torch.Size([7488, 1])\n",
      "6.6783814\n",
      "torch.Size([7488, 1])\n",
      "6.599732\n",
      "torch.Size([7488, 1])\n",
      "6.499084\n",
      "torch.Size([7488, 1])\n",
      "6.3591537\n",
      "torch.Size([7488, 1])\n",
      "6.180215\n",
      "torch.Size([7488, 1])\n",
      "5.992098\n",
      "torch.Size([7488, 1])\n",
      "5.82559\n",
      "torch.Size([7488, 1])\n",
      "5.677053\n",
      "torch.Size([7488, 1])\n",
      "5.566078\n",
      "torch.Size([7488, 1])\n",
      "5.414251\n",
      "torch.Size([7488, 1])\n",
      "5.2133307\n",
      "torch.Size([7488, 1])\n",
      "5.0037994\n",
      "torch.Size([7488, 1])\n",
      "4.818145\n",
      "torch.Size([7488, 1])\n",
      "4.6554875\n",
      "torch.Size([7488, 1])\n",
      "4.4860015\n",
      "torch.Size([7488, 1])\n",
      "4.2932544\n",
      "torch.Size([7488, 1])\n",
      "4.0976796\n",
      "torch.Size([7488, 1])\n",
      "3.9187431\n",
      "torch.Size([7488, 1])\n",
      "3.7372556\n",
      "torch.Size([7488, 1])\n",
      "3.587924\n",
      "torch.Size([7488, 1])\n",
      "3.378513\n",
      "torch.Size([7488, 1])\n",
      "3.257216\n",
      "torch.Size([7488, 1])\n",
      "3.1360857\n",
      "torch.Size([7488, 1])\n",
      "2.9593277\n",
      "torch.Size([7488, 1])\n",
      "2.8356407\n",
      "torch.Size([7488, 1])\n",
      "2.7381728\n",
      "torch.Size([7488, 1])\n",
      "2.613553\n",
      "torch.Size([7488, 1])\n",
      "2.540279\n",
      "torch.Size([7488, 1])\n",
      "2.4970288\n",
      "torch.Size([7488, 1])\n",
      "2.4443853\n",
      "torch.Size([7488, 1])\n",
      "2.4119315\n",
      "torch.Size([7488, 1])\n",
      "2.3894491\n",
      "torch.Size([7488, 1])\n",
      "2.3625207\n",
      "torch.Size([7488, 1])\n",
      "2.3589244\n",
      "torch.Size([7488, 1])\n",
      "2.3607237\n",
      "torch.Size([7488, 1])\n",
      "2.3589194\n",
      "torch.Size([7488, 1])\n",
      "2.362199\n",
      "torch.Size([7488, 1])\n",
      "2.3567681\n",
      "torch.Size([7488, 1])\n",
      "2.3448794\n",
      "torch.Size([7488, 1])\n",
      "2.3349242\n",
      "torch.Size([7488, 1])\n",
      "2.3187222\n",
      "torch.Size([7488, 1])\n",
      "2.3027596\n",
      "torch.Size([7488, 1])\n",
      "2.2888222\n",
      "torch.Size([7488, 1])\n",
      "2.268697\n",
      "torch.Size([7488, 1])\n",
      "2.2492511\n",
      "torch.Size([7488, 1])\n",
      "2.2333784\n",
      "torch.Size([7488, 1])\n",
      "2.2161703\n",
      "torch.Size([7488, 1])\n",
      "2.2041507\n",
      "torch.Size([7488, 1])\n",
      "2.197553\n",
      "torch.Size([7488, 1])\n",
      "2.1879728\n",
      "torch.Size([7488, 1])\n",
      "2.1833606\n",
      "torch.Size([7488, 1])\n",
      "2.1784248\n",
      "torch.Size([7488, 1])\n",
      "2.1713817\n",
      "torch.Size([7488, 1])\n",
      "2.167645\n",
      "torch.Size([7488, 1])\n",
      "2.1615674\n",
      "torch.Size([7488, 1])\n",
      "2.156718\n",
      "torch.Size([7488, 1])\n",
      "2.1537983\n",
      "torch.Size([7488, 1])\n",
      "2.1498492\n",
      "torch.Size([7488, 1])\n",
      "2.1475458\n",
      "torch.Size([7488, 1])\n",
      "2.1438594\n",
      "torch.Size([7488, 1])\n",
      "2.138797\n",
      "torch.Size([7488, 1])\n",
      "2.1344233\n",
      "torch.Size([7488, 1])\n",
      "2.128598\n",
      "torch.Size([7488, 1])\n",
      "2.1237838\n",
      "torch.Size([7488, 1])\n",
      "2.1189914\n",
      "torch.Size([7488, 1])\n",
      "2.1135542\n",
      "torch.Size([7488, 1])\n",
      "2.1091306\n",
      "torch.Size([7488, 1])\n",
      "2.1040277\n",
      "torch.Size([7488, 1])\n",
      "2.0998445\n",
      "torch.Size([7488, 1])\n",
      "2.0955632\n",
      "torch.Size([7488, 1])\n",
      "2.0912478\n",
      "torch.Size([7488, 1])\n",
      "2.0875733\n",
      "torch.Size([7488, 1])\n",
      "2.083194\n",
      "torch.Size([7488, 1])\n",
      "2.0792544\n",
      "torch.Size([7488, 1])\n",
      "2.0749311\n",
      "torch.Size([7488, 1])\n",
      "2.0700433\n",
      "torch.Size([7488, 1])\n",
      "2.06484\n",
      "torch.Size([7488, 1])\n",
      "2.0579777\n",
      "torch.Size([7488, 1])\n",
      "2.0494308\n",
      "torch.Size([7488, 1])\n",
      "2.042413\n",
      "torch.Size([7488, 1])\n",
      "2.0388303\n",
      "torch.Size([7488, 1])\n",
      "2.0356224\n",
      "torch.Size([7488, 1])\n",
      "2.0304792\n",
      "torch.Size([7488, 1])\n",
      "2.0225804\n",
      "torch.Size([7488, 1])\n",
      "2.0125728\n",
      "torch.Size([7488, 1])\n",
      "2.0039818\n",
      "torch.Size([7488, 1])\n",
      "1.9992692\n",
      "torch.Size([7488, 1])\n",
      "1.9952317\n",
      "torch.Size([7488, 1])\n",
      "1.9891361\n",
      "torch.Size([7488, 1])\n",
      "1.9858245\n",
      "torch.Size([7488, 1])\n",
      "1.9795967\n",
      "torch.Size([7488, 1])\n",
      "1.9747596\n",
      "torch.Size([7488, 1])\n",
      "1.9688666\n",
      "torch.Size([7488, 1])\n",
      "1.9649177\n",
      "torch.Size([7488, 1])\n",
      "1.9568024\n",
      "torch.Size([7488, 1])\n",
      "1.949744\n",
      "torch.Size([7488, 1])\n",
      "1.9441217\n",
      "torch.Size([7488, 1])\n",
      "1.9390128\n",
      "torch.Size([7488, 1])\n",
      "1.9325454\n",
      "torch.Size([7488, 1])\n",
      "1.9255135\n",
      "torch.Size([7488, 1])\n",
      "1.9195862\n",
      "torch.Size([7488, 1])\n",
      "1.9136689\n",
      "torch.Size([7488, 1])\n",
      "1.9075457\n",
      "torch.Size([7488, 1])\n",
      "1.9007901\n",
      "torch.Size([7488, 1])\n",
      "1.8947382\n",
      "torch.Size([7488, 1])\n",
      "1.8892127\n",
      "torch.Size([7488, 1])\n",
      "1.8837813\n",
      "torch.Size([7488, 1])\n",
      "1.8761526\n",
      "torch.Size([7488, 1])\n",
      "1.8681803\n",
      "torch.Size([7488, 1])\n",
      "1.8631554\n",
      "torch.Size([7488, 1])\n",
      "1.8591392\n",
      "torch.Size([7488, 1])\n",
      "1.8523529\n",
      "torch.Size([7488, 1])\n",
      "1.8424222\n",
      "torch.Size([7488, 1])\n",
      "1.8347013\n",
      "torch.Size([7488, 1])\n",
      "1.8306837\n",
      "torch.Size([7488, 1])\n",
      "1.8228667\n",
      "torch.Size([7488, 1])\n",
      "1.813878\n",
      "torch.Size([7488, 1])\n",
      "1.8064674\n",
      "torch.Size([7488, 1])\n",
      "1.8003724\n",
      "torch.Size([7488, 1])\n",
      "1.7941521\n",
      "torch.Size([7488, 1])\n",
      "1.7861074\n",
      "torch.Size([7488, 1])\n",
      "1.7776364\n",
      "torch.Size([7488, 1])\n",
      "1.7690753\n",
      "torch.Size([7488, 1])\n",
      "1.7620811\n",
      "torch.Size([7488, 1])\n",
      "1.7564437\n",
      "torch.Size([7488, 1])\n",
      "1.75626\n",
      "torch.Size([7488, 1])\n",
      "1.7585323\n",
      "torch.Size([7488, 1])\n",
      "1.7472081\n",
      "torch.Size([7488, 1])\n",
      "1.7257894\n",
      "torch.Size([7488, 1])\n",
      "1.7148064\n",
      "torch.Size([7488, 1])\n",
      "1.7191056\n",
      "torch.Size([7488, 1])\n",
      "1.717534\n",
      "torch.Size([7488, 1])\n",
      "1.6944706\n",
      "torch.Size([7488, 1])\n",
      "1.6789144\n",
      "torch.Size([7488, 1])\n",
      "1.6772808\n",
      "torch.Size([7488, 1])\n",
      "1.6723032\n",
      "torch.Size([7488, 1])\n",
      "1.6575868\n",
      "torch.Size([7488, 1])\n",
      "1.6429489\n",
      "torch.Size([7488, 1])\n",
      "1.6359311\n",
      "torch.Size([7488, 1])\n",
      "1.63343\n",
      "torch.Size([7488, 1])\n",
      "1.628798\n",
      "torch.Size([7488, 1])\n",
      "1.6167604\n",
      "torch.Size([7488, 1])\n",
      "1.5953753\n",
      "torch.Size([7488, 1])\n",
      "1.5820951\n",
      "torch.Size([7488, 1])\n",
      "1.578262\n",
      "torch.Size([7488, 1])\n",
      "1.5811044\n",
      "torch.Size([7488, 1])\n",
      "1.5928917\n",
      "torch.Size([7488, 1])\n",
      "1.5706856\n",
      "torch.Size([7488, 1])\n",
      "1.5455128\n",
      "torch.Size([7488, 1])\n",
      "1.5200375\n",
      "torch.Size([7488, 1])\n",
      "1.5141596\n",
      "torch.Size([7488, 1])\n",
      "1.5214121\n",
      "torch.Size([7488, 1])\n",
      "1.5118307\n",
      "torch.Size([7488, 1])\n",
      "1.4936758\n",
      "torch.Size([7488, 1])\n",
      "1.4671713\n",
      "torch.Size([7488, 1])\n",
      "1.4549636\n",
      "torch.Size([7488, 1])\n",
      "1.4546916\n",
      "torch.Size([7488, 1])\n",
      "1.4571261\n",
      "torch.Size([7488, 1])\n",
      "1.4642681\n",
      "torch.Size([7488, 1])\n",
      "1.4347761\n",
      "torch.Size([7488, 1])\n",
      "1.4058712\n",
      "torch.Size([7488, 1])\n",
      "1.3777444\n",
      "torch.Size([7488, 1])\n",
      "1.3643776\n",
      "torch.Size([7488, 1])\n",
      "1.364321\n",
      "torch.Size([7488, 1])\n",
      "1.3698063\n",
      "torch.Size([7488, 1])\n",
      "1.3930367\n",
      "torch.Size([7488, 1])\n",
      "1.3577224\n",
      "torch.Size([7488, 1])\n",
      "1.3202826\n",
      "torch.Size([7488, 1])\n",
      "1.2888595\n",
      "torch.Size([7488, 1])\n",
      "1.2845405\n",
      "torch.Size([7488, 1])\n",
      "1.3106542\n",
      "torch.Size([7488, 1])\n",
      "1.3410684\n",
      "torch.Size([7488, 1])\n",
      "1.4160861\n",
      "torch.Size([7488, 1])\n",
      "1.273959\n",
      "torch.Size([7488, 1])\n",
      "1.2144997\n",
      "torch.Size([7488, 1])\n",
      "1.2436463\n",
      "torch.Size([7488, 1])\n",
      "1.239032\n",
      "torch.Size([7488, 1])\n",
      "1.207725\n",
      "torch.Size([7488, 1])\n",
      "1.170647\n",
      "torch.Size([7488, 1])\n",
      "1.1920105\n",
      "torch.Size([7488, 1])\n",
      "1.2320799\n",
      "torch.Size([7488, 1])\n",
      "1.1594979\n",
      "torch.Size([7488, 1])\n",
      "1.1191024\n",
      "torch.Size([7488, 1])\n",
      "1.1178571\n",
      "torch.Size([7488, 1])\n",
      "1.1378642\n",
      "torch.Size([7488, 1])\n",
      "1.1759641\n",
      "torch.Size([7488, 1])\n",
      "1.1363863\n",
      "torch.Size([7488, 1])\n",
      "1.0981271\n",
      "torch.Size([7488, 1])\n",
      "1.0535157\n",
      "torch.Size([7488, 1])\n",
      "1.0432914\n",
      "torch.Size([7488, 1])\n",
      "1.0601885\n",
      "torch.Size([7488, 1])\n",
      "1.0682182\n",
      "torch.Size([7488, 1])\n",
      "1.077339\n",
      "torch.Size([7488, 1])\n",
      "1.0292139\n",
      "torch.Size([7488, 1])\n",
      "0.99284905\n",
      "torch.Size([7488, 1])\n",
      "0.9699283\n",
      "torch.Size([7488, 1])\n",
      "0.96489394\n",
      "torch.Size([7488, 1])\n",
      "0.9775144\n",
      "torch.Size([7488, 1])\n",
      "0.99830204\n",
      "torch.Size([7488, 1])\n",
      "1.0648919\n",
      "torch.Size([7488, 1])\n",
      "1.0199447\n",
      "torch.Size([7488, 1])\n",
      "0.99646467\n",
      "torch.Size([7488, 1])\n",
      "0.9028684\n",
      "torch.Size([7488, 1])\n",
      "0.91133994\n",
      "torch.Size([7488, 1])\n",
      "0.96967065\n",
      "torch.Size([7488, 1])\n",
      "0.8912551\n",
      "torch.Size([7488, 1])\n",
      "0.8565773\n",
      "torch.Size([7488, 1])\n",
      "0.8814106\n",
      "torch.Size([7488, 1])\n",
      "0.88252664\n",
      "torch.Size([7488, 1])\n",
      "0.88768196\n",
      "torch.Size([7488, 1])\n",
      "0.837847\n",
      "torch.Size([7488, 1])\n",
      "0.80826616\n",
      "torch.Size([7488, 1])\n",
      "0.78630805\n",
      "torch.Size([7488, 1])\n",
      "0.7757244\n",
      "torch.Size([7488, 1])\n",
      "0.7766208\n",
      "torch.Size([7488, 1])\n",
      "0.7994587\n",
      "torch.Size([7488, 1])\n",
      "0.9217671\n",
      "torch.Size([7488, 1])\n",
      "1.016738\n",
      "torch.Size([7488, 1])\n",
      "1.2310112\n",
      "torch.Size([7488, 1])\n",
      "0.7316193\n",
      "torch.Size([7488, 1])\n",
      "1.0849494\n",
      "torch.Size([7488, 1])\n",
      "1.2270447\n",
      "torch.Size([7488, 1])\n",
      "0.9130011\n",
      "torch.Size([7488, 1])\n"
     ]
    },
    {
     "name": "stdout",
     "output_type": "stream",
     "text": [
      "1.1983865\n",
      "torch.Size([7488, 1])\n",
      "0.7764416\n",
      "torch.Size([7488, 1])\n",
      "1.0423614\n",
      "torch.Size([7488, 1])\n",
      "0.7990416\n",
      "torch.Size([7488, 1])\n",
      "0.9671047\n",
      "torch.Size([7488, 1])\n",
      "0.72361606\n",
      "torch.Size([7488, 1])\n",
      "0.87926435\n",
      "torch.Size([7488, 1])\n",
      "0.6896085\n",
      "torch.Size([7488, 1])\n",
      "0.9331022\n",
      "torch.Size([7488, 1])\n",
      "0.7384294\n",
      "torch.Size([7488, 1])\n",
      "0.7584852\n",
      "torch.Size([7488, 1])\n",
      "0.79733264\n",
      "torch.Size([7488, 1])\n",
      "0.62788594\n",
      "torch.Size([7488, 1])\n",
      "0.74725133\n",
      "torch.Size([7488, 1])\n",
      "0.6196917\n",
      "torch.Size([7488, 1])\n",
      "0.6601343\n",
      "torch.Size([7488, 1])\n",
      "0.68043435\n",
      "torch.Size([7488, 1])\n",
      "0.56786764\n",
      "torch.Size([7488, 1])\n",
      "0.68603534\n",
      "torch.Size([7488, 1])\n",
      "0.6714799\n",
      "torch.Size([7488, 1])\n",
      "0.5246408\n",
      "torch.Size([7488, 1])\n",
      "1.0127281\n",
      "torch.Size([7488, 1])\n",
      "2.2094626\n",
      "torch.Size([7488, 1])\n",
      "0.69180477\n",
      "torch.Size([7488, 1])\n",
      "2.545923\n",
      "torch.Size([7488, 1])\n",
      "0.82519764\n",
      "torch.Size([7488, 1])\n",
      "1.8277992\n",
      "torch.Size([7488, 1])\n",
      "0.9877597\n",
      "torch.Size([7488, 1])\n",
      "1.1831344\n",
      "torch.Size([7488, 1])\n",
      "1.328502\n",
      "torch.Size([7488, 1])\n",
      "0.79586154\n",
      "torch.Size([7488, 1])\n",
      "1.217493\n",
      "torch.Size([7488, 1])\n",
      "1.0609107\n",
      "torch.Size([7488, 1])\n",
      "0.7566147\n",
      "torch.Size([7488, 1])\n",
      "1.1391966\n",
      "torch.Size([7488, 1])\n",
      "0.7533256\n",
      "torch.Size([7488, 1])\n",
      "0.84891254\n",
      "torch.Size([7488, 1])\n",
      "0.9295356\n",
      "torch.Size([7488, 1])\n",
      "0.6937919\n",
      "torch.Size([7488, 1])\n",
      "0.8541681\n",
      "torch.Size([7488, 1])\n",
      "0.78322923\n",
      "torch.Size([7488, 1])\n",
      "0.6904875\n",
      "torch.Size([7488, 1])\n",
      "0.8169395\n",
      "torch.Size([7488, 1])\n",
      "0.6781277\n",
      "torch.Size([7488, 1])\n",
      "0.7100141\n",
      "torch.Size([7488, 1])\n",
      "0.731729\n",
      "torch.Size([7488, 1])\n",
      "0.6275383\n",
      "torch.Size([7488, 1])\n",
      "0.71165234\n",
      "torch.Size([7488, 1])\n",
      "0.6251424\n",
      "torch.Size([7488, 1])\n",
      "0.63499147\n",
      "torch.Size([7488, 1])\n",
      "0.63589555\n",
      "torch.Size([7488, 1])\n",
      "0.57422787\n",
      "torch.Size([7488, 1])\n",
      "0.61755985\n",
      "torch.Size([7488, 1])\n",
      "0.54603016\n",
      "torch.Size([7488, 1])\n",
      "0.58242464\n",
      "torch.Size([7488, 1])\n",
      "0.5355338\n",
      "torch.Size([7488, 1])\n",
      "0.54127973\n",
      "torch.Size([7488, 1])\n",
      "0.5304663\n",
      "torch.Size([7488, 1])\n",
      "0.5102111\n",
      "torch.Size([7488, 1])\n",
      "0.5214373\n",
      "torch.Size([7488, 1])\n",
      "0.49935144\n",
      "torch.Size([7488, 1])\n",
      "0.5034373\n",
      "torch.Size([7488, 1])\n",
      "0.48526466\n",
      "torch.Size([7488, 1])\n",
      "0.4844367\n",
      "torch.Size([7488, 1])\n",
      "0.47566703\n",
      "torch.Size([7488, 1])\n",
      "0.4680198\n",
      "torch.Size([7488, 1])\n",
      "0.4650069\n",
      "torch.Size([7488, 1])\n",
      "0.4501647\n",
      "torch.Size([7488, 1])\n",
      "0.45500475\n",
      "torch.Size([7488, 1])\n",
      "0.43510357\n",
      "torch.Size([7488, 1])\n",
      "0.4448944\n",
      "torch.Size([7488, 1])\n",
      "0.42254052\n",
      "torch.Size([7488, 1])\n",
      "0.43045056\n",
      "torch.Size([7488, 1])\n",
      "0.41507247\n",
      "torch.Size([7488, 1])\n",
      "0.41462046\n",
      "torch.Size([7488, 1])\n",
      "0.41101402\n",
      "torch.Size([7488, 1])\n",
      "0.39991555\n",
      "torch.Size([7488, 1])\n",
      "0.4038267\n",
      "torch.Size([7488, 1])\n",
      "0.39031324\n",
      "torch.Size([7488, 1])\n",
      "0.38979796\n",
      "torch.Size([7488, 1])\n",
      "0.385154\n",
      "torch.Size([7488, 1])\n",
      "0.3757732\n",
      "torch.Size([7488, 1])\n",
      "0.3768182\n",
      "torch.Size([7488, 1])\n",
      "0.36837724\n",
      "torch.Size([7488, 1])\n",
      "0.3642419\n",
      "torch.Size([7488, 1])\n",
      "0.3632343\n",
      "torch.Size([7488, 1])\n",
      "0.35526806\n",
      "torch.Size([7488, 1])\n",
      "0.35302618\n",
      "torch.Size([7488, 1])\n",
      "0.35151002\n",
      "torch.Size([7488, 1])\n",
      "0.34493175\n",
      "torch.Size([7488, 1])\n",
      "0.34269404\n",
      "torch.Size([7488, 1])\n",
      "0.34226853\n",
      "torch.Size([7488, 1])\n",
      "0.33744642\n",
      "torch.Size([7488, 1])\n",
      "0.33455727\n",
      "torch.Size([7488, 1])\n",
      "0.33434582\n",
      "torch.Size([7488, 1])\n",
      "0.33182988\n",
      "torch.Size([7488, 1])\n",
      "0.3278465\n",
      "torch.Size([7488, 1])\n",
      "0.32515568\n",
      "torch.Size([7488, 1])\n",
      "0.32417458\n",
      "torch.Size([7488, 1])\n",
      "0.32340452\n",
      "torch.Size([7488, 1])\n",
      "0.32147515\n",
      "torch.Size([7488, 1])\n",
      "0.31918842\n",
      "torch.Size([7488, 1])\n",
      "0.3165415\n",
      "torch.Size([7488, 1])\n",
      "0.3142604\n",
      "torch.Size([7488, 1])\n",
      "0.3123929\n",
      "torch.Size([7488, 1])\n",
      "0.31090665\n",
      "torch.Size([7488, 1])\n",
      "0.30980366\n",
      "torch.Size([7488, 1])\n",
      "0.309084\n",
      "torch.Size([7488, 1])\n",
      "0.30907762\n",
      "torch.Size([7488, 1])\n",
      "0.31006798\n",
      "torch.Size([7488, 1])\n",
      "0.3139274\n",
      "torch.Size([7488, 1])\n",
      "0.32264152\n",
      "torch.Size([7488, 1])\n",
      "0.3490166\n",
      "torch.Size([7488, 1])\n",
      "0.39070708\n",
      "torch.Size([7488, 1])\n",
      "0.4996061\n",
      "torch.Size([7488, 1])\n",
      "0.4553952\n",
      "torch.Size([7488, 1])\n",
      "0.39261162\n",
      "torch.Size([7488, 1])\n",
      "0.31271902\n",
      "torch.Size([7488, 1])\n",
      "0.38680524\n",
      "torch.Size([7488, 1])\n",
      "0.3856686\n",
      "torch.Size([7488, 1])\n",
      "0.3170582\n",
      "torch.Size([7488, 1])\n",
      "0.38124508\n",
      "torch.Size([7488, 1])\n",
      "0.3654635\n",
      "torch.Size([7488, 1])\n",
      "0.31558198\n",
      "torch.Size([7488, 1])\n",
      "0.37291175\n",
      "torch.Size([7488, 1])\n",
      "0.3567728\n",
      "torch.Size([7488, 1])\n",
      "0.31190705\n",
      "torch.Size([7488, 1])\n",
      "0.35907197\n",
      "torch.Size([7488, 1])\n",
      "0.35734636\n",
      "torch.Size([7488, 1])\n",
      "0.30694392\n",
      "torch.Size([7488, 1])\n",
      "0.33931446\n",
      "torch.Size([7488, 1])\n",
      "0.35726875\n",
      "torch.Size([7488, 1])\n",
      "0.30771646\n",
      "torch.Size([7488, 1])\n",
      "0.3175203\n",
      "torch.Size([7488, 1])\n",
      "0.34890547\n",
      "torch.Size([7488, 1])\n",
      "0.31841588\n",
      "torch.Size([7488, 1])\n",
      "0.2971769\n",
      "torch.Size([7488, 1])\n",
      "0.31691903\n",
      "torch.Size([7488, 1])\n",
      "0.3284915\n",
      "torch.Size([7488, 1])\n",
      "0.31929013\n",
      "torch.Size([7488, 1])\n",
      "0.29856917\n",
      "torch.Size([7488, 1])\n",
      "0.2955367\n",
      "torch.Size([7488, 1])\n",
      "0.30832013\n",
      "torch.Size([7488, 1])\n",
      "0.31985742\n",
      "torch.Size([7488, 1])\n",
      "0.32727543\n",
      "torch.Size([7488, 1])\n",
      "0.31867018\n",
      "torch.Size([7488, 1])\n",
      "0.30992547\n",
      "torch.Size([7488, 1])\n",
      "0.29810542\n",
      "torch.Size([7488, 1])\n",
      "0.29146552\n",
      "torch.Size([7488, 1])\n",
      "0.2894572\n",
      "torch.Size([7488, 1])\n",
      "0.29157424\n",
      "torch.Size([7488, 1])\n",
      "0.29684174\n",
      "torch.Size([7488, 1])\n",
      "0.3018624\n",
      "torch.Size([7488, 1])\n",
      "0.30967253\n",
      "torch.Size([7488, 1])\n",
      "0.31133032\n",
      "torch.Size([7488, 1])\n",
      "0.31706926\n",
      "torch.Size([7488, 1])\n",
      "0.30946892\n",
      "torch.Size([7488, 1])\n",
      "0.30183202\n",
      "torch.Size([7488, 1])\n",
      "0.29025885\n",
      "torch.Size([7488, 1])\n",
      "0.28641716\n",
      "torch.Size([7488, 1])\n",
      "0.29085374\n",
      "torch.Size([7488, 1])\n",
      "0.29611853\n",
      "torch.Size([7488, 1])\n",
      "0.29853094\n",
      "torch.Size([7488, 1])\n",
      "0.2938466\n",
      "torch.Size([7488, 1])\n",
      "0.2894224\n",
      "torch.Size([7488, 1])\n",
      "0.28490612\n",
      "torch.Size([7488, 1])\n",
      "0.2823046\n",
      "torch.Size([7488, 1])\n",
      "0.2812896\n",
      "torch.Size([7488, 1])\n",
      "0.2816734\n",
      "torch.Size([7488, 1])\n",
      "0.2840481\n",
      "torch.Size([7488, 1])\n",
      "0.29101548\n",
      "torch.Size([7488, 1])\n",
      "0.31377894\n",
      "torch.Size([7488, 1])\n",
      "0.3713\n",
      "torch.Size([7488, 1])\n",
      "0.56400007\n",
      "torch.Size([7488, 1])\n",
      "0.61737806\n",
      "torch.Size([7488, 1])\n",
      "0.6942062\n",
      "torch.Size([7488, 1])\n",
      "0.3188556\n",
      "torch.Size([7488, 1])\n",
      "0.49314755\n",
      "torch.Size([7488, 1])\n",
      "0.56397915\n",
      "torch.Size([7488, 1])\n",
      "0.32281426\n",
      "torch.Size([7488, 1])\n",
      "0.57302713\n",
      "torch.Size([7488, 1])\n",
      "0.3842967\n",
      "torch.Size([7488, 1])\n",
      "0.4169637\n",
      "torch.Size([7488, 1])\n",
      "0.46747634\n",
      "torch.Size([7488, 1])\n",
      "0.32475734\n",
      "torch.Size([7488, 1])\n",
      "0.45312035\n",
      "torch.Size([7488, 1])\n",
      "0.3342894\n",
      "torch.Size([7488, 1])\n",
      "0.4025803\n",
      "torch.Size([7488, 1])\n",
      "0.3774658\n",
      "torch.Size([7488, 1])\n",
      "0.34671044\n",
      "torch.Size([7488, 1])\n",
      "0.3994722\n",
      "torch.Size([7488, 1])\n",
      "0.31588113\n",
      "torch.Size([7488, 1])\n",
      "0.36907974\n",
      "torch.Size([7488, 1])\n",
      "0.3298913\n",
      "torch.Size([7488, 1])\n",
      "0.32315528\n",
      "torch.Size([7488, 1])\n",
      "0.34787694\n",
      "torch.Size([7488, 1])\n",
      "0.30374202\n",
      "torch.Size([7488, 1])\n",
      "0.33433214\n",
      "torch.Size([7488, 1])\n",
      "0.3219108\n",
      "torch.Size([7488, 1])\n",
      "0.29893553\n",
      "torch.Size([7488, 1])\n",
      "0.32868466\n",
      "torch.Size([7488, 1])\n",
      "0.3055809\n",
      "torch.Size([7488, 1])\n",
      "0.29221612\n",
      "torch.Size([7488, 1])\n",
      "0.31286618\n",
      "torch.Size([7488, 1])\n",
      "0.30438828\n",
      "torch.Size([7488, 1])\n",
      "0.284719\n",
      "torch.Size([7488, 1])\n",
      "0.29917774\n",
      "torch.Size([7488, 1])\n",
      "0.3141684\n",
      "torch.Size([7488, 1])\n",
      "0.29669815\n",
      "torch.Size([7488, 1])\n",
      "0.2829454\n",
      "torch.Size([7488, 1])\n",
      "0.2885369\n",
      "torch.Size([7488, 1])\n",
      "0.3006826\n",
      "torch.Size([7488, 1])\n",
      "0.30600253\n",
      "torch.Size([7488, 1])\n",
      "0.29439992\n",
      "torch.Size([7488, 1])\n",
      "0.2831015\n",
      "torch.Size([7488, 1])\n",
      "0.27883533\n",
      "torch.Size([7488, 1])\n",
      "0.2828404\n",
      "torch.Size([7488, 1])\n",
      "0.29071227\n",
      "torch.Size([7488, 1])\n",
      "0.29441926\n",
      "torch.Size([7488, 1])\n",
      "0.29529962\n",
      "torch.Size([7488, 1])\n",
      "0.28794262\n",
      "torch.Size([7488, 1])\n",
      "0.28051496\n",
      "torch.Size([7488, 1])\n",
      "0.27549645\n",
      "torch.Size([7488, 1])\n",
      "0.27592632\n",
      "torch.Size([7488, 1])\n",
      "0.2795653\n",
      "torch.Size([7488, 1])\n",
      "0.28120676\n",
      "torch.Size([7488, 1])\n",
      "0.27932405\n",
      "torch.Size([7488, 1])\n",
      "0.27551818\n",
      "torch.Size([7488, 1])\n",
      "0.2742213\n",
      "torch.Size([7488, 1])\n",
      "0.27569163\n",
      "torch.Size([7488, 1])\n",
      "0.27732635\n",
      "torch.Size([7488, 1])\n",
      "0.27738732\n",
      "torch.Size([7488, 1])\n",
      "0.2754465\n",
      "torch.Size([7488, 1])\n",
      "0.27368748\n",
      "torch.Size([7488, 1])\n",
      "0.27313557\n",
      "torch.Size([7488, 1])\n",
      "0.2736095\n",
      "torch.Size([7488, 1])\n",
      "0.27462277\n",
      "torch.Size([7488, 1])\n",
      "0.27537516\n",
      "torch.Size([7488, 1])\n",
      "0.27579126\n",
      "torch.Size([7488, 1])\n",
      "0.27568832\n",
      "torch.Size([7488, 1])\n",
      "0.2757536\n",
      "torch.Size([7488, 1])\n",
      "0.27566248\n",
      "torch.Size([7488, 1])\n",
      "0.27589008\n"
     ]
    }
   ],
   "source": [
    "for t in range(no_of_epochs):\n",
    "    prediction = net(x)     # input x and predict based on x\n",
    "    print(prediction.shape)\n",
    "\n",
    "    loss = loss_func(prediction, y)     # must be (1. nn output, 2. target)\n",
    "\n",
    "    optimizer.zero_grad()   # clear gradients for next train\n",
    "    loss.backward()         # backpropagation, compute gradients\n",
    "    optimizer.step()        # apply gradients\n",
    "    print(loss.data.numpy())"
   ]
  },
  {
   "cell_type": "markdown",
   "metadata": {},
   "source": [
    "## after training...or loading"
   ]
  },
  {
   "cell_type": "code",
   "execution_count": 246,
   "metadata": {},
   "outputs": [
    {
     "name": "stdout",
     "output_type": "stream",
     "text": [
      "(7488, 1)\n",
      "(7488, 1)\n",
      "tensor([[ 2.9000],\n",
      "        [ 4.2000],\n",
      "        [ 3.9000],\n",
      "        ...,\n",
      "        [ 4.4000],\n",
      "        [ 4.2000],\n",
      "        [ 4.3000]])\n"
     ]
    }
   ],
   "source": [
    "# prediction = net(x) \n",
    "pred =prediction.data.numpy()\n",
    "print(pred.shape)\n",
    "print(y_train.shape)\n",
    "print(y)"
   ]
  },
  {
   "cell_type": "code",
   "execution_count": 247,
   "metadata": {},
   "outputs": [
    {
     "data": {
      "image/png": "[encoded data removed]",
      "text/plain": [
       "<Figure size 864x504 with 1 Axes>"
      ]
     },
     "metadata": {},
     "output_type": "display_data"
    }
   ],
   "source": [
    "plt.figure(figsize=(12,7))\n",
    "plt.scatter(prediction.data.numpy(),y_trainNN,color='teal', label = 'Integer', marker = 'x')\n",
    "plt.legend()\n",
    "plt.title('Neural Network model')\n",
    "plt.xlabel('Predicted Ratings')\n",
    "plt.ylabel('Actual Ratings')\n",
    "plt.show()"
   ]
  },
  {
   "cell_type": "code",
   "execution_count": 248,
   "metadata": {
    "scrolled": false
   },
   "outputs": [
    {
     "data": {
      "image/png": "[encoded data removed]",
      "text/plain": [
       "<Figure size 432x288 with 1 Axes>"
      ]
     },
     "metadata": {},
     "output_type": "display_data"
    }
   ],
   "source": [
    "# plt.figure(figsize=(10,5))\n",
    "plt.scatter(y_trainNN,np.abs(prediction.data.numpy()-y_trainNN))\n",
    "# plt.legend()\n",
    "plt.title('Neural Network model')\n",
    "plt.ylabel('Error in Ratings')\n",
    "plt.xlabel('Actual Ratings')\n",
    "plt.show()"
   ]
  },
  {
   "cell_type": "code",
   "execution_count": 249,
   "metadata": {},
   "outputs": [],
   "source": [
    "# plt.figure(figsize=(10,5))\n",
    "# plt.plot(y_trainNN,np.abs(prediction.data.numpy()-y_trainNN))\n",
    "# plt.legend()\n",
    "# plt.title('Neural Network model')\n",
    "# plt.ylabel('Error in Ratings')\n",
    "# plt.xlabel('Actual Ratings')\n",
    "# plt.show()"
   ]
  },
  {
   "cell_type": "code",
   "execution_count": 250,
   "metadata": {},
   "outputs": [],
   "source": [
    "xt = Variable(X_testNN, requires_grad=True)\n",
    "yt = Variable(y_testNN)\n",
    "xt = xt.float()\n",
    "yt = yt.float()\n",
    "y_pred = net(xt)\n",
    "y_pred =y_pred.data.numpy()"
   ]
  },
  {
   "cell_type": "code",
   "execution_count": 251,
   "metadata": {},
   "outputs": [
    {
     "name": "stdout",
     "output_type": "stream",
     "text": [
      "[90.95306396]\n"
     ]
    }
   ],
   "source": [
    "acc=0\n",
    "for ix in range(y_test.shape[0]) :\n",
    "     acc = acc + 100*(np.abs(y_test[i]-y_pred[i])/y_test[i])\n",
    "acc = (acc/y_test.shape[0])\n",
    "acc = 100 -acc\n",
    "print(acc)\n",
    "accnn =acc"
   ]
  },
  {
   "cell_type": "code",
   "execution_count": 157,
   "metadata": {},
   "outputs": [
    {
     "name": "stderr",
     "output_type": "stream",
     "text": [
      "/home/arjun/.local/lib/python3.6/site-packages/torch/serialization.py:193: UserWarning: Couldn't retrieve source code for container of type Net. It won't be checked for correctness upon loading.\n",
      "  \"type \" + obj.__name__ + \". It won't be checked \"\n"
     ]
    }
   ],
   "source": [
    "# PATH ='./mytraining.pt'\n",
    "# torch.save(net, PATH)"
   ]
  },
  {
   "cell_type": "code",
   "execution_count": null,
   "metadata": {},
   "outputs": [],
   "source": [
    "X_test"
   ]
  },
  {
   "cell_type": "code",
   "execution_count": null,
   "metadata": {},
   "outputs": [],
   "source": []
  },
  {
   "cell_type": "markdown",
   "metadata": {},
   "source": [
    "## Finally , Conclusions"
   ]
  },
  {
   "cell_type": "markdown",
   "metadata": {},
   "source": [
    "### Linear regression"
   ]
  },
  {
   "cell_type": "code",
   "execution_count": 147,
   "metadata": {},
   "outputs": [
    {
     "name": "stdout",
     "output_type": "stream",
     "text": [
      "Mean Squared Error: 0.2673431154564481\n",
      "Root Mean Squared Error: 0.5170523333826549\n",
      "Mean absolute Error: 0.3559645506964455\n",
      "Mean squared Log Error: 0.013225150564220519\n"
     ]
    }
   ],
   "source": [
    "Evaluationmatrix(ylintest,ylinpred)"
   ]
  },
  {
   "cell_type": "code",
   "execution_count": 148,
   "metadata": {},
   "outputs": [
    {
     "name": "stdout",
     "output_type": "stream",
     "text": [
      "Accuracy = 92.31073029028525\n"
     ]
    }
   ],
   "source": [
    "print(\"Accuracy = \"+str(acclin))"
   ]
  },
  {
   "cell_type": "markdown",
   "metadata": {},
   "source": [
    "### Knn regressor"
   ]
  },
  {
   "cell_type": "code",
   "execution_count": 149,
   "metadata": {},
   "outputs": [
    {
     "name": "stdout",
     "output_type": "stream",
     "text": [
      "Mean Squared Error: 0.26594548907882243\n",
      "Root Mean Squared Error: 0.5156990295500103\n",
      "Mean absolute Error: 0.3563532763532764\n",
      "Mean squared Log Error: 0.013113331778564285\n"
     ]
    }
   ],
   "source": [
    "Evaluationmatrix(yknntest,yknnpred)"
   ]
  },
  {
   "cell_type": "code",
   "execution_count": 150,
   "metadata": {},
   "outputs": [
    {
     "name": "stdout",
     "output_type": "stream",
     "text": [
      "Accuracy = 92.31073029028525\n"
     ]
    }
   ],
   "source": [
    "print(\"Accuracy = \"+str(accknn))"
   ]
  },
  {
   "cell_type": "markdown",
   "metadata": {},
   "source": [
    "### Random Forest Regressor"
   ]
  },
  {
   "cell_type": "code",
   "execution_count": 151,
   "metadata": {},
   "outputs": [
    {
     "name": "stdout",
     "output_type": "stream",
     "text": [
      "Mean Squared Error: 0.22881318850344257\n",
      "Root Mean Squared Error: 0.4783442155011834\n",
      "Mean absolute Error: 0.3119321866096866\n",
      "Mean squared Log Error: 0.01139770818386856\n"
     ]
    }
   ],
   "source": [
    "Evaluationmatrix(yrftest, yrfpred)"
   ]
  },
  {
   "cell_type": "code",
   "execution_count": 152,
   "metadata": {},
   "outputs": [
    {
     "name": "stdout",
     "output_type": "stream",
     "text": [
      "Accuracy = 97.3658536585365\n"
     ]
    }
   ],
   "source": [
    "print(\"Accuracy = \"+str(accrf))"
   ]
  },
  {
   "cell_type": "markdown",
   "metadata": {},
   "source": [
    "### SVM "
   ]
  },
  {
   "cell_type": "code",
   "execution_count": 153,
   "metadata": {},
   "outputs": [
    {
     "name": "stdout",
     "output_type": "stream",
     "text": [
      "Mean Squared Error: 0.2604653919510498\n",
      "Root Mean Squared Error: 0.5103581016806237\n",
      "Mean absolute Error: 0.3466939861641975\n",
      "Mean squared Log Error: 0.012910897657573066\n"
     ]
    }
   ],
   "source": [
    "Evaluationmatrix(ysvmtest, ysvmpred)"
   ]
  },
  {
   "cell_type": "code",
   "execution_count": 154,
   "metadata": {},
   "outputs": [
    {
     "name": "stdout",
     "output_type": "stream",
     "text": [
      "Accuracy = 97.74561998721879\n"
     ]
    }
   ],
   "source": [
    "print(\"Accuracy = \"+str(accsvm))"
   ]
  },
  {
   "cell_type": "markdown",
   "metadata": {},
   "source": [
    "### Neural networks"
   ]
  },
  {
   "cell_type": "code",
   "execution_count": 155,
   "metadata": {},
   "outputs": [
    {
     "name": "stdout",
     "output_type": "stream",
     "text": [
      "Mean Squared Error: 0.30482815201865326\n",
      "Root Mean Squared Error: 0.5521124450858297\n",
      "Mean absolute Error: 0.37993444196688825\n",
      "Mean squared Log Error: 0.014882255476473224\n"
     ]
    }
   ],
   "source": [
    "Evaluationmatrix(y_test ,y_pred)"
   ]
  },
  {
   "cell_type": "code",
   "execution_count": 156,
   "metadata": {},
   "outputs": [
    {
     "name": "stdout",
     "output_type": "stream",
     "text": [
      "Accuracy = [99.22709581]\n"
     ]
    }
   ],
   "source": [
    "print(\"Accuracy = \"+str(accnn))"
   ]
  },
  {
   "cell_type": "code",
   "execution_count": null,
   "metadata": {},
   "outputs": [],
   "source": []
  },
  {
   "cell_type": "code",
   "execution_count": null,
   "metadata": {},
   "outputs": [],
   "source": []
  }
 ],
 "metadata": {
  "kernelspec": {
   "display_name": "Python 3",
   "language": "python",
   "name": "python3"
  },
  "language_info": {
   "codemirror_mode": {
    "name": "ipython",
    "version": 3
   },
   "file_extension": ".py",
   "mimetype": "text/x-python",
   "name": "python",
   "nbconvert_exporter": "python",
   "pygments_lexer": "ipython3",
   "version": "3.6.7"
  }
 },
 "nbformat": 4,
 "nbformat_minor": 2
}
